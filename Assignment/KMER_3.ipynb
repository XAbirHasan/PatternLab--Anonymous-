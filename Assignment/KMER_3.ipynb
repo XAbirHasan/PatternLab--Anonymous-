{
  "nbformat": 4,
  "nbformat_minor": 0,
  "metadata": {
    "colab": {
      "name": "KMER 3.ipynb",
      "provenance": []
    },
    "kernelspec": {
      "name": "python3",
      "display_name": "Python 3"
    }
  },
  "cells": [
    {
      "cell_type": "code",
      "metadata": {
        "id": "REztwRw9O2mH",
        "colab_type": "code",
        "colab": {
          "base_uri": "https://localhost:8080/",
          "height": 54
        },
        "outputId": "6528a2f3-fbbb-4179-c6d2-b73f6a2eb29a"
      },
      "source": [
        "!pip install biopython"
      ],
      "execution_count": 37,
      "outputs": [
        {
          "output_type": "stream",
          "text": [
            "Requirement already satisfied: biopython in /usr/local/lib/python3.6/dist-packages (1.78)\n",
            "Requirement already satisfied: numpy in /usr/local/lib/python3.6/dist-packages (from biopython) (1.18.5)\n"
          ],
          "name": "stdout"
        }
      ]
    },
    {
      "cell_type": "code",
      "metadata": {
        "id": "fhweRYNcPfhI",
        "colab_type": "code",
        "colab": {
          "base_uri": "https://localhost:8080/",
          "height": 55
        },
        "outputId": "2e087c0b-300f-479c-ac32-8c58cb7a5de4"
      },
      "source": [
        "from google.colab import drive\n",
        "drive.mount('/content/drive')"
      ],
      "execution_count": 38,
      "outputs": [
        {
          "output_type": "stream",
          "text": [
            "Drive already mounted at /content/drive; to attempt to forcibly remount, call drive.mount(\"/content/drive\", force_remount=True).\n"
          ],
          "name": "stdout"
        }
      ]
    },
    {
      "cell_type": "code",
      "metadata": {
        "id": "V70Sd5kALejP",
        "colab_type": "code",
        "colab": {}
      },
      "source": [
        "from sklearn.model_selection import train_test_split\n",
        "import numpy as np\n",
        "from sklearn.svm import SVC\n",
        "from sklearn.metrics import accuracy_score\n",
        "from sklearn.model_selection import KFold"
      ],
      "execution_count": 39,
      "outputs": []
    },
    {
      "cell_type": "code",
      "metadata": {
        "id": "Bkibhn2DD9hU",
        "colab_type": "code",
        "colab": {}
      },
      "source": [
        "pos_5289 = \"/content/drive/My Drive/S.T.U.D.Y/11th Semester/Pattern Lab/Excel to Numpy/Output/3rd_pos_5289/kmer 3.npy\"\n",
        "neg_5289 = \"/content/drive/My Drive/S.T.U.D.Y/11th Semester/Pattern Lab/Excel to Numpy/Output/4th_neg_5289/kmer 3.npy\"\n",
        "pos_1000 = \"/content/drive/My Drive/S.T.U.D.Y/11th Semester/Pattern Lab/Excel to Numpy/Output/2nd_pos_1000/training_code_normalized_kmer 3.npy\"\n",
        "neg_1000 = \"/content/drive/My Drive/S.T.U.D.Y/11th Semester/Pattern Lab/Excel to Numpy/Output/1st_neg_1000/training_code_normalized_Kmer 3.npy\"\n",
        "\n",
        "x_train_pos = np.load(pos_5289) \n",
        "x_train_neg = np.load(neg_5289) \n",
        "x_test_pos = np.load(pos_1000) \n",
        "x_test_neg = np.load(neg_1000) \n",
        "\n",
        "y_train_pos = np.tile(1, 5289) \n",
        "y_train_neg = np.tile(0, 5289) \n",
        "y_test_pos = np.tile(1, 1000) \n",
        "y_test_neg = np.tile(0, 1000) "
      ],
      "execution_count": 40,
      "outputs": []
    },
    {
      "cell_type": "code",
      "metadata": {
        "colab_type": "code",
        "id": "ryFnjfojkrxZ",
        "colab": {
          "base_uri": "https://localhost:8080/",
          "height": 90
        },
        "outputId": "8e826afd-24fc-4998-81d5-4902c72373f8"
      },
      "source": [
        "print(x_test_neg.shape)\n",
        "print(y_test_neg.shape)\n",
        "\n",
        "print(x_train_neg.shape)\n",
        "print(y_train_neg.shape)\n"
      ],
      "execution_count": 41,
      "outputs": [
        {
          "output_type": "stream",
          "text": [
            "(1000, 64)\n",
            "(1000,)\n",
            "(5289, 64)\n",
            "(5289,)\n"
          ],
          "name": "stdout"
        }
      ]
    },
    {
      "cell_type": "code",
      "metadata": {
        "id": "NdfC-KxeJsY3",
        "colab_type": "code",
        "colab": {}
      },
      "source": [
        "seed = 42\n",
        "np.random.seed(seed)"
      ],
      "execution_count": 42,
      "outputs": []
    },
    {
      "cell_type": "code",
      "metadata": {
        "id": "KGdsVHeYJ3ag",
        "colab_type": "code",
        "colab": {}
      },
      "source": [
        "x_training = np.concatenate((x_train_pos, x_train_neg), axis= 0)\n",
        "y_training = np.concatenate((y_train_pos, y_train_neg))"
      ],
      "execution_count": 43,
      "outputs": []
    },
    {
      "cell_type": "code",
      "metadata": {
        "id": "Cex32MGfNR_Y",
        "colab_type": "code",
        "colab": {}
      },
      "source": [
        "x_test = np.concatenate((x_test_pos, x_test_neg))\n",
        "y_test = np.concatenate((y_test_pos, y_test_neg))"
      ],
      "execution_count": 44,
      "outputs": []
    },
    {
      "cell_type": "code",
      "metadata": {
        "id": "Mwihqsz7lG4W",
        "colab_type": "code",
        "colab": {
          "base_uri": "https://localhost:8080/",
          "height": 54
        },
        "outputId": "8263ed9f-3337-403d-f09c-b0ee113fbf91"
      },
      "source": [
        "print(x_test.shape)\n",
        "print(y_test.shape)"
      ],
      "execution_count": 45,
      "outputs": [
        {
          "output_type": "stream",
          "text": [
            "(2000, 64)\n",
            "(2000,)\n"
          ],
          "name": "stdout"
        }
      ]
    },
    {
      "cell_type": "code",
      "metadata": {
        "id": "KwxibWKGlMqS",
        "colab_type": "code",
        "colab": {
          "base_uri": "https://localhost:8080/",
          "height": 35
        },
        "outputId": "936722f8-1961-4949-c096-fd036b6aef13"
      },
      "source": [
        "print(x_training.shape)"
      ],
      "execution_count": 46,
      "outputs": [
        {
          "output_type": "stream",
          "text": [
            "(10578, 64)\n"
          ],
          "name": "stdout"
        }
      ]
    },
    {
      "cell_type": "code",
      "metadata": {
        "id": "nHtqFEfUlQhc",
        "colab_type": "code",
        "colab": {}
      },
      "source": [
        "def avg(list_value):\n",
        "    return sum(list_value)/len(list_value)"
      ],
      "execution_count": 47,
      "outputs": []
    },
    {
      "cell_type": "code",
      "metadata": {
        "id": "veZ7aQjkV_62",
        "colab_type": "code",
        "colab": {}
      },
      "source": [
        "def crossValidation(c, x_training, y_training, x_test, y_test):\n",
        "    kf = KFold(n_splits = 5, random_state=seed)\n",
        "    train_accuracy_avg_list = []\n",
        "    val_accuracy_avg_list = []\n",
        "    test_accuracy_list = []\n",
        "    for i in range(0, len(c)):\n",
        "        clf = SVC(C = c[i],  random_state = seed)\n",
        "        val_accuracy_list = []\n",
        "        train_accuracy_list = []\n",
        "        count = 1\n",
        "        for train_index, val_index in kf.split(x_training):\n",
        "            print(\"Fold : \",count)\n",
        "            X_train, X_val = x_training[train_index], x_training[val_index]\n",
        "            y_train, y_val = y_training[train_index], y_training[val_index]\n",
        "            \n",
        "            clf.fit(X_train, y_train)\n",
        "\n",
        "            y_val_pred = clf.predict(X_val)\n",
        "            val_accuracy = accuracy_score(y_val, y_val_pred)\n",
        "            val_accuracy_list.append(val_accuracy)\n",
        "\n",
        "            y_train_pred = clf.predict(X_train)\n",
        "            train_accuracy = accuracy_score(y_train, y_train_pred)\n",
        "            train_accuracy_list.append(train_accuracy)\n",
        "\n",
        "            count += 1 \n",
        "\n",
        "        print(\"done\", c[i])\n",
        "        train_accuracy_avg = avg(train_accuracy_list)\n",
        "        train_accuracy_avg_list.append(train_accuracy_avg)\n",
        "        val_accuracy_avg = avg(val_accuracy_list)\n",
        "        val_accuracy_avg_list.append(val_accuracy_avg)\n",
        "\n",
        "        y_test_pred = clf.predict(x_test)\n",
        "        test_accuracy = accuracy_score(y_test, y_test_pred)\n",
        "        test_accuracy_list.append(test_accuracy)\n",
        "    print(\"all done\")\n",
        "    return train_accuracy_avg_list.copy(), val_accuracy_avg_list.copy(), test_accuracy_list.copy()"
      ],
      "execution_count": 48,
      "outputs": []
    },
    {
      "cell_type": "code",
      "metadata": {
        "id": "hjFU6hGp15aO",
        "colab_type": "code",
        "colab": {}
      },
      "source": [
        "def print_accuracy(c, train_list, val_list, test_accuracy_list):\n",
        "    for i in range(0, len(c)):\n",
        "        print(\"c :\\t\", c[i], \"\\tTrain Accuracy :\\t\", train_list[i], \"\\tVal Accuracy :\\t\", val_list[i], \"\\tTest Accuracy :\\t\", test_accuracy_list[i])"
      ],
      "execution_count": 49,
      "outputs": []
    },
    {
      "cell_type": "code",
      "metadata": {
        "id": "ZyLHiqsVTTLz",
        "colab_type": "code",
        "colab": {}
      },
      "source": [
        "c = [1 , 10, 20, 30, 40, 50, 60, 70, 80, 90]"
      ],
      "execution_count": 50,
      "outputs": []
    },
    {
      "cell_type": "code",
      "metadata": {
        "id": "vSLmmK-U3UCZ",
        "colab_type": "code",
        "colab": {
          "base_uri": "https://localhost:8080/",
          "height": 1000
        },
        "outputId": "f4f3dbcc-d20f-4658-d270-18a1812c6242"
      },
      "source": [
        "train_accuracy_avg_list, val_accuracy_avg_list,test_accuracy_list = crossValidation(c.copy(), x_training.copy(), y_training.copy(), x_test.copy(), y_test.copy())"
      ],
      "execution_count": 51,
      "outputs": [
        {
          "output_type": "stream",
          "text": [
            "/usr/local/lib/python3.6/dist-packages/sklearn/model_selection/_split.py:296: FutureWarning: Setting a random_state has no effect since shuffle is False. This will raise an error in 0.24. You should leave random_state to its default (None), or set shuffle=True.\n",
            "  FutureWarning\n"
          ],
          "name": "stderr"
        },
        {
          "output_type": "stream",
          "text": [
            "Fold :  1\n",
            "Fold :  2\n",
            "Fold :  3\n",
            "Fold :  4\n",
            "Fold :  5\n",
            "done 1\n",
            "Fold :  1\n",
            "Fold :  2\n",
            "Fold :  3\n",
            "Fold :  4\n",
            "Fold :  5\n",
            "done 10\n",
            "Fold :  1\n",
            "Fold :  2\n",
            "Fold :  3\n",
            "Fold :  4\n",
            "Fold :  5\n",
            "done 20\n",
            "Fold :  1\n",
            "Fold :  2\n",
            "Fold :  3\n",
            "Fold :  4\n",
            "Fold :  5\n",
            "done 30\n",
            "Fold :  1\n",
            "Fold :  2\n",
            "Fold :  3\n",
            "Fold :  4\n",
            "Fold :  5\n",
            "done 40\n",
            "Fold :  1\n",
            "Fold :  2\n",
            "Fold :  3\n",
            "Fold :  4\n",
            "Fold :  5\n",
            "done 50\n",
            "Fold :  1\n",
            "Fold :  2\n",
            "Fold :  3\n",
            "Fold :  4\n",
            "Fold :  5\n",
            "done 60\n",
            "Fold :  1\n",
            "Fold :  2\n",
            "Fold :  3\n",
            "Fold :  4\n",
            "Fold :  5\n",
            "done 70\n",
            "Fold :  1\n",
            "Fold :  2\n",
            "Fold :  3\n",
            "Fold :  4\n",
            "Fold :  5\n",
            "done 80\n",
            "Fold :  1\n",
            "Fold :  2\n",
            "Fold :  3\n",
            "Fold :  4\n",
            "Fold :  5\n",
            "done 90\n",
            "all done\n"
          ],
          "name": "stdout"
        }
      ]
    },
    {
      "cell_type": "code",
      "metadata": {
        "id": "lQZxb4cH3vJP",
        "colab_type": "code",
        "colab": {
          "base_uri": "https://localhost:8080/",
          "height": 219
        },
        "outputId": "293a1c67-3b91-4d9b-fc7d-87100c3def17"
      },
      "source": [
        "print_accuracy(c.copy(), train_accuracy_avg_list.copy(), val_accuracy_avg_list.copy(), test_accuracy_list.copy())"
      ],
      "execution_count": 52,
      "outputs": [
        {
          "output_type": "stream",
          "text": [
            "c :\t 1 \tTrain Accuracy :\t 0.9993382374646622 \tVal Accuracy :\t 0.9566121903587212 \tTest Accuracy :\t 0.895\n",
            "c :\t 10 \tTrain Accuracy :\t 1.0 \tVal Accuracy :\t 0.9662543181076746 \tTest Accuracy :\t 0.8855\n",
            "c :\t 20 \tTrain Accuracy :\t 1.0 \tVal Accuracy :\t 0.9662543181076746 \tTest Accuracy :\t 0.8855\n",
            "c :\t 30 \tTrain Accuracy :\t 1.0 \tVal Accuracy :\t 0.9662543181076746 \tTest Accuracy :\t 0.8855\n",
            "c :\t 40 \tTrain Accuracy :\t 1.0 \tVal Accuracy :\t 0.9662543181076746 \tTest Accuracy :\t 0.8855\n",
            "c :\t 50 \tTrain Accuracy :\t 1.0 \tVal Accuracy :\t 0.9662543181076746 \tTest Accuracy :\t 0.8855\n",
            "c :\t 60 \tTrain Accuracy :\t 1.0 \tVal Accuracy :\t 0.9662543181076746 \tTest Accuracy :\t 0.8855\n",
            "c :\t 70 \tTrain Accuracy :\t 1.0 \tVal Accuracy :\t 0.9662543181076746 \tTest Accuracy :\t 0.8855\n",
            "c :\t 80 \tTrain Accuracy :\t 1.0 \tVal Accuracy :\t 0.9662543181076746 \tTest Accuracy :\t 0.8855\n",
            "c :\t 90 \tTrain Accuracy :\t 1.0 \tVal Accuracy :\t 0.9662543181076746 \tTest Accuracy :\t 0.8855\n"
          ],
          "name": "stdout"
        }
      ]
    },
    {
      "cell_type": "code",
      "metadata": {
        "id": "UonvHe_JI8zu",
        "colab_type": "code",
        "colab": {
          "base_uri": "https://localhost:8080/",
          "height": 1000
        },
        "outputId": "7448d36d-e16f-4023-d6bb-95b9827d6960"
      },
      "source": [
        "c = [0.50, 0.90, 1.20, 2.20, 3, 4.5, 5.5, 6.5, 8, 9]\n",
        "train_accuracy_avg_list, val_accuracy_avg_list,test_accuracy_list  = crossValidation(c.copy(), x_training.copy(), y_training.copy(), x_test.copy(), y_test.copy())"
      ],
      "execution_count": 53,
      "outputs": [
        {
          "output_type": "stream",
          "text": [
            "/usr/local/lib/python3.6/dist-packages/sklearn/model_selection/_split.py:296: FutureWarning: Setting a random_state has no effect since shuffle is False. This will raise an error in 0.24. You should leave random_state to its default (None), or set shuffle=True.\n",
            "  FutureWarning\n"
          ],
          "name": "stderr"
        },
        {
          "output_type": "stream",
          "text": [
            "Fold :  1\n",
            "Fold :  2\n",
            "Fold :  3\n",
            "Fold :  4\n",
            "Fold :  5\n",
            "done 0.5\n",
            "Fold :  1\n",
            "Fold :  2\n",
            "Fold :  3\n",
            "Fold :  4\n",
            "Fold :  5\n",
            "done 0.9\n",
            "Fold :  1\n",
            "Fold :  2\n",
            "Fold :  3\n",
            "Fold :  4\n",
            "Fold :  5\n",
            "done 1.2\n",
            "Fold :  1\n",
            "Fold :  2\n",
            "Fold :  3\n",
            "Fold :  4\n",
            "Fold :  5\n",
            "done 2.2\n",
            "Fold :  1\n",
            "Fold :  2\n",
            "Fold :  3\n",
            "Fold :  4\n",
            "Fold :  5\n",
            "done 3\n",
            "Fold :  1\n",
            "Fold :  2\n",
            "Fold :  3\n",
            "Fold :  4\n",
            "Fold :  5\n",
            "done 4.5\n",
            "Fold :  1\n",
            "Fold :  2\n",
            "Fold :  3\n",
            "Fold :  4\n",
            "Fold :  5\n",
            "done 5.5\n",
            "Fold :  1\n",
            "Fold :  2\n",
            "Fold :  3\n",
            "Fold :  4\n",
            "Fold :  5\n",
            "done 6.5\n",
            "Fold :  1\n",
            "Fold :  2\n",
            "Fold :  3\n",
            "Fold :  4\n",
            "Fold :  5\n",
            "done 8\n",
            "Fold :  1\n",
            "Fold :  2\n",
            "Fold :  3\n",
            "Fold :  4\n",
            "Fold :  5\n",
            "done 9\n",
            "all done\n"
          ],
          "name": "stdout"
        }
      ]
    },
    {
      "cell_type": "code",
      "metadata": {
        "id": "TavAXVGaJqNk",
        "colab_type": "code",
        "colab": {
          "base_uri": "https://localhost:8080/",
          "height": 219
        },
        "outputId": "d00b83ec-a820-4933-b2f1-f8b1908fb228"
      },
      "source": [
        "print_accuracy(c.copy(), train_accuracy_avg_list.copy(), val_accuracy_avg_list.copy(), test_accuracy_list.copy())"
      ],
      "execution_count": 54,
      "outputs": [
        {
          "output_type": "stream",
          "text": [
            "c :\t 0.5 \tTrain Accuracy :\t 0.996667569005383 \tVal Accuracy :\t 0.9448904887673338 \tTest Accuracy :\t 0.9005\n",
            "c :\t 0.9 \tTrain Accuracy :\t 0.9992200648851635 \tVal Accuracy :\t 0.9552887601835838 \tTest Accuracy :\t 0.896\n",
            "c :\t 1.2 \tTrain Accuracy :\t 0.999669120128708 \tVal Accuracy :\t 0.9592592294663647 \tTest Accuracy :\t 0.894\n",
            "c :\t 2.2 \tTrain Accuracy :\t 0.9999527326438529 \tVal Accuracy :\t 0.9648365040421509 \tTest Accuracy :\t 0.8855\n",
            "c :\t 3 \tTrain Accuracy :\t 1.0 \tVal Accuracy :\t 0.9654035671032816 \tTest Accuracy :\t 0.886\n",
            "c :\t 4.5 \tTrain Accuracy :\t 1.0 \tVal Accuracy :\t 0.9661597554599204 \tTest Accuracy :\t 0.8855\n",
            "c :\t 5.5 \tTrain Accuracy :\t 1.0 \tVal Accuracy :\t 0.9662542734183324 \tTest Accuracy :\t 0.8855\n",
            "c :\t 6.5 \tTrain Accuracy :\t 1.0 \tVal Accuracy :\t 0.9663488360660866 \tTest Accuracy :\t 0.8855\n",
            "c :\t 8 \tTrain Accuracy :\t 1.0 \tVal Accuracy :\t 0.9662543181076746 \tTest Accuracy :\t 0.8855\n",
            "c :\t 9 \tTrain Accuracy :\t 1.0 \tVal Accuracy :\t 0.9662543181076746 \tTest Accuracy :\t 0.8855\n"
          ],
          "name": "stdout"
        }
      ]
    },
    {
      "cell_type": "code",
      "metadata": {
        "id": "YFSb-npkbX9S",
        "colab_type": "code",
        "colab": {}
      },
      "source": [
        "from sklearn.ensemble import RandomForestRegressor"
      ],
      "execution_count": 55,
      "outputs": []
    },
    {
      "cell_type": "code",
      "metadata": {
        "id": "cjDdbpmLlkgo",
        "colab_type": "code",
        "colab": {}
      },
      "source": [
        "def model_RandomForestRegressor(n_estimators, max_depth, x_training, y_training, x_test, y_test):\n",
        "    kf = KFold(n_splits = 5, random_state=seed)\n",
        "    train_accuracy_avg_list = []\n",
        "    val_accuracy_avg_list = []\n",
        "    test_accuracy_list = []\n",
        "    len_n_estimators = len(n_estimators)\n",
        "    flag = False\n",
        "    if(len_n_estimators > 1 and max_depth[0] is None ):\n",
        "        loop_goes = len_n_estimators\n",
        "        flag = True\n",
        "    else:\n",
        "        loop_goes = len(max_depth)\n",
        "\n",
        "    for i in range(0, loop_goes):\n",
        "        if(len_n_estimators > 1 and max_depth[0] is None ):\n",
        "            regr = RandomForestRegressor(n_estimators = n_estimators[i], max_depth = None, random_state = seed)\n",
        "        else:\n",
        "            regr = RandomForestRegressor(n_estimators = n_estimators[0], max_depth = max_depth[i], random_state = seed)\n",
        "\n",
        "        val_accuracy_list = []\n",
        "        train_accuracy_list = []\n",
        "        count = 1\n",
        "        for train_index, val_index in kf.split(x_training):\n",
        "            print(\"Fold : \",count)\n",
        "            X_train, X_val = x_training[train_index], x_training[val_index]\n",
        "            y_train, y_val = y_training[train_index], y_training[val_index]\n",
        "            \n",
        "            regr.fit(X_train, y_train)\n",
        "            \n",
        "            val_accuracy = regr.score(X_val, y_val)\n",
        "            val_accuracy_list.append(val_accuracy)\n",
        "\n",
        "            train_accuracy = regr.score(X_train, y_train)\n",
        "            train_accuracy_list.append(train_accuracy)\n",
        "\n",
        "            count += 1 \n",
        "        if(flag):\n",
        "            print(\"done\", n_estimators[i])\n",
        "        else :\n",
        "            print(\"done\", max_depth[i])\n",
        "        train_accuracy_avg = avg(train_accuracy_list)\n",
        "        train_accuracy_avg_list.append(train_accuracy_avg)\n",
        "        val_accuracy_avg = avg(val_accuracy_list)\n",
        "        val_accuracy_avg_list.append(val_accuracy_avg)\n",
        "\n",
        "        test_accuracy = regr.score(x_test, y_test)\n",
        "        test_accuracy_list.append(test_accuracy)\n",
        "    print(\"all done\")\n",
        "    return train_accuracy_avg_list.copy(), val_accuracy_avg_list.copy(), test_accuracy_list.copy()"
      ],
      "execution_count": 56,
      "outputs": []
    },
    {
      "cell_type": "code",
      "metadata": {
        "id": "RLDhtBqCm7Z4",
        "colab_type": "code",
        "colab": {}
      },
      "source": [
        "def print_accuracy_n_estimators(n_estimators, train_list, val_list, test_accuracy_list):\n",
        "    for i in range(0, len(n_estimators)):\n",
        "        print(\"n_estimators :\\t\", n_estimators[i], \"\\tTrain Accuracy :\\t\", train_list[i], \"\\tVal Accuracy :\\t\", val_list[i], \"\\tTest Accuracy :\\t\", test_accuracy_list[i])"
      ],
      "execution_count": 57,
      "outputs": []
    },
    {
      "cell_type": "code",
      "metadata": {
        "id": "kMRaXBCNmZNA",
        "colab_type": "code",
        "colab": {
          "base_uri": "https://localhost:8080/",
          "height": 965
        },
        "outputId": "5c586d5a-ea7d-43fd-a88f-770aa0c45349"
      },
      "source": [
        "n_estimators = [50, 100, 150, 200, 250, 300, 350, 400]\n",
        "max_depth = [None]\n",
        "train_accuracy_avg_list, val_accuracy_avg_list, test_accuracy_list  = model_RandomForestRegressor(n_estimators.copy(), max_depth, x_training.copy(), y_training.copy(), x_test.copy(), y_test.copy())"
      ],
      "execution_count": 58,
      "outputs": [
        {
          "output_type": "stream",
          "text": [
            "/usr/local/lib/python3.6/dist-packages/sklearn/model_selection/_split.py:296: FutureWarning: Setting a random_state has no effect since shuffle is False. This will raise an error in 0.24. You should leave random_state to its default (None), or set shuffle=True.\n",
            "  FutureWarning\n"
          ],
          "name": "stderr"
        },
        {
          "output_type": "stream",
          "text": [
            "Fold :  1\n",
            "Fold :  2\n",
            "Fold :  3\n",
            "Fold :  4\n",
            "Fold :  5\n",
            "done 50\n",
            "Fold :  1\n",
            "Fold :  2\n",
            "Fold :  3\n",
            "Fold :  4\n",
            "Fold :  5\n",
            "done 100\n",
            "Fold :  1\n",
            "Fold :  2\n",
            "Fold :  3\n",
            "Fold :  4\n",
            "Fold :  5\n",
            "done 150\n",
            "Fold :  1\n",
            "Fold :  2\n",
            "Fold :  3\n",
            "Fold :  4\n",
            "Fold :  5\n",
            "done 200\n",
            "Fold :  1\n",
            "Fold :  2\n",
            "Fold :  3\n",
            "Fold :  4\n",
            "Fold :  5\n",
            "done 250\n",
            "Fold :  1\n",
            "Fold :  2\n",
            "Fold :  3\n",
            "Fold :  4\n",
            "Fold :  5\n",
            "done 300\n",
            "Fold :  1\n",
            "Fold :  2\n",
            "Fold :  3\n",
            "Fold :  4\n",
            "Fold :  5\n",
            "done 350\n",
            "Fold :  1\n",
            "Fold :  2\n",
            "Fold :  3\n",
            "Fold :  4\n",
            "Fold :  5\n",
            "done 400\n",
            "all done\n"
          ],
          "name": "stdout"
        }
      ]
    },
    {
      "cell_type": "code",
      "metadata": {
        "colab_type": "code",
        "id": "KkNDCKXnrvFi",
        "colab": {
          "base_uri": "https://localhost:8080/",
          "height": 183
        },
        "outputId": "90cc0eec-4076-4746-cdbe-2181e48e1147"
      },
      "source": [
        "print_accuracy_n_estimators(n_estimators.copy(), train_accuracy_avg_list.copy(), val_accuracy_avg_list.copy(), test_accuracy_list.copy())"
      ],
      "execution_count": 59,
      "outputs": [
        {
          "output_type": "stream",
          "text": [
            "n_estimators :\t 50 \tTrain Accuracy :\t 0.9946909055473606 \tVal Accuracy :\t 0.1902313712352472 \tTest Accuracy :\t 0.16310560000000007\n",
            "n_estimators :\t 100 \tTrain Accuracy :\t 0.9950672422309635 \tVal Accuracy :\t 0.19070830927947413 \tTest Accuracy :\t 0.15421220000000013\n",
            "n_estimators :\t 150 \tTrain Accuracy :\t 0.9951859913471175 \tVal Accuracy :\t 0.1907327789505678 \tTest Accuracy :\t 0.17715662222222225\n",
            "n_estimators :\t 200 \tTrain Accuracy :\t 0.9952584916573952 \tVal Accuracy :\t 0.1907409747150835 \tTest Accuracy :\t 0.1819744000000001\n",
            "n_estimators :\t 250 \tTrain Accuracy :\t 0.9952693723508009 \tVal Accuracy :\t 0.19057536246883272 \tTest Accuracy :\t 0.1899628160000001\n",
            "n_estimators :\t 300 \tTrain Accuracy :\t 0.9953027633925247 \tVal Accuracy :\t 0.19059027094675968 \tTest Accuracy :\t 0.19336626666666665\n",
            "n_estimators :\t 350 \tTrain Accuracy :\t 0.995308449494714 \tVal Accuracy :\t 0.19058578689078393 \tTest Accuracy :\t 0.19246982857142847\n",
            "n_estimators :\t 400 \tTrain Accuracy :\t 0.9953188870578359 \tVal Accuracy :\t 0.19062213009095352 \tTest Accuracy :\t 0.18772961249999998\n"
          ],
          "name": "stdout"
        }
      ]
    },
    {
      "cell_type": "code",
      "metadata": {
        "id": "PzEhzQsuImI-",
        "colab_type": "code",
        "colab": {
          "base_uri": "https://localhost:8080/",
          "height": 855
        },
        "outputId": "2fbd7e04-16e6-427f-d6f5-8faf74d9f2e5"
      },
      "source": [
        "n_estimators = [50]\n",
        "max_depth = [1,5,10,15,20,25,30]\n",
        "train_accuracy_avg_list, val_accuracy_avg_list, test_accuracy_list  = model_RandomForestRegressor(n_estimators.copy(), max_depth, x_training.copy(), y_training.copy(), x_test.copy(), y_test.copy())"
      ],
      "execution_count": 62,
      "outputs": [
        {
          "output_type": "stream",
          "text": [
            "/usr/local/lib/python3.6/dist-packages/sklearn/model_selection/_split.py:296: FutureWarning: Setting a random_state has no effect since shuffle is False. This will raise an error in 0.24. You should leave random_state to its default (None), or set shuffle=True.\n",
            "  FutureWarning\n"
          ],
          "name": "stderr"
        },
        {
          "output_type": "stream",
          "text": [
            "Fold :  1\n",
            "Fold :  2\n",
            "Fold :  3\n",
            "Fold :  4\n",
            "Fold :  5\n",
            "done 1\n",
            "Fold :  1\n",
            "Fold :  2\n",
            "Fold :  3\n",
            "Fold :  4\n",
            "Fold :  5\n",
            "done 5\n",
            "Fold :  1\n",
            "Fold :  2\n",
            "Fold :  3\n",
            "Fold :  4\n",
            "Fold :  5\n",
            "done 10\n",
            "Fold :  1\n",
            "Fold :  2\n",
            "Fold :  3\n",
            "Fold :  4\n",
            "Fold :  5\n",
            "done 15\n",
            "Fold :  1\n",
            "Fold :  2\n",
            "Fold :  3\n",
            "Fold :  4\n",
            "Fold :  5\n",
            "done 20\n",
            "Fold :  1\n",
            "Fold :  2\n",
            "Fold :  3\n",
            "Fold :  4\n",
            "Fold :  5\n",
            "done 25\n",
            "Fold :  1\n",
            "Fold :  2\n",
            "Fold :  3\n",
            "Fold :  4\n",
            "Fold :  5\n",
            "done 30\n",
            "all done\n"
          ],
          "name": "stdout"
        }
      ]
    },
    {
      "cell_type": "code",
      "metadata": {
        "id": "HrRIqy68I8Hz",
        "colab_type": "code",
        "colab": {}
      },
      "source": [
        "def print_accuracy_max_depth(max_depth, train_list, val_list, test_accuracy_list):\n",
        "    for i in range(0, len(max_depth)):\n",
        "        print(\"max_depth :\\t\", max_depth[i], \"\\tTrain Accuracy :\\t\", train_list[i], \"\\tVal Accuracy :\\t\", val_list[i], \"\\tTest Accuracy :\\t\", test_accuracy_list[i])"
      ],
      "execution_count": 63,
      "outputs": []
    },
    {
      "cell_type": "code",
      "metadata": {
        "id": "8Ls_QuPTI25k",
        "colab_type": "code",
        "colab": {
          "base_uri": "https://localhost:8080/",
          "height": 165
        },
        "outputId": "50ba0392-d920-421e-f304-693c1c087f67"
      },
      "source": [
        "print_accuracy_max_depth(max_depth.copy(), train_accuracy_avg_list.copy(), val_accuracy_avg_list.copy(), test_accuracy_list.copy())"
      ],
      "execution_count": 64,
      "outputs": [
        {
          "output_type": "stream",
          "text": [
            "max_depth :\t 1 \tTrain Accuracy :\t 0.18718346327640906 \tVal Accuracy :\t 0.03237939908999552 \tTest Accuracy :\t 0.14395210671470593\n",
            "max_depth :\t 5 \tTrain Accuracy :\t 0.8330940733067657 \tVal Accuracy :\t 0.16431129558488583 \tTest Accuracy :\t 0.16309863147703318\n",
            "max_depth :\t 10 \tTrain Accuracy :\t 0.975319436421319 \tVal Accuracy :\t 0.18718459569833296 \tTest Accuracy :\t 0.1484468165532612\n",
            "max_depth :\t 15 \tTrain Accuracy :\t 0.9919857693439982 \tVal Accuracy :\t 0.189712529510256 \tTest Accuracy :\t 0.15594654351413514\n",
            "max_depth :\t 20 \tTrain Accuracy :\t 0.994501880261879 \tVal Accuracy :\t 0.19013367773523335 \tTest Accuracy :\t 0.16249621452532237\n",
            "max_depth :\t 25 \tTrain Accuracy :\t 0.9946909055473606 \tVal Accuracy :\t 0.1902313712352472 \tTest Accuracy :\t 0.16310560000000007\n",
            "max_depth :\t 30 \tTrain Accuracy :\t 0.9946909055473606 \tVal Accuracy :\t 0.1902313712352472 \tTest Accuracy :\t 0.16310560000000007\n"
          ],
          "name": "stdout"
        }
      ]
    }
  ]
}