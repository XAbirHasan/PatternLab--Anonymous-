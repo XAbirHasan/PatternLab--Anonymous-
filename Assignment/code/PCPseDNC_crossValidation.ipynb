{
  "nbformat": 4,
  "nbformat_minor": 0,
  "metadata": {
    "colab": {
      "name": "PCPseDNC crossValidation.ipynb",
      "provenance": [],
      "collapsed_sections": []
    },
    "kernelspec": {
      "name": "python3",
      "display_name": "Python 3"
    }
  },
  "cells": [
    {
      "cell_type": "code",
      "metadata": {
        "id": "xcg-c9ezGOHr",
        "colab_type": "code",
        "colab": {}
      },
      "source": [
        "from sklearn.model_selection import train_test_split\n",
        "import numpy as np"
      ],
      "execution_count": 1,
      "outputs": []
    },
    {
      "cell_type": "code",
      "metadata": {
        "id": "wROFsPwdNRI5",
        "colab_type": "code",
        "colab": {}
      },
      "source": [
        "from sklearn.svm import SVC"
      ],
      "execution_count": 2,
      "outputs": []
    },
    {
      "cell_type": "code",
      "metadata": {
        "id": "SkYWCRv0Oyiv",
        "colab_type": "code",
        "colab": {}
      },
      "source": [
        "from sklearn.metrics import accuracy_score"
      ],
      "execution_count": 3,
      "outputs": []
    },
    {
      "cell_type": "code",
      "metadata": {
        "id": "VCZnwzteUht2",
        "colab_type": "code",
        "colab": {}
      },
      "source": [
        "from sklearn.model_selection import KFold"
      ],
      "execution_count": 4,
      "outputs": []
    },
    {
      "cell_type": "code",
      "metadata": {
        "id": "Bkibhn2DD9hU",
        "colab_type": "code",
        "colab": {}
      },
      "source": [
        "\n",
        "pos_5289 = \"/content/drive/My Drive/pattern/numpy file/positive 5289/PCPseDNC.npy\"\n",
        "neg_5289 = \"/content/drive/My Drive/pattern/numpy file/negative 5289/PCPseDNC.npy\"\n",
        "pos_1000 = \"/content/drive/My Drive/pattern/numpy file/positive 1000/PCPseDNC.npy\"\n",
        "neg_1000 = \"/content/drive/My Drive/pattern/numpy file/negative 1000/PCPseDNC.npy\"\n",
        "\n",
        "x_train_pos = np.load(pos_5289) \n",
        "x_train_neg = np.load(neg_5289) \n",
        "x_test_pos = np.load(pos_1000) \n",
        "x_test_neg = np.load(neg_1000) \n",
        "\n",
        "y_train_pos = np.tile(1, 5289) \n",
        "y_train_neg = np.tile(0, 5289) \n",
        "y_test_pos = np.tile(1, 1000) \n",
        "y_test_neg = np.tile(0, 1000) "
      ],
      "execution_count": 5,
      "outputs": []
    },
    {
      "cell_type": "code",
      "metadata": {
        "id": "4woF7AbhG2D5",
        "colab_type": "code",
        "colab": {}
      },
      "source": [
        "seed = 40\n",
        "np.random.seed(seed)"
      ],
      "execution_count": 7,
      "outputs": []
    },
    {
      "cell_type": "code",
      "metadata": {
        "id": "Rxp25B0pIt5S",
        "colab_type": "code",
        "colab": {}
      },
      "source": [
        "x_training = np.concatenate((x_train_pos, x_train_neg), axis= 0)\n",
        "y_training = np.concatenate((y_train_pos, y_train_neg))"
      ],
      "execution_count": 8,
      "outputs": []
    },
    {
      "cell_type": "code",
      "metadata": {
        "id": "5SlGQaZ0QtwH",
        "colab_type": "code",
        "colab": {}
      },
      "source": [
        "x_test = np.concatenate((x_test_pos, x_test_neg))\n",
        "y_test = np.concatenate((y_test_pos, y_test_neg))"
      ],
      "execution_count": 9,
      "outputs": []
    },
    {
      "cell_type": "code",
      "metadata": {
        "id": "W-H0JEp3rSgR",
        "colab_type": "code",
        "colab": {}
      },
      "source": [
        "def avg(list_value):\n",
        "    return sum(list_value)/len(list_value)"
      ],
      "execution_count": 12,
      "outputs": []
    },
    {
      "cell_type": "code",
      "metadata": {
        "id": "veZ7aQjkV_62",
        "colab_type": "code",
        "colab": {}
      },
      "source": [
        "def crossValidation(c, x_training, y_training, x_test, y_test):\n",
        "    kf = KFold(n_splits = 5, random_state=seed)\n",
        "    train_accuracy_avg_list = []\n",
        "    val_accuracy_avg_list = []\n",
        "    test_accuracy_list = []\n",
        "    for i in range(0, len(c)):\n",
        "        clf = SVC(C = c[i],  random_state = seed)\n",
        "        val_accuracy_list = []\n",
        "        train_accuracy_list = []\n",
        "        count = 1\n",
        "        for train_index, val_index in kf.split(x_training):\n",
        "            print(\"Fold : \",count)\n",
        "            X_train, X_val = x_training[train_index], x_training[val_index]\n",
        "            y_train, y_val = y_training[train_index], y_training[val_index]\n",
        "            \n",
        "            clf.fit(X_train, y_train)\n",
        "\n",
        "            y_val_pred = clf.predict(X_val)\n",
        "            val_accuracy = accuracy_score(y_val, y_val_pred)\n",
        "            val_accuracy_list.append(val_accuracy)\n",
        "\n",
        "            y_train_pred = clf.predict(X_train)\n",
        "            train_accuracy = accuracy_score(y_train, y_train_pred)\n",
        "            train_accuracy_list.append(train_accuracy)\n",
        "\n",
        "            count += 1 \n",
        "\n",
        "        print(\"done\", c[i])\n",
        "        train_accuracy_avg = avg(train_accuracy_list)\n",
        "        train_accuracy_avg_list.append(train_accuracy_avg)\n",
        "        val_accuracy_avg = avg(val_accuracy_list)\n",
        "        val_accuracy_avg_list.append(val_accuracy_avg)\n",
        "\n",
        "        y_test_pred = clf.predict(x_test)\n",
        "        test_accuracy = accuracy_score(y_test, y_test_pred)\n",
        "        test_accuracy_list.append(test_accuracy)\n",
        "    print(\"all done\")\n",
        "    return train_accuracy_avg_list.copy(), val_accuracy_avg_list.copy(), test_accuracy_list.copy()"
      ],
      "execution_count": 13,
      "outputs": []
    },
    {
      "cell_type": "code",
      "metadata": {
        "id": "hjFU6hGp15aO",
        "colab_type": "code",
        "colab": {}
      },
      "source": [
        "def print_accuracy(c, train_list, val_list, test_accuracy_list):\n",
        "    for i in range(0, len(c)):\n",
        "        print(\"c :\\t\", c[i], \"\\tTrain Accuracy :\\t\", train_list[i], \"\\tVal Accuracy :\\t\", val_list[i], \"\\tTest Accuracy :\\t\", test_accuracy_list[i])"
      ],
      "execution_count": 14,
      "outputs": []
    },
    {
      "cell_type": "code",
      "metadata": {
        "id": "ZyLHiqsVTTLz",
        "colab_type": "code",
        "colab": {}
      },
      "source": [
        "c = [1 , 10, 20, 30, 40, 50, 60, 70, 80, 90]"
      ],
      "execution_count": 15,
      "outputs": []
    },
    {
      "cell_type": "code",
      "metadata": {
        "id": "vSLmmK-U3UCZ",
        "colab_type": "code",
        "colab": {
          "base_uri": "https://localhost:8080/",
          "height": 1000
        },
        "outputId": "5fb369f7-c036-4f2c-f51e-c04f936a2e25"
      },
      "source": [
        "train_accuracy_avg_list, val_accuracy_avg_list,test_accuracy_list = crossValidation(c.copy(), x_training.copy(), y_training.copy(), x_test.copy(), y_test.copy())"
      ],
      "execution_count": 16,
      "outputs": [
        {
          "output_type": "stream",
          "text": [
            "/usr/local/lib/python3.6/dist-packages/sklearn/model_selection/_split.py:296: FutureWarning: Setting a random_state has no effect since shuffle is False. This will raise an error in 0.24. You should leave random_state to its default (None), or set shuffle=True.\n",
            "  FutureWarning\n"
          ],
          "name": "stderr"
        },
        {
          "output_type": "stream",
          "text": [
            "Fold :  1\n",
            "Fold :  2\n",
            "Fold :  3\n",
            "Fold :  4\n",
            "Fold :  5\n",
            "done 1\n",
            "Fold :  1\n",
            "Fold :  2\n",
            "Fold :  3\n",
            "Fold :  4\n",
            "Fold :  5\n",
            "done 10\n",
            "Fold :  1\n",
            "Fold :  2\n",
            "Fold :  3\n",
            "Fold :  4\n",
            "Fold :  5\n",
            "done 20\n",
            "Fold :  1\n",
            "Fold :  2\n",
            "Fold :  3\n",
            "Fold :  4\n",
            "Fold :  5\n",
            "done 30\n",
            "Fold :  1\n",
            "Fold :  2\n",
            "Fold :  3\n",
            "Fold :  4\n",
            "Fold :  5\n",
            "done 40\n",
            "Fold :  1\n",
            "Fold :  2\n",
            "Fold :  3\n",
            "Fold :  4\n",
            "Fold :  5\n",
            "done 50\n",
            "Fold :  1\n",
            "Fold :  2\n",
            "Fold :  3\n",
            "Fold :  4\n",
            "Fold :  5\n",
            "done 60\n",
            "Fold :  1\n",
            "Fold :  2\n",
            "Fold :  3\n",
            "Fold :  4\n",
            "Fold :  5\n",
            "done 70\n",
            "Fold :  1\n",
            "Fold :  2\n",
            "Fold :  3\n",
            "Fold :  4\n",
            "Fold :  5\n",
            "done 80\n",
            "Fold :  1\n",
            "Fold :  2\n",
            "Fold :  3\n",
            "Fold :  4\n",
            "Fold :  5\n",
            "done 90\n",
            "all done\n"
          ],
          "name": "stdout"
        }
      ]
    },
    {
      "cell_type": "code",
      "metadata": {
        "id": "lQZxb4cH3vJP",
        "colab_type": "code",
        "colab": {
          "base_uri": "https://localhost:8080/",
          "height": 187
        },
        "outputId": "bababd5f-144c-4d05-86cb-5b8bf45c1e1a"
      },
      "source": [
        "print_accuracy(c.copy(), train_accuracy_avg_list.copy(), val_accuracy_avg_list.copy(), test_accuracy_list.copy())"
      ],
      "execution_count": 17,
      "outputs": [
        {
          "output_type": "stream",
          "text": [
            "c :\t 1 \tTrain Accuracy :\t 0.9723249168953304 \tVal Accuracy :\t 0.8169082572497285 \tTest Accuracy :\t 0.9325\n",
            "c :\t 10 \tTrain Accuracy :\t 0.9900738496235633 \tVal Accuracy :\t 0.8034880478354717 \tTest Accuracy :\t 0.979\n",
            "c :\t 20 \tTrain Accuracy :\t 0.9938788871535648 \tVal Accuracy :\t 0.801596884259073 \tTest Accuracy :\t 0.981\n",
            "c :\t 30 \tTrain Accuracy :\t 0.9957695953632246 \tVal Accuracy :\t 0.8008402043196717 \tTest Accuracy :\t 0.9825\n",
            "c :\t 40 \tTrain Accuracy :\t 0.9967621986713027 \tVal Accuracy :\t 0.8009342753846636 \tTest Accuracy :\t 0.9825\n",
            "c :\t 50 \tTrain Accuracy :\t 0.9976130082892001 \tVal Accuracy :\t 0.7996104430054476 \tTest Accuracy :\t 0.9825\n",
            "c :\t 60 \tTrain Accuracy :\t 0.998156581488517 \tVal Accuracy :\t 0.7980974406413814 \tTest Accuracy :\t 0.9815\n",
            "c :\t 70 \tTrain Accuracy :\t 0.9985583554121458 \tVal Accuracy :\t 0.7983808157592496 \tTest Accuracy :\t 0.9815\n",
            "c :\t 80 \tTrain Accuracy :\t 0.9987237869695307 \tVal Accuracy :\t 0.7977190112929968 \tTest Accuracy :\t 0.982\n",
            "c :\t 90 \tTrain Accuracy :\t 0.9989601293357746 \tVal Accuracy :\t 0.7978135292514088 \tTest Accuracy :\t 0.981\n"
          ],
          "name": "stdout"
        }
      ]
    },
    {
      "cell_type": "code",
      "metadata": {
        "id": "UonvHe_JI8zu",
        "colab_type": "code",
        "colab": {
          "base_uri": "https://localhost:8080/",
          "height": 1000
        },
        "outputId": "8e6b337d-2ad8-4ef5-cc69-0643b83256b9"
      },
      "source": [
        "c = [0.50, 0.90, 1.20, 2.20, 3, 4.5, 5.5, 6.5, 8, 9]\n",
        "train_accuracy_avg_list, val_accuracy_avg_list,test_accuracy_list  = crossValidation(c.copy(), x_training.copy(), y_training.copy(), x_test.copy(), y_test.copy())"
      ],
      "execution_count": 18,
      "outputs": [
        {
          "output_type": "stream",
          "text": [
            "/usr/local/lib/python3.6/dist-packages/sklearn/model_selection/_split.py:296: FutureWarning: Setting a random_state has no effect since shuffle is False. This will raise an error in 0.24. You should leave random_state to its default (None), or set shuffle=True.\n",
            "  FutureWarning\n"
          ],
          "name": "stderr"
        },
        {
          "output_type": "stream",
          "text": [
            "Fold :  1\n",
            "Fold :  2\n",
            "Fold :  3\n",
            "Fold :  4\n",
            "Fold :  5\n",
            "done 0.5\n",
            "Fold :  1\n",
            "Fold :  2\n",
            "Fold :  3\n",
            "Fold :  4\n",
            "Fold :  5\n",
            "done 0.9\n",
            "Fold :  1\n",
            "Fold :  2\n",
            "Fold :  3\n",
            "Fold :  4\n",
            "Fold :  5\n",
            "done 1.2\n",
            "Fold :  1\n",
            "Fold :  2\n",
            "Fold :  3\n",
            "Fold :  4\n",
            "Fold :  5\n",
            "done 2.2\n",
            "Fold :  1\n",
            "Fold :  2\n",
            "Fold :  3\n",
            "Fold :  4\n",
            "Fold :  5\n",
            "done 3\n",
            "Fold :  1\n",
            "Fold :  2\n",
            "Fold :  3\n",
            "Fold :  4\n",
            "Fold :  5\n",
            "done 4.5\n",
            "Fold :  1\n",
            "Fold :  2\n",
            "Fold :  3\n",
            "Fold :  4\n",
            "Fold :  5\n",
            "done 5.5\n",
            "Fold :  1\n",
            "Fold :  2\n",
            "Fold :  3\n",
            "Fold :  4\n",
            "Fold :  5\n",
            "done 6.5\n",
            "Fold :  1\n",
            "Fold :  2\n",
            "Fold :  3\n",
            "Fold :  4\n",
            "Fold :  5\n",
            "done 8\n",
            "Fold :  1\n",
            "Fold :  2\n",
            "Fold :  3\n",
            "Fold :  4\n",
            "Fold :  5\n",
            "done 9\n",
            "all done\n"
          ],
          "name": "stdout"
        }
      ]
    },
    {
      "cell_type": "code",
      "metadata": {
        "id": "TavAXVGaJqNk",
        "colab_type": "code",
        "colab": {
          "base_uri": "https://localhost:8080/",
          "height": 187
        },
        "outputId": "e1be7dc5-a561-40da-9cc1-d6de12309197"
      },
      "source": [
        "print_accuracy(c.copy(), train_accuracy_avg_list.copy(), val_accuracy_avg_list.copy(), test_accuracy_list.copy())"
      ],
      "execution_count": 19,
      "outputs": [
        {
          "output_type": "stream",
          "text": [
            "c :\t 0.5 \tTrain Accuracy :\t 0.9654238549702903 \tVal Accuracy :\t 0.8189858647611132 \tTest Accuracy :\t 0.906\n",
            "c :\t 0.9 \tTrain Accuracy :\t 0.9713322856597154 \tVal Accuracy :\t 0.8162459612007131 \tTest Accuracy :\t 0.9285\n",
            "c :\t 1.2 \tTrain Accuracy :\t 0.9743574020386487 \tVal Accuracy :\t 0.817191989882333 \tTest Accuracy :\t 0.936\n",
            "c :\t 2.2 \tTrain Accuracy :\t 0.9796040981202729 \tVal Accuracy :\t 0.8149244973566254 \tTest Accuracy :\t 0.9545\n",
            "c :\t 3 \tTrain Accuracy :\t 0.9822038250504029 \tVal Accuracy :\t 0.8134123440900579 \tTest Accuracy :\t 0.966\n",
            "c :\t 4.5 \tTrain Accuracy :\t 0.9851343927532735 \tVal Accuracy :\t 0.8107661540799134 \tTest Accuracy :\t 0.9715\n",
            "c :\t 5.5 \tTrain Accuracy :\t 0.9863160794497091 \tVal Accuracy :\t 0.8090645626924434 \tTest Accuracy :\t 0.975\n",
            "c :\t 6.5 \tTrain Accuracy :\t 0.9875214095988565 \tVal Accuracy :\t 0.8084031157409269 \tTest Accuracy :\t 0.978\n",
            "c :\t 8 \tTrain Accuracy :\t 0.9886322022429554 \tVal Accuracy :\t 0.8050002904807233 \tTest Accuracy :\t 0.9785\n",
            "c :\t 9 \tTrain Accuracy :\t 0.9895302680459854 \tVal Accuracy :\t 0.8043387094611807 \tTest Accuracy :\t 0.9785\n"
          ],
          "name": "stdout"
        }
      ]
    },
    {
      "cell_type": "code",
      "metadata": {
        "id": "ZShL3oNtSkdF",
        "colab_type": "code",
        "colab": {
          "base_uri": "https://localhost:8080/",
          "height": 1000
        },
        "outputId": "ebc36339-faa3-48db-ff89-d6018c63153d"
      },
      "source": [
        "c = [.05, 0.1, 0.15, 0.20, 0.25, 0.30, 0.35, 0.4, 0.45]\n",
        "train_accuracy_avg_list, val_accuracy_avg_list,test_accuracy_list  = crossValidation(c.copy(), x_training.copy(), y_training.copy(), x_test.copy(), y_test.copy())"
      ],
      "execution_count": 20,
      "outputs": [
        {
          "output_type": "stream",
          "text": [
            "/usr/local/lib/python3.6/dist-packages/sklearn/model_selection/_split.py:296: FutureWarning: Setting a random_state has no effect since shuffle is False. This will raise an error in 0.24. You should leave random_state to its default (None), or set shuffle=True.\n",
            "  FutureWarning\n"
          ],
          "name": "stderr"
        },
        {
          "output_type": "stream",
          "text": [
            "Fold :  1\n",
            "Fold :  2\n",
            "Fold :  3\n",
            "Fold :  4\n",
            "Fold :  5\n",
            "done 0.05\n",
            "Fold :  1\n",
            "Fold :  2\n",
            "Fold :  3\n",
            "Fold :  4\n",
            "Fold :  5\n",
            "done 0.1\n",
            "Fold :  1\n",
            "Fold :  2\n",
            "Fold :  3\n",
            "Fold :  4\n",
            "Fold :  5\n",
            "done 0.15\n",
            "Fold :  1\n",
            "Fold :  2\n",
            "Fold :  3\n",
            "Fold :  4\n",
            "Fold :  5\n",
            "done 0.2\n",
            "Fold :  1\n",
            "Fold :  2\n",
            "Fold :  3\n",
            "Fold :  4\n",
            "Fold :  5\n",
            "done 0.25\n",
            "Fold :  1\n",
            "Fold :  2\n",
            "Fold :  3\n",
            "Fold :  4\n",
            "Fold :  5\n",
            "done 0.3\n",
            "Fold :  1\n",
            "Fold :  2\n",
            "Fold :  3\n",
            "Fold :  4\n",
            "Fold :  5\n",
            "done 0.35\n",
            "Fold :  1\n",
            "Fold :  2\n",
            "Fold :  3\n",
            "Fold :  4\n",
            "Fold :  5\n",
            "done 0.4\n",
            "Fold :  1\n",
            "Fold :  2\n",
            "Fold :  3\n",
            "Fold :  4\n",
            "Fold :  5\n",
            "done 0.45\n",
            "all done\n"
          ],
          "name": "stdout"
        }
      ]
    },
    {
      "cell_type": "code",
      "metadata": {
        "id": "HobTpqswTCXr",
        "colab_type": "code",
        "colab": {
          "base_uri": "https://localhost:8080/",
          "height": 170
        },
        "outputId": "5f1fa78b-4661-4979-f853-996eb7a0a68d"
      },
      "source": [
        "print_accuracy(c.copy(), train_accuracy_avg_list.copy(), val_accuracy_avg_list.copy(), test_accuracy_list.copy())"
      ],
      "execution_count": 21,
      "outputs": [
        {
          "output_type": "stream",
          "text": [
            "c :\t 0.05 \tTrain Accuracy :\t 0.9231191523054196 \tVal Accuracy :\t 0.7703885738290275 \tTest Accuracy :\t 0.818\n",
            "c :\t 0.1 \tTrain Accuracy :\t 0.94058464846199 \tVal Accuracy :\t 0.7935519089052452 \tTest Accuracy :\t 0.8375\n",
            "c :\t 0.15 \tTrain Accuracy :\t 0.9485020548941989 \tVal Accuracy :\t 0.803384681387336 \tTest Accuracy :\t 0.85\n",
            "c :\t 0.2 \tTrain Accuracy :\t 0.9531106291004432 \tVal Accuracy :\t 0.8068829630821346 \tTest Accuracy :\t 0.8675\n",
            "c :\t 0.25 \tTrain Accuracy :\t 0.9565611879905 \tVal Accuracy :\t 0.8112317723346159 \tTest Accuracy :\t 0.876\n",
            "c :\t 0.3 \tTrain Accuracy :\t 0.9589718427032873 \tVal Accuracy :\t 0.8139739103621176 \tTest Accuracy :\t 0.8845\n",
            "c :\t 0.35 \tTrain Accuracy :\t 0.9611933972711949 \tVal Accuracy :\t 0.8165267890260852 \tTest Accuracy :\t 0.889\n",
            "c :\t 0.4 \tTrain Accuracy :\t 0.9630604843701723 \tVal Accuracy :\t 0.8179452287423972 \tTest Accuracy :\t 0.8945\n",
            "c :\t 0.45 \tTrain Accuracy :\t 0.9644548727728942 \tVal Accuracy :\t 0.8188907211519124 \tTest Accuracy :\t 0.902\n"
          ],
          "name": "stdout"
        }
      ]
    },
    {
      "cell_type": "code",
      "metadata": {
        "id": "YFSb-npkbX9S",
        "colab_type": "code",
        "colab": {}
      },
      "source": [
        "from sklearn.ensemble import RandomForestRegressor"
      ],
      "execution_count": 22,
      "outputs": []
    },
    {
      "cell_type": "code",
      "metadata": {
        "id": "cjDdbpmLlkgo",
        "colab_type": "code",
        "colab": {}
      },
      "source": [
        "def model_RandomForestRegressor(n_estimators, max_depth, x_training, y_training, x_test, y_test):\n",
        "    kf = KFold(n_splits = 5, random_state=seed)\n",
        "    train_accuracy_avg_list = []\n",
        "    val_accuracy_avg_list = []\n",
        "    test_accuracy_list = []\n",
        "    len_n_estimators = len(n_estimators)\n",
        "    flag = False\n",
        "    if(len_n_estimators > 1 and max_depth[0] is None ):\n",
        "        loop_goes = len_n_estimators\n",
        "        flag = True\n",
        "    else:\n",
        "        loop_goes = len(max_depth)\n",
        "\n",
        "    for i in range(0, loop_goes):\n",
        "        if(len_n_estimators > 1 and max_depth[0] is None ):\n",
        "            regr = RandomForestRegressor(n_estimators = n_estimators[i], max_depth = None, random_state = seed)\n",
        "        else:\n",
        "            regr = RandomForestRegressor(n_estimators = n_estimators[0], max_depth = max_depth[i], random_state = seed)\n",
        "\n",
        "        val_accuracy_list = []\n",
        "        train_accuracy_list = []\n",
        "        count = 1\n",
        "        for train_index, val_index in kf.split(x_training):\n",
        "            print(\"Fold : \",count)\n",
        "            X_train, X_val = x_training[train_index], x_training[val_index]\n",
        "            y_train, y_val = y_training[train_index], y_training[val_index]\n",
        "            \n",
        "            regr.fit(X_train, y_train)\n",
        "            \n",
        "            val_accuracy = regr.score(X_val, y_val)\n",
        "            val_accuracy_list.append(val_accuracy)\n",
        "\n",
        "            train_accuracy = regr.score(X_train, y_train)\n",
        "            train_accuracy_list.append(train_accuracy)\n",
        "\n",
        "            count += 1 \n",
        "        if(flag):\n",
        "            print(\"done\", n_estimators[i])\n",
        "        else :\n",
        "            print(\"done\", max_depth[i])\n",
        "        train_accuracy_avg = avg(train_accuracy_list)\n",
        "        train_accuracy_avg_list.append(train_accuracy_avg)\n",
        "        val_accuracy_avg = avg(val_accuracy_list)\n",
        "        val_accuracy_avg_list.append(val_accuracy_avg)\n",
        "\n",
        "        test_accuracy = regr.score(x_test, y_test)\n",
        "        test_accuracy_list.append(test_accuracy)\n",
        "    print(\"all done\")\n",
        "    return train_accuracy_avg_list.copy(), val_accuracy_avg_list.copy(), test_accuracy_list.copy()"
      ],
      "execution_count": 23,
      "outputs": []
    },
    {
      "cell_type": "code",
      "metadata": {
        "id": "RLDhtBqCm7Z4",
        "colab_type": "code",
        "colab": {}
      },
      "source": [
        "def print_accuracy_n_estimators(n_estimators, train_list, val_list, test_accuracy_list):\n",
        "    for i in range(0, len(n_estimators)):\n",
        "        print(\"n_estimators :\\t\", n_estimators[i], \"\\tTrain Accuracy :\\t\", train_list[i], \"\\tVal Accuracy :\\t\", val_list[i], \"\\tTest Accuracy :\\t\", test_accuracy_list[i])"
      ],
      "execution_count": 24,
      "outputs": []
    },
    {
      "cell_type": "code",
      "metadata": {
        "id": "kMRaXBCNmZNA",
        "colab_type": "code",
        "colab": {
          "base_uri": "https://localhost:8080/",
          "height": 1000
        },
        "outputId": "998d7d82-ad34-435e-af9a-04e8ade135f4"
      },
      "source": [
        "n_estimators = [50, 100, 150, 200, 250, 300, 350, 400, 450, 500, 550, 600, 650, 700, 800, 1000, 1200]\n",
        "max_depth = [None]\n",
        "train_accuracy_avg_list, val_accuracy_avg_list, test_accuracy_list  = model_RandomForestRegressor(n_estimators.copy(), max_depth, x_training.copy(), y_training.copy(), x_test.copy(), y_test.copy())"
      ],
      "execution_count": 25,
      "outputs": [
        {
          "output_type": "stream",
          "text": [
            "/usr/local/lib/python3.6/dist-packages/sklearn/model_selection/_split.py:296: FutureWarning: Setting a random_state has no effect since shuffle is False. This will raise an error in 0.24. You should leave random_state to its default (None), or set shuffle=True.\n",
            "  FutureWarning\n"
          ],
          "name": "stderr"
        },
        {
          "output_type": "stream",
          "text": [
            "Fold :  1\n",
            "Fold :  2\n",
            "Fold :  3\n",
            "Fold :  4\n",
            "Fold :  5\n",
            "done 50\n",
            "Fold :  1\n",
            "Fold :  2\n",
            "Fold :  3\n",
            "Fold :  4\n",
            "Fold :  5\n",
            "done 100\n",
            "Fold :  1\n",
            "Fold :  2\n",
            "Fold :  3\n",
            "Fold :  4\n",
            "Fold :  5\n",
            "done 150\n",
            "Fold :  1\n",
            "Fold :  2\n",
            "Fold :  3\n",
            "Fold :  4\n",
            "Fold :  5\n",
            "done 200\n",
            "Fold :  1\n",
            "Fold :  2\n",
            "Fold :  3\n",
            "Fold :  4\n",
            "Fold :  5\n",
            "done 250\n",
            "Fold :  1\n",
            "Fold :  2\n",
            "Fold :  3\n",
            "Fold :  4\n",
            "Fold :  5\n",
            "done 300\n",
            "Fold :  1\n",
            "Fold :  2\n",
            "Fold :  3\n",
            "Fold :  4\n",
            "Fold :  5\n",
            "done 350\n",
            "Fold :  1\n",
            "Fold :  2\n",
            "Fold :  3\n",
            "Fold :  4\n",
            "Fold :  5\n",
            "done 400\n",
            "Fold :  1\n",
            "Fold :  2\n",
            "Fold :  3\n",
            "Fold :  4\n",
            "Fold :  5\n",
            "done 450\n",
            "Fold :  1\n",
            "Fold :  2\n",
            "Fold :  3\n",
            "Fold :  4\n",
            "Fold :  5\n",
            "done 500\n",
            "Fold :  1\n",
            "Fold :  2\n",
            "Fold :  3\n",
            "Fold :  4\n",
            "Fold :  5\n",
            "done 550\n",
            "Fold :  1\n",
            "Fold :  2\n",
            "Fold :  3\n",
            "Fold :  4\n",
            "Fold :  5\n",
            "done 600\n",
            "Fold :  1\n",
            "Fold :  2\n",
            "Fold :  3\n",
            "Fold :  4\n",
            "Fold :  5\n",
            "done 650\n",
            "Fold :  1\n",
            "Fold :  2\n",
            "Fold :  3\n",
            "Fold :  4\n",
            "Fold :  5\n",
            "done 700\n",
            "Fold :  1\n",
            "Fold :  2\n",
            "Fold :  3\n",
            "Fold :  4\n",
            "Fold :  5\n",
            "done 800\n",
            "Fold :  1\n",
            "Fold :  2\n",
            "Fold :  3\n",
            "Fold :  4\n",
            "Fold :  5\n",
            "done 1000\n",
            "Fold :  1\n",
            "Fold :  2\n",
            "Fold :  3\n",
            "Fold :  4\n",
            "Fold :  5\n",
            "done 1200\n",
            "all done\n"
          ],
          "name": "stdout"
        }
      ]
    },
    {
      "cell_type": "code",
      "metadata": {
        "id": "oE9XeaYpmvow",
        "colab_type": "code",
        "colab": {
          "base_uri": "https://localhost:8080/",
          "height": 306
        },
        "outputId": "98ff2b62-ee6d-4874-c4ac-30503be981cd"
      },
      "source": [
        "print_accuracy_n_estimators(n_estimators.copy(), train_accuracy_avg_list.copy(), val_accuracy_avg_list.copy(), test_accuracy_list.copy())"
      ],
      "execution_count": 26,
      "outputs": [
        {
          "output_type": "stream",
          "text": [
            "n_estimators :\t 50 \tTrain Accuracy :\t 0.9701318866635541 \tVal Accuracy :\t 0.15289039269656046 \tTest Accuracy :\t 0.38422559999999994\n",
            "n_estimators :\t 100 \tTrain Accuracy :\t 0.9715908322350717 \tVal Accuracy :\t 0.15403776612233924 \tTest Accuracy :\t 0.39483880000000005\n",
            "n_estimators :\t 150 \tTrain Accuracy :\t 0.9720650320573 \tVal Accuracy :\t 0.15442566817020037 \tTest Accuracy :\t 0.3965036444444445\n",
            "n_estimators :\t 200 \tTrain Accuracy :\t 0.9723134978989838 \tVal Accuracy :\t 0.15433207640416916 \tTest Accuracy :\t 0.39597955000000007\n",
            "n_estimators :\t 250 \tTrain Accuracy :\t 0.9725562194356968 \tVal Accuracy :\t 0.1542583001567856 \tTest Accuracy :\t 0.39176\n",
            "n_estimators :\t 300 \tTrain Accuracy :\t 0.9726618305296612 \tVal Accuracy :\t 0.1542532084488132 \tTest Accuracy :\t 0.39686353333333346\n",
            "n_estimators :\t 350 \tTrain Accuracy :\t 0.9726380018922651 \tVal Accuracy :\t 0.15412672264639143 \tTest Accuracy :\t 0.395349093877551\n",
            "n_estimators :\t 400 \tTrain Accuracy :\t 0.9726480487601341 \tVal Accuracy :\t 0.15425468975658477 \tTest Accuracy :\t 0.3959805499999999\n",
            "n_estimators :\t 450 \tTrain Accuracy :\t 0.9727263841894368 \tVal Accuracy :\t 0.1543180062849458 \tTest Accuracy :\t 0.39578750617283953\n",
            "n_estimators :\t 500 \tTrain Accuracy :\t 0.972776371548054 \tVal Accuracy :\t 0.1541927273193772 \tTest Accuracy :\t 0.39526923199999997\n",
            "n_estimators :\t 550 \tTrain Accuracy :\t 0.9728022185644392 \tVal Accuracy :\t 0.15412385159348635 \tTest Accuracy :\t 0.39509409586776856\n",
            "n_estimators :\t 600 \tTrain Accuracy :\t 0.9728617273339722 \tVal Accuracy :\t 0.15417384269843154 \tTest Accuracy :\t 0.39514396111111105\n",
            "n_estimators :\t 650 \tTrain Accuracy :\t 0.9728492838962646 \tVal Accuracy :\t 0.1541385337652971 \tTest Accuracy :\t 0.39547271479289936\n",
            "n_estimators :\t 700 \tTrain Accuracy :\t 0.972862389774507 \tVal Accuracy :\t 0.15412099909666188 \tTest Accuracy :\t 0.3963226448979591\n",
            "n_estimators :\t 800 \tTrain Accuracy :\t 0.9729061050853245 \tVal Accuracy :\t 0.1541343216197516 \tTest Accuracy :\t 0.3980565437500001\n",
            "n_estimators :\t 1000 \tTrain Accuracy :\t 0.9729294105606596 \tVal Accuracy :\t 0.15409842515573588 \tTest Accuracy :\t 0.3983671940000001\n",
            "n_estimators :\t 1200 \tTrain Accuracy :\t 0.9729901100791996 \tVal Accuracy :\t 0.15413364496245732 \tTest Accuracy :\t 0.3994716055555556\n"
          ],
          "name": "stdout"
        }
      ]
    },
    {
      "cell_type": "code",
      "metadata": {
        "id": "PzEhzQsuImI-",
        "colab_type": "code",
        "colab": {
          "base_uri": "https://localhost:8080/",
          "height": 700
        },
        "outputId": "fa1e2946-fc64-4d6a-f161-cb4e66a2a207"
      },
      "source": [
        "n_estimators = [150]\n",
        "max_depth = [1,5,10,15,20,30]\n",
        "train_accuracy_avg_list, val_accuracy_avg_list, test_accuracy_list  = model_RandomForestRegressor(n_estimators.copy(), max_depth, x_training.copy(), y_training.copy(), x_test.copy(), y_test.copy())"
      ],
      "execution_count": 27,
      "outputs": [
        {
          "output_type": "stream",
          "text": [
            "/usr/local/lib/python3.6/dist-packages/sklearn/model_selection/_split.py:296: FutureWarning: Setting a random_state has no effect since shuffle is False. This will raise an error in 0.24. You should leave random_state to its default (None), or set shuffle=True.\n",
            "  FutureWarning\n"
          ],
          "name": "stderr"
        },
        {
          "output_type": "stream",
          "text": [
            "Fold :  1\n",
            "Fold :  2\n",
            "Fold :  3\n",
            "Fold :  4\n",
            "Fold :  5\n",
            "done 1\n",
            "Fold :  1\n",
            "Fold :  2\n",
            "Fold :  3\n",
            "Fold :  4\n",
            "Fold :  5\n",
            "done 5\n",
            "Fold :  1\n",
            "Fold :  2\n",
            "Fold :  3\n",
            "Fold :  4\n",
            "Fold :  5\n",
            "done 10\n",
            "Fold :  1\n",
            "Fold :  2\n",
            "Fold :  3\n",
            "Fold :  4\n",
            "Fold :  5\n",
            "done 15\n",
            "Fold :  1\n",
            "Fold :  2\n",
            "Fold :  3\n",
            "Fold :  4\n",
            "Fold :  5\n",
            "done 20\n",
            "Fold :  1\n",
            "Fold :  2\n",
            "Fold :  3\n",
            "Fold :  4\n",
            "Fold :  5\n",
            "done 30\n",
            "all done\n"
          ],
          "name": "stdout"
        }
      ]
    },
    {
      "cell_type": "code",
      "metadata": {
        "id": "HrRIqy68I8Hz",
        "colab_type": "code",
        "colab": {}
      },
      "source": [
        "def print_accuracy_max_depth(max_depth, train_list, val_list, test_accuracy_list):\n",
        "    for i in range(0, len(max_depth)):\n",
        "        print(\"max_depth :\\t\", max_depth[i], \"\\tTrain Accuracy :\\t\", train_list[i], \"\\tVal Accuracy :\\t\", val_list[i], \"\\tTest Accuracy :\\t\", test_accuracy_list[i])"
      ],
      "execution_count": 28,
      "outputs": []
    },
    {
      "cell_type": "code",
      "metadata": {
        "id": "8Ls_QuPTI25k",
        "colab_type": "code",
        "colab": {
          "base_uri": "https://localhost:8080/",
          "height": 119
        },
        "outputId": "c2a288ff-a57a-4c5a-ddaa-5228e58952e2"
      },
      "source": [
        "print_accuracy_max_depth(max_depth.copy(), train_accuracy_avg_list.copy(), val_accuracy_avg_list.copy(), test_accuracy_list.copy())"
      ],
      "execution_count": 29,
      "outputs": [
        {
          "output_type": "stream",
          "text": [
            "max_depth :\t 1 \tTrain Accuracy :\t 0.3452181635906775 \tVal Accuracy :\t 0.08888076440071635 \tTest Accuracy :\t -0.13677576911963074\n",
            "max_depth :\t 5 \tTrain Accuracy :\t 0.670274206794749 \tVal Accuracy :\t 0.1332937111871113 \tTest Accuracy :\t 0.2213811458134557\n",
            "max_depth :\t 10 \tTrain Accuracy :\t 0.9211040468391614 \tVal Accuracy :\t 0.15353521812873414 \tTest Accuracy :\t 0.37291267659655014\n",
            "max_depth :\t 15 \tTrain Accuracy :\t 0.968332156760145 \tVal Accuracy :\t 0.15450011090469354 \tTest Accuracy :\t 0.39177173839025015\n",
            "max_depth :\t 20 \tTrain Accuracy :\t 0.971943554116933 \tVal Accuracy :\t 0.15440364641986423 \tTest Accuracy :\t 0.39678150961952785\n",
            "max_depth :\t 30 \tTrain Accuracy :\t 0.9720650320573 \tVal Accuracy :\t 0.15442566817020037 \tTest Accuracy :\t 0.3965036444444445\n"
          ],
          "name": "stdout"
        }
      ]
    }
  ]
}