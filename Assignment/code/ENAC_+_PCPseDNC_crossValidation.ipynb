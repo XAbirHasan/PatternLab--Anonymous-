{
  "nbformat": 4,
  "nbformat_minor": 0,
  "metadata": {
    "colab": {
      "name": "ENAC + PCPseDNC crossValidation.ipynb",
      "provenance": [],
      "collapsed_sections": []
    },
    "kernelspec": {
      "name": "python3",
      "display_name": "Python 3"
    }
  },
  "cells": [
    {
      "cell_type": "code",
      "metadata": {
        "id": "xcg-c9ezGOHr",
        "colab_type": "code",
        "colab": {}
      },
      "source": [
        "from sklearn.model_selection import train_test_split\n",
        "import numpy as np"
      ],
      "execution_count": 1,
      "outputs": []
    },
    {
      "cell_type": "code",
      "metadata": {
        "id": "wROFsPwdNRI5",
        "colab_type": "code",
        "colab": {}
      },
      "source": [
        "from sklearn.svm import SVC"
      ],
      "execution_count": 2,
      "outputs": []
    },
    {
      "cell_type": "code",
      "metadata": {
        "id": "SkYWCRv0Oyiv",
        "colab_type": "code",
        "colab": {}
      },
      "source": [
        "from sklearn.metrics import accuracy_score"
      ],
      "execution_count": 3,
      "outputs": []
    },
    {
      "cell_type": "code",
      "metadata": {
        "id": "VCZnwzteUht2",
        "colab_type": "code",
        "colab": {}
      },
      "source": [
        "from sklearn.model_selection import KFold"
      ],
      "execution_count": 4,
      "outputs": []
    },
    {
      "cell_type": "code",
      "metadata": {
        "id": "V2XdN_FxFNMA",
        "colab_type": "code",
        "colab": {}
      },
      "source": [
        "T1_pos_5289 = \"/content/drive/My Drive/pattern/numpy file/positive 5289/ENAC 5.npy\"\n",
        "T1_neg_5289 = \"/content/drive/My Drive/pattern/numpy file/negative 5289/ENAC 5.npy\"\n",
        "T1_pos_1000 = \"/content/drive/My Drive/pattern/numpy file/positive 1000/ENAC 5.npy\"\n",
        "T1_neg_1000 = \"/content/drive/My Drive/pattern/numpy file/negative 1000/ENAC 5.npy\"\n",
        "\n",
        "T1_x_train_pos = np.load(T1_pos_5289) \n",
        "T1_x_train_neg = np.load(T1_neg_5289) \n",
        "T1_x_test_pos = np.load(T1_pos_1000) \n",
        "T1_x_test_neg = np.load(T1_neg_1000) "
      ],
      "execution_count": 5,
      "outputs": []
    },
    {
      "cell_type": "code",
      "metadata": {
        "id": "ndMctRNCFD8g",
        "colab_type": "code",
        "colab": {}
      },
      "source": [
        "T2_pos_5289 = \"/content/drive/My Drive/pattern/numpy file/positive 5289/PCPseDNC.npy\"\n",
        "T2_neg_5289 = \"/content/drive/My Drive/pattern/numpy file/negative 5289/PCPseDNC.npy\"\n",
        "T2_pos_1000 = \"/content/drive/My Drive/pattern/numpy file/positive 1000/PCPseDNC.npy\"\n",
        "T2_neg_1000 = \"/content/drive/My Drive/pattern/numpy file/negative 1000/PCPseDNC.npy\"\n",
        "\n",
        "T2_x_train_pos = np.load(T2_pos_5289) \n",
        "T2_x_train_neg = np.load(T2_neg_5289) \n",
        "T2_x_test_pos = np.load(T2_pos_1000) \n",
        "T2_x_test_neg = np.load(T2_neg_1000) "
      ],
      "execution_count": 6,
      "outputs": []
    },
    {
      "cell_type": "code",
      "metadata": {
        "id": "Bkibhn2DD9hU",
        "colab_type": "code",
        "colab": {}
      },
      "source": [
        "y_train_pos = np.tile(1, 5289) \n",
        "y_train_neg = np.tile(0, 5289) \n",
        "y_test_pos = np.tile(1, 1000) \n",
        "y_test_neg = np.tile(0, 1000) "
      ],
      "execution_count": 7,
      "outputs": []
    },
    {
      "cell_type": "code",
      "metadata": {
        "id": "4woF7AbhG2D5",
        "colab_type": "code",
        "colab": {}
      },
      "source": [
        "seed = 40\n",
        "np.random.seed(seed)"
      ],
      "execution_count": 9,
      "outputs": []
    },
    {
      "cell_type": "code",
      "metadata": {
        "id": "Rxp25B0pIt5S",
        "colab_type": "code",
        "colab": {}
      },
      "source": [
        "T2_x_training = np.concatenate((T2_x_train_pos, T2_x_train_neg), axis= 0)\n",
        "T2_x_test = np.concatenate((T2_x_test_pos, T2_x_test_neg), axis = 0)"
      ],
      "execution_count": 10,
      "outputs": []
    },
    {
      "cell_type": "code",
      "metadata": {
        "id": "aZVHKcbkFn6u",
        "colab_type": "code",
        "colab": {}
      },
      "source": [
        "T1_x_training = np.concatenate((T1_x_train_pos, T1_x_train_neg), axis= 0)\n",
        "T1_x_test = np.concatenate((T1_x_test_pos, T1_x_test_neg), axis = 0)"
      ],
      "execution_count": 11,
      "outputs": []
    },
    {
      "cell_type": "code",
      "metadata": {
        "id": "FUFXS66RF_0P",
        "colab_type": "code",
        "colab": {}
      },
      "source": [
        "x_training = np.concatenate((T1_x_training, T2_x_training), axis= 1)\n",
        "x_test = np.concatenate((T1_x_test, T2_x_test), axis = 1)"
      ],
      "execution_count": 12,
      "outputs": []
    },
    {
      "cell_type": "code",
      "metadata": {
        "id": "5SlGQaZ0QtwH",
        "colab_type": "code",
        "colab": {}
      },
      "source": [
        "y_training = np.concatenate((y_train_pos, y_train_neg))\n",
        "y_test = np.concatenate((y_test_pos, y_test_neg))"
      ],
      "execution_count": 15,
      "outputs": []
    },
    {
      "cell_type": "code",
      "metadata": {
        "id": "W-H0JEp3rSgR",
        "colab_type": "code",
        "colab": {}
      },
      "source": [
        "def avg(list_value):\n",
        "    return sum(list_value)/len(list_value)"
      ],
      "execution_count": 18,
      "outputs": []
    },
    {
      "cell_type": "code",
      "metadata": {
        "id": "veZ7aQjkV_62",
        "colab_type": "code",
        "colab": {}
      },
      "source": [
        "def crossValidation(c, x_training, y_training, x_test, y_test):\n",
        "    kf = KFold(n_splits = 5, random_state=seed)\n",
        "    train_accuracy_avg_list = []\n",
        "    val_accuracy_avg_list = []\n",
        "    test_accuracy_list = []\n",
        "    for i in range(0, len(c)):\n",
        "        clf = SVC(C = c[i],  random_state = seed)\n",
        "        val_accuracy_list = []\n",
        "        train_accuracy_list = []\n",
        "        count = 1\n",
        "        for train_index, val_index in kf.split(x_training):\n",
        "            print(\"Fold : \",count)\n",
        "            X_train, X_val = x_training[train_index], x_training[val_index]\n",
        "            y_train, y_val = y_training[train_index], y_training[val_index]\n",
        "            \n",
        "            clf.fit(X_train, y_train)\n",
        "\n",
        "            y_val_pred = clf.predict(X_val)\n",
        "            val_accuracy = accuracy_score(y_val, y_val_pred)\n",
        "            val_accuracy_list.append(val_accuracy)\n",
        "\n",
        "            y_train_pred = clf.predict(X_train)\n",
        "            train_accuracy = accuracy_score(y_train, y_train_pred)\n",
        "            train_accuracy_list.append(train_accuracy)\n",
        "\n",
        "            count += 1 \n",
        "\n",
        "        print(\"done\", c[i])\n",
        "        train_accuracy_avg = avg(train_accuracy_list)\n",
        "        train_accuracy_avg_list.append(train_accuracy_avg)\n",
        "        val_accuracy_avg = avg(val_accuracy_list)\n",
        "        val_accuracy_avg_list.append(val_accuracy_avg)\n",
        "\n",
        "        y_test_pred = clf.predict(x_test)\n",
        "        test_accuracy = accuracy_score(y_test, y_test_pred)\n",
        "        test_accuracy_list.append(test_accuracy)\n",
        "    print(\"all done\")\n",
        "    return train_accuracy_avg_list.copy(), val_accuracy_avg_list.copy(), test_accuracy_list.copy()"
      ],
      "execution_count": 19,
      "outputs": []
    },
    {
      "cell_type": "code",
      "metadata": {
        "id": "hjFU6hGp15aO",
        "colab_type": "code",
        "colab": {}
      },
      "source": [
        "def print_accuracy(c, train_list, val_list, test_accuracy_list):\n",
        "    for i in range(0, len(c)):\n",
        "        print(\"c :\\t\", c[i], \"\\tTrain Accuracy :\\t\", train_list[i], \"\\tVal Accuracy :\\t\", val_list[i], \"\\tTest Accuracy :\\t\", test_accuracy_list[i])"
      ],
      "execution_count": 20,
      "outputs": []
    },
    {
      "cell_type": "code",
      "metadata": {
        "id": "ZyLHiqsVTTLz",
        "colab_type": "code",
        "colab": {}
      },
      "source": [
        "c = [1 , 10, 20, 30, 40, 50, 60, 70, 80, 90]"
      ],
      "execution_count": 40,
      "outputs": []
    },
    {
      "cell_type": "code",
      "metadata": {
        "id": "vSLmmK-U3UCZ",
        "colab_type": "code",
        "colab": {
          "base_uri": "https://localhost:8080/",
          "height": 1000
        },
        "outputId": "e83a3a85-7b8f-4686-ab5d-d7dcf2d3e528"
      },
      "source": [
        "train_accuracy_avg_list, val_accuracy_avg_list,test_accuracy_list = crossValidation(c.copy(), x_training.copy(), y_training.copy(), x_test.copy(), y_test.copy())"
      ],
      "execution_count": 41,
      "outputs": [
        {
          "output_type": "stream",
          "text": [
            "/usr/local/lib/python3.6/dist-packages/sklearn/model_selection/_split.py:296: FutureWarning: Setting a random_state has no effect since shuffle is False. This will raise an error in 0.24. You should leave random_state to its default (None), or set shuffle=True.\n",
            "  FutureWarning\n"
          ],
          "name": "stderr"
        },
        {
          "output_type": "stream",
          "text": [
            "Fold :  1\n",
            "Fold :  2\n",
            "Fold :  3\n",
            "Fold :  4\n",
            "Fold :  5\n",
            "done 1\n",
            "Fold :  1\n",
            "Fold :  2\n",
            "Fold :  3\n",
            "Fold :  4\n",
            "Fold :  5\n",
            "done 10\n",
            "Fold :  1\n",
            "Fold :  2\n",
            "Fold :  3\n",
            "Fold :  4\n",
            "Fold :  5\n",
            "done 20\n",
            "Fold :  1\n",
            "Fold :  2\n",
            "Fold :  3\n",
            "Fold :  4\n",
            "Fold :  5\n",
            "done 30\n",
            "Fold :  1\n",
            "Fold :  2\n",
            "Fold :  3\n",
            "Fold :  4\n",
            "Fold :  5\n",
            "done 40\n",
            "Fold :  1\n",
            "Fold :  2\n",
            "Fold :  3\n",
            "Fold :  4\n",
            "Fold :  5\n",
            "done 50\n",
            "Fold :  1\n",
            "Fold :  2\n",
            "Fold :  3\n",
            "Fold :  4\n",
            "Fold :  5\n",
            "done 60\n",
            "Fold :  1\n",
            "Fold :  2\n",
            "Fold :  3\n",
            "Fold :  4\n",
            "Fold :  5\n",
            "done 70\n",
            "Fold :  1\n",
            "Fold :  2\n",
            "Fold :  3\n",
            "Fold :  4\n",
            "Fold :  5\n",
            "done 80\n",
            "Fold :  1\n",
            "Fold :  2\n",
            "Fold :  3\n",
            "Fold :  4\n",
            "Fold :  5\n",
            "done 90\n",
            "all done\n"
          ],
          "name": "stdout"
        }
      ]
    },
    {
      "cell_type": "code",
      "metadata": {
        "id": "lQZxb4cH3vJP",
        "colab_type": "code",
        "colab": {
          "base_uri": "https://localhost:8080/",
          "height": 187
        },
        "outputId": "64ef1c4b-64bb-4509-a069-066cfb8afa8b"
      },
      "source": [
        "print_accuracy(c.copy(), train_accuracy_avg_list.copy(), val_accuracy_avg_list.copy(), test_accuracy_list.copy())"
      ],
      "execution_count": 42,
      "outputs": [
        {
          "output_type": "stream",
          "text": [
            "c :\t 1 \tTrain Accuracy :\t 0.9973294097378238 \tVal Accuracy :\t 0.776733879437093 \tTest Accuracy :\t 0.7315\n",
            "c :\t 10 \tTrain Accuracy :\t 1.0 \tVal Accuracy :\t 0.794129697408465 \tTest Accuracy :\t 0.7075\n",
            "c :\t 20 \tTrain Accuracy :\t 1.0 \tVal Accuracy :\t 0.794129697408465 \tTest Accuracy :\t 0.7075\n",
            "c :\t 30 \tTrain Accuracy :\t 1.0 \tVal Accuracy :\t 0.794129697408465 \tTest Accuracy :\t 0.7075\n",
            "c :\t 40 \tTrain Accuracy :\t 1.0 \tVal Accuracy :\t 0.794129697408465 \tTest Accuracy :\t 0.7075\n",
            "c :\t 50 \tTrain Accuracy :\t 1.0 \tVal Accuracy :\t 0.794129697408465 \tTest Accuracy :\t 0.7075\n",
            "c :\t 60 \tTrain Accuracy :\t 1.0 \tVal Accuracy :\t 0.794129697408465 \tTest Accuracy :\t 0.7075\n",
            "c :\t 70 \tTrain Accuracy :\t 1.0 \tVal Accuracy :\t 0.794129697408465 \tTest Accuracy :\t 0.7075\n",
            "c :\t 80 \tTrain Accuracy :\t 1.0 \tVal Accuracy :\t 0.794129697408465 \tTest Accuracy :\t 0.7075\n",
            "c :\t 90 \tTrain Accuracy :\t 1.0 \tVal Accuracy :\t 0.794129697408465 \tTest Accuracy :\t 0.7075\n"
          ],
          "name": "stdout"
        }
      ]
    },
    {
      "cell_type": "code",
      "metadata": {
        "id": "UonvHe_JI8zu",
        "colab_type": "code",
        "colab": {}
      },
      "source": [
        "c = [0.50, 0.90, 1.20, 2.20, 3, 4.5, 5.5, 6.5, 8, 9]"
      ],
      "execution_count": 23,
      "outputs": []
    },
    {
      "cell_type": "code",
      "metadata": {
        "id": "RQo0Dw_xgfyT",
        "colab_type": "code",
        "colab": {}
      },
      "source": [
        "train_accuracy_avg_list, val_accuracy_avg_list,test_accuracy_list  = crossValidation(c.copy(), x_training.copy(), y_training.copy(), x_test.copy(), y_test.copy())"
      ],
      "execution_count": null,
      "outputs": []
    },
    {
      "cell_type": "code",
      "metadata": {
        "id": "TavAXVGaJqNk",
        "colab_type": "code",
        "colab": {
          "base_uri": "https://localhost:8080/",
          "height": 187
        },
        "outputId": "e1be7dc5-a561-40da-9cc1-d6de12309197"
      },
      "source": [
        "print_accuracy(c.copy(), train_accuracy_avg_list.copy(), val_accuracy_avg_list.copy(), test_accuracy_list.copy())"
      ],
      "execution_count": null,
      "outputs": [
        {
          "output_type": "stream",
          "text": [
            "c :\t 0.5 \tTrain Accuracy :\t 0.9654238549702903 \tVal Accuracy :\t 0.8189858647611132 \tTest Accuracy :\t 0.906\n",
            "c :\t 0.9 \tTrain Accuracy :\t 0.9713322856597154 \tVal Accuracy :\t 0.8162459612007131 \tTest Accuracy :\t 0.9285\n",
            "c :\t 1.2 \tTrain Accuracy :\t 0.9743574020386487 \tVal Accuracy :\t 0.817191989882333 \tTest Accuracy :\t 0.936\n",
            "c :\t 2.2 \tTrain Accuracy :\t 0.9796040981202729 \tVal Accuracy :\t 0.8149244973566254 \tTest Accuracy :\t 0.9545\n",
            "c :\t 3 \tTrain Accuracy :\t 0.9822038250504029 \tVal Accuracy :\t 0.8134123440900579 \tTest Accuracy :\t 0.966\n",
            "c :\t 4.5 \tTrain Accuracy :\t 0.9851343927532735 \tVal Accuracy :\t 0.8107661540799134 \tTest Accuracy :\t 0.9715\n",
            "c :\t 5.5 \tTrain Accuracy :\t 0.9863160794497091 \tVal Accuracy :\t 0.8090645626924434 \tTest Accuracy :\t 0.975\n",
            "c :\t 6.5 \tTrain Accuracy :\t 0.9875214095988565 \tVal Accuracy :\t 0.8084031157409269 \tTest Accuracy :\t 0.978\n",
            "c :\t 8 \tTrain Accuracy :\t 0.9886322022429554 \tVal Accuracy :\t 0.8050002904807233 \tTest Accuracy :\t 0.9785\n",
            "c :\t 9 \tTrain Accuracy :\t 0.9895302680459854 \tVal Accuracy :\t 0.8043387094611807 \tTest Accuracy :\t 0.9785\n"
          ],
          "name": "stdout"
        }
      ]
    },
    {
      "cell_type": "code",
      "metadata": {
        "id": "ZShL3oNtSkdF",
        "colab_type": "code",
        "colab": {
          "base_uri": "https://localhost:8080/",
          "height": 1000
        },
        "outputId": "d67748b2-ad66-481a-c0d8-91c83ddf2a99"
      },
      "source": [
        "c = [.05, 0.1, 0.15, 0.20, 0.25, 0.30, 0.35, 0.4, 0.45]\n",
        "train_accuracy_avg_list, val_accuracy_avg_list,test_accuracy_list  = crossValidation(c.copy(), x_training.copy(), y_training.copy(), x_test.copy(), y_test.copy())"
      ],
      "execution_count": 21,
      "outputs": [
        {
          "output_type": "stream",
          "text": [
            "/usr/local/lib/python3.6/dist-packages/sklearn/model_selection/_split.py:296: FutureWarning: Setting a random_state has no effect since shuffle is False. This will raise an error in 0.24. You should leave random_state to its default (None), or set shuffle=True.\n",
            "  FutureWarning\n"
          ],
          "name": "stderr"
        },
        {
          "output_type": "stream",
          "text": [
            "Fold :  1\n",
            "Fold :  2\n",
            "Fold :  3\n",
            "Fold :  4\n",
            "Fold :  5\n",
            "done 0.05\n",
            "Fold :  1\n",
            "Fold :  2\n",
            "Fold :  3\n",
            "Fold :  4\n",
            "Fold :  5\n",
            "done 0.1\n",
            "Fold :  1\n",
            "Fold :  2\n",
            "Fold :  3\n",
            "Fold :  4\n",
            "Fold :  5\n",
            "done 0.15\n",
            "Fold :  1\n",
            "Fold :  2\n",
            "Fold :  3\n",
            "Fold :  4\n",
            "Fold :  5\n",
            "done 0.2\n",
            "Fold :  1\n",
            "Fold :  2\n",
            "Fold :  3\n",
            "Fold :  4\n",
            "Fold :  5\n",
            "done 0.25\n",
            "Fold :  1\n",
            "Fold :  2\n",
            "Fold :  3\n",
            "Fold :  4\n",
            "Fold :  5\n",
            "done 0.3\n",
            "Fold :  1\n",
            "Fold :  2\n",
            "Fold :  3\n",
            "Fold :  4\n",
            "Fold :  5\n",
            "done 0.35\n",
            "Fold :  1\n",
            "Fold :  2\n",
            "Fold :  3\n",
            "Fold :  4\n",
            "Fold :  5\n",
            "done 0.4\n",
            "Fold :  1\n",
            "Fold :  2\n",
            "Fold :  3\n",
            "Fold :  4\n",
            "Fold :  5\n",
            "done 0.45\n",
            "all done\n"
          ],
          "name": "stdout"
        }
      ]
    },
    {
      "cell_type": "code",
      "metadata": {
        "id": "HobTpqswTCXr",
        "colab_type": "code",
        "colab": {
          "base_uri": "https://localhost:8080/",
          "height": 170
        },
        "outputId": "080b9929-9c5a-40c9-da93-53c4021ffb40"
      },
      "source": [
        "print_accuracy(c.copy(), train_accuracy_avg_list.copy(), val_accuracy_avg_list.copy(), test_accuracy_list.copy())"
      ],
      "execution_count": 22,
      "outputs": [
        {
          "output_type": "stream",
          "text": [
            "c :\t 0.05 \tTrain Accuracy :\t 0.7894688861127055 \tVal Accuracy :\t 0.39561874628519844 \tTest Accuracy :\t 0.62\n",
            "c :\t 0.1 \tTrain Accuracy :\t 0.8862022300529174 \tVal Accuracy :\t 0.5862281748425817 \tTest Accuracy :\t 0.7135\n",
            "c :\t 0.15 \tTrain Accuracy :\t 0.9243004480163393 \tVal Accuracy :\t 0.650137106901375 \tTest Accuracy :\t 0.733\n",
            "c :\t 0.2 \tTrain Accuracy :\t 0.9449567378715524 \tVal Accuracy :\t 0.6835110181572797 \tTest Accuracy :\t 0.744\n",
            "c :\t 0.25 \tTrain Accuracy :\t 0.9600824203053524 \tVal Accuracy :\t 0.7056336725254393 \tTest Accuracy :\t 0.748\n",
            "c :\t 0.3 \tTrain Accuracy :\t 0.9691105886613697 \tVal Accuracy :\t 0.7218005782800859 \tTest Accuracy :\t 0.7475\n",
            "c :\t 0.35 \tTrain Accuracy :\t 0.9758699043730417 \tVal Accuracy :\t 0.7338074425630231 \tTest Accuracy :\t 0.7405\n",
            "c :\t 0.4 \tTrain Accuracy :\t 0.9800058161888281 \tVal Accuracy :\t 0.7419384002109337 \tTest Accuracy :\t 0.7405\n",
            "c :\t 0.45 \tTrain Accuracy :\t 0.9842835580005929 \tVal Accuracy :\t 0.7466658175691679 \tTest Accuracy :\t 0.743\n"
          ],
          "name": "stdout"
        }
      ]
    },
    {
      "cell_type": "code",
      "metadata": {
        "id": "YFSb-npkbX9S",
        "colab_type": "code",
        "colab": {}
      },
      "source": [
        "from sklearn.ensemble import RandomForestRegressor"
      ],
      "execution_count": 45,
      "outputs": []
    },
    {
      "cell_type": "code",
      "metadata": {
        "id": "cjDdbpmLlkgo",
        "colab_type": "code",
        "colab": {}
      },
      "source": [
        "def model_RandomForestRegressor(n_estimators, max_depth, x_training, y_training, x_test, y_test):\n",
        "    kf = KFold(n_splits = 5, random_state=seed)\n",
        "    train_accuracy_avg_list = []\n",
        "    val_accuracy_avg_list = []\n",
        "    test_accuracy_list = []\n",
        "    len_n_estimators = len(n_estimators)\n",
        "    flag = False\n",
        "    if(len_n_estimators > 1 and max_depth[0] is None ):\n",
        "        loop_goes = len_n_estimators\n",
        "        flag = True\n",
        "    else:\n",
        "        loop_goes = len(max_depth)\n",
        "\n",
        "    for i in range(0, loop_goes):\n",
        "        if(len_n_estimators > 1 and max_depth[0] is None ):\n",
        "            regr = RandomForestRegressor(n_estimators = n_estimators[i], max_depth = None, random_state = seed)\n",
        "        else:\n",
        "            regr = RandomForestRegressor(n_estimators = n_estimators[0], max_depth = max_depth[i], random_state = seed)\n",
        "\n",
        "        val_accuracy_list = []\n",
        "        train_accuracy_list = []\n",
        "        count = 1\n",
        "        for train_index, val_index in kf.split(x_training):\n",
        "            print(\"Fold : \",count)\n",
        "            X_train, X_val = x_training[train_index], x_training[val_index]\n",
        "            y_train, y_val = y_training[train_index], y_training[val_index]\n",
        "            \n",
        "            regr.fit(X_train, y_train)\n",
        "            \n",
        "            val_accuracy = regr.score(X_val, y_val)\n",
        "            val_accuracy_list.append(val_accuracy)\n",
        "\n",
        "            train_accuracy = regr.score(X_train, y_train)\n",
        "            train_accuracy_list.append(train_accuracy)\n",
        "\n",
        "            count += 1 \n",
        "        if(flag):\n",
        "            print(\"done\", n_estimators[i])\n",
        "        else :\n",
        "            print(\"done\", max_depth[i])\n",
        "        train_accuracy_avg = avg(train_accuracy_list)\n",
        "        train_accuracy_avg_list.append(train_accuracy_avg)\n",
        "        val_accuracy_avg = avg(val_accuracy_list)\n",
        "        val_accuracy_avg_list.append(val_accuracy_avg)\n",
        "\n",
        "        test_accuracy = regr.score(x_test, y_test)\n",
        "        test_accuracy_list.append(test_accuracy)\n",
        "    print(\"all done\")\n",
        "    return train_accuracy_avg_list.copy(), val_accuracy_avg_list.copy(), test_accuracy_list.copy()"
      ],
      "execution_count": 46,
      "outputs": []
    },
    {
      "cell_type": "code",
      "metadata": {
        "id": "RLDhtBqCm7Z4",
        "colab_type": "code",
        "colab": {}
      },
      "source": [
        "def print_accuracy_n_estimators(n_estimators, train_list, val_list, test_accuracy_list):\n",
        "    for i in range(0, len(n_estimators)):\n",
        "        print(\"n_estimators :\\t\", n_estimators[i], \"\\tTrain Accuracy :\\t\", train_list[i], \"\\tVal Accuracy :\\t\", val_list[i], \"\\tTest Accuracy :\\t\", test_accuracy_list[i])"
      ],
      "execution_count": 47,
      "outputs": []
    },
    {
      "cell_type": "code",
      "metadata": {
        "id": "kMRaXBCNmZNA",
        "colab_type": "code",
        "colab": {
          "base_uri": "https://localhost:8080/",
          "height": 1000
        },
        "outputId": "b651a354-58b2-4047-b1db-d1632ac0120f"
      },
      "source": [
        "n_estimators = [50, 100, 150, 200, 250, 300, 350, 400, 450, 500, 550]\n",
        "max_depth = [None]\n",
        "train_accuracy_avg_list, val_accuracy_avg_list, test_accuracy_list  = model_RandomForestRegressor(n_estimators.copy(), max_depth, x_training.copy(), y_training.copy(), x_test.copy(), y_test.copy())"
      ],
      "execution_count": 49,
      "outputs": [
        {
          "output_type": "stream",
          "text": [
            "/usr/local/lib/python3.6/dist-packages/sklearn/model_selection/_split.py:296: FutureWarning: Setting a random_state has no effect since shuffle is False. This will raise an error in 0.24. You should leave random_state to its default (None), or set shuffle=True.\n",
            "  FutureWarning\n"
          ],
          "name": "stderr"
        },
        {
          "output_type": "stream",
          "text": [
            "Fold :  1\n",
            "Fold :  2\n",
            "Fold :  3\n",
            "Fold :  4\n",
            "Fold :  5\n",
            "done 50\n",
            "Fold :  1\n",
            "Fold :  2\n",
            "Fold :  3\n",
            "Fold :  4\n",
            "Fold :  5\n",
            "done 100\n",
            "Fold :  1\n",
            "Fold :  2\n",
            "Fold :  3\n",
            "Fold :  4\n",
            "Fold :  5\n",
            "done 150\n",
            "Fold :  1\n",
            "Fold :  2\n",
            "Fold :  3\n",
            "Fold :  4\n",
            "Fold :  5\n",
            "done 200\n",
            "Fold :  1\n",
            "Fold :  2\n",
            "Fold :  3\n",
            "Fold :  4\n",
            "Fold :  5\n",
            "done 250\n",
            "Fold :  1\n",
            "Fold :  2\n",
            "Fold :  3\n",
            "Fold :  4\n",
            "Fold :  5\n",
            "done 300\n",
            "Fold :  1\n",
            "Fold :  2\n",
            "Fold :  3\n",
            "Fold :  4\n",
            "Fold :  5\n",
            "done 350\n",
            "Fold :  1\n",
            "Fold :  2\n",
            "Fold :  3\n",
            "Fold :  4\n",
            "Fold :  5\n",
            "done 400\n",
            "Fold :  1\n",
            "Fold :  2\n",
            "Fold :  3\n",
            "Fold :  4\n",
            "Fold :  5\n",
            "done 450\n",
            "Fold :  1\n",
            "Fold :  2\n",
            "Fold :  3\n",
            "Fold :  4\n",
            "Fold :  5\n",
            "done 500\n",
            "Fold :  1\n",
            "Fold :  2\n",
            "Fold :  3\n",
            "Fold :  4\n",
            "Fold :  5\n",
            "done 550\n",
            "all done\n"
          ],
          "name": "stdout"
        }
      ]
    },
    {
      "cell_type": "code",
      "metadata": {
        "id": "oE9XeaYpmvow",
        "colab_type": "code",
        "colab": {
          "base_uri": "https://localhost:8080/",
          "height": 204
        },
        "outputId": "6228aa27-5c39-4d72-a786-374282000563"
      },
      "source": [
        "print_accuracy_n_estimators(n_estimators.copy(), train_accuracy_avg_list.copy(), val_accuracy_avg_list.copy(), test_accuracy_list.copy())"
      ],
      "execution_count": 50,
      "outputs": [
        {
          "output_type": "stream",
          "text": [
            "n_estimators :\t 50 \tTrain Accuracy :\t 0.9836880008559502 \tVal Accuracy :\t 0.12412409100533073 \tTest Accuracy :\t -0.7482544\n",
            "n_estimators :\t 100 \tTrain Accuracy :\t 0.9847371889374555 \tVal Accuracy :\t 0.12612356349102125 \tTest Accuracy :\t -0.7373873999999998\n",
            "n_estimators :\t 150 \tTrain Accuracy :\t 0.9850139392494972 \tVal Accuracy :\t 0.12729349522302713 \tTest Accuracy :\t -0.7360907555555556\n",
            "n_estimators :\t 200 \tTrain Accuracy :\t 0.985137609853779 \tVal Accuracy :\t 0.1273307479343162 \tTest Accuracy :\t -0.7342023500000001\n",
            "n_estimators :\t 250 \tTrain Accuracy :\t 0.9852388413921689 \tVal Accuracy :\t 0.12728622010625687 \tTest Accuracy :\t -0.741257504\n",
            "n_estimators :\t 300 \tTrain Accuracy :\t 0.985267640132386 \tVal Accuracy :\t 0.12696164447497768 \tTest Accuracy :\t -0.7468063777777778\n",
            "n_estimators :\t 350 \tTrain Accuracy :\t 0.985299227609976 \tVal Accuracy :\t 0.12694822531335107 \tTest Accuracy :\t -0.7417710040816325\n",
            "n_estimators :\t 400 \tTrain Accuracy :\t 0.9853231771006353 \tVal Accuracy :\t 0.12700807042487558 \tTest Accuracy :\t -0.7411221500000003\n",
            "n_estimators :\t 450 \tTrain Accuracy :\t 0.985362991427353 \tVal Accuracy :\t 0.12688756893446113 \tTest Accuracy :\t -0.7418442370370371\n",
            "n_estimators :\t 500 \tTrain Accuracy :\t 0.9853732596585557 \tVal Accuracy :\t 0.12712224566865263 \tTest Accuracy :\t -0.742830512\n",
            "n_estimators :\t 550 \tTrain Accuracy :\t 0.985396777635874 \tVal Accuracy :\t 0.1271273738520838 \tTest Accuracy :\t -0.7443483636363635\n"
          ],
          "name": "stdout"
        }
      ]
    },
    {
      "cell_type": "code",
      "metadata": {
        "id": "PzEhzQsuImI-",
        "colab_type": "code",
        "colab": {
          "base_uri": "https://localhost:8080/",
          "height": 700
        },
        "outputId": "abb4c446-a5ad-41f3-fc23-5c4a2e6d5f40"
      },
      "source": [
        "n_estimators = [200]\n",
        "max_depth = [1,5,10,15,20,30]\n",
        "train_accuracy_avg_list, val_accuracy_avg_list, test_accuracy_list  = model_RandomForestRegressor(n_estimators.copy(), max_depth, x_training.copy(), y_training.copy(), x_test.copy(), y_test.copy())"
      ],
      "execution_count": 51,
      "outputs": [
        {
          "output_type": "stream",
          "text": [
            "/usr/local/lib/python3.6/dist-packages/sklearn/model_selection/_split.py:296: FutureWarning: Setting a random_state has no effect since shuffle is False. This will raise an error in 0.24. You should leave random_state to its default (None), or set shuffle=True.\n",
            "  FutureWarning\n"
          ],
          "name": "stderr"
        },
        {
          "output_type": "stream",
          "text": [
            "Fold :  1\n",
            "Fold :  2\n",
            "Fold :  3\n",
            "Fold :  4\n",
            "Fold :  5\n",
            "done 1\n",
            "Fold :  1\n",
            "Fold :  2\n",
            "Fold :  3\n",
            "Fold :  4\n",
            "Fold :  5\n",
            "done 5\n",
            "Fold :  1\n",
            "Fold :  2\n",
            "Fold :  3\n",
            "Fold :  4\n",
            "Fold :  5\n",
            "done 10\n",
            "Fold :  1\n",
            "Fold :  2\n",
            "Fold :  3\n",
            "Fold :  4\n",
            "Fold :  5\n",
            "done 15\n",
            "Fold :  1\n",
            "Fold :  2\n",
            "Fold :  3\n",
            "Fold :  4\n",
            "Fold :  5\n",
            "done 20\n",
            "Fold :  1\n",
            "Fold :  2\n",
            "Fold :  3\n",
            "Fold :  4\n",
            "Fold :  5\n",
            "done 30\n",
            "all done\n"
          ],
          "name": "stdout"
        }
      ]
    },
    {
      "cell_type": "code",
      "metadata": {
        "id": "HrRIqy68I8Hz",
        "colab_type": "code",
        "colab": {}
      },
      "source": [
        "def print_accuracy_max_depth(max_depth, train_list, val_list, test_accuracy_list):\n",
        "    for i in range(0, len(max_depth)):\n",
        "        print(\"max_depth :\\t\", max_depth[i], \"\\tTrain Accuracy :\\t\", train_list[i], \"\\tVal Accuracy :\\t\", val_list[i], \"\\tTest Accuracy :\\t\", test_accuracy_list[i])"
      ],
      "execution_count": 52,
      "outputs": []
    },
    {
      "cell_type": "code",
      "metadata": {
        "id": "8Ls_QuPTI25k",
        "colab_type": "code",
        "colab": {
          "base_uri": "https://localhost:8080/",
          "height": 119
        },
        "outputId": "41615b16-4e5d-4b30-e65e-f581402b9036"
      },
      "source": [
        "print_accuracy_max_depth(max_depth.copy(), train_accuracy_avg_list.copy(), val_accuracy_avg_list.copy(), test_accuracy_list.copy())"
      ],
      "execution_count": 53,
      "outputs": [
        {
          "output_type": "stream",
          "text": [
            "max_depth :\t 1 \tTrain Accuracy :\t 0.34522746075385535 \tVal Accuracy :\t 0.08892436789876897 \tTest Accuracy :\t -0.13642141436616484\n",
            "max_depth :\t 5 \tTrain Accuracy :\t 0.7980735169952047 \tVal Accuracy :\t 0.10147855585183563 \tTest Accuracy :\t -0.6253549812362516\n",
            "max_depth :\t 10 \tTrain Accuracy :\t 0.9681213337393094 \tVal Accuracy :\t 0.1243461254018364 \tTest Accuracy :\t -0.7435357198212313\n",
            "max_depth :\t 15 \tTrain Accuracy :\t 0.9835510602788948 \tVal Accuracy :\t 0.12735294233763186 \tTest Accuracy :\t -0.7338448829688875\n",
            "max_depth :\t 20 \tTrain Accuracy :\t 0.9850799771482132 \tVal Accuracy :\t 0.12738758159419877 \tTest Accuracy :\t -0.7343157322904139\n",
            "max_depth :\t 30 \tTrain Accuracy :\t 0.985137609853779 \tVal Accuracy :\t 0.1273307479343162 \tTest Accuracy :\t -0.7342023500000001\n"
          ],
          "name": "stdout"
        }
      ]
    }
  ]
}