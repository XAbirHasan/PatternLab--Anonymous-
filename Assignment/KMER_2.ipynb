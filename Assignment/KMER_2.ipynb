{
  "nbformat": 4,
  "nbformat_minor": 0,
  "metadata": {
    "colab": {
      "name": "KMER 2.ipynb",
      "provenance": [],
      "collapsed_sections": [],
      "toc_visible": true
    },
    "kernelspec": {
      "name": "python3",
      "display_name": "Python 3"
    }
  },
  "cells": [
    {
      "cell_type": "code",
      "metadata": {
        "id": "fhweRYNcPfhI",
        "colab_type": "code",
        "colab": {
          "base_uri": "https://localhost:8080/",
          "height": 35
        },
        "outputId": "ad6712ba-d138-460d-be84-bced49f33834"
      },
      "source": [
        "from google.colab import drive\n",
        "drive.mount('/content/drive')"
      ],
      "execution_count": 34,
      "outputs": [
        {
          "output_type": "stream",
          "text": [
            "Drive already mounted at /content/drive; to attempt to forcibly remount, call drive.mount(\"/content/drive\", force_remount=True).\n"
          ],
          "name": "stdout"
        }
      ]
    },
    {
      "cell_type": "code",
      "metadata": {
        "id": "V70Sd5kALejP",
        "colab_type": "code",
        "colab": {}
      },
      "source": [
        "from sklearn.model_selection import train_test_split\n",
        "import numpy as np\n",
        "from sklearn.svm import SVC\n",
        "from sklearn.metrics import accuracy_score\n",
        "from sklearn.model_selection import KFold"
      ],
      "execution_count": 35,
      "outputs": []
    },
    {
      "cell_type": "code",
      "metadata": {
        "id": "Bkibhn2DD9hU",
        "colab_type": "code",
        "colab": {}
      },
      "source": [
        "\n",
        "pos_5289 = \"/content/drive/My Drive/S.T.U.D.Y/11th Semester/Pattern Lab/Excel to Numpy/Output/3rd_pos_5289/kmer 2.npy\"\n",
        "neg_5289 = \"/content/drive/My Drive/S.T.U.D.Y/11th Semester/Pattern Lab/Excel to Numpy/Output/4th_neg_5289/kmer 2.npy\"\n",
        "pos_1000 = \"/content/drive/My Drive/S.T.U.D.Y/11th Semester/Pattern Lab/Excel to Numpy/Output/2nd_pos_1000/training_code_normalized_kmer 2.npy\"\n",
        "neg_1000 = \"/content/drive/My Drive/S.T.U.D.Y/11th Semester/Pattern Lab/Excel to Numpy/Output/1st_neg_1000/training_code_normalized_kmer 2.npy\"\n",
        "\n",
        "x_train_pos = np.load(pos_5289) \n",
        "x_train_neg = np.load(neg_5289) \n",
        "x_test_pos = np.load(pos_1000) \n",
        "x_test_neg = np.load(neg_1000) \n",
        "\n",
        "y_train_pos = np.tile(1, 5289) \n",
        "y_train_neg = np.tile(0, 5289) \n",
        "y_test_pos = np.tile(1, 1000) \n",
        "y_test_neg = np.tile(0, 1000) "
      ],
      "execution_count": 36,
      "outputs": []
    },
    {
      "cell_type": "code",
      "metadata": {
        "colab_type": "code",
        "id": "ryFnjfojkrxZ",
        "colab": {
          "base_uri": "https://localhost:8080/",
          "height": 90
        },
        "outputId": "7ffb2521-60cc-47e4-b03c-381ec8f37688"
      },
      "source": [
        "print(x_test_neg.shape)\n",
        "print(y_test_neg.shape)\n",
        "\n",
        "print(x_train_neg.shape)\n",
        "print(y_train_neg.shape)\n"
      ],
      "execution_count": 37,
      "outputs": [
        {
          "output_type": "stream",
          "text": [
            "(1000, 16)\n",
            "(1000,)\n",
            "(5289, 16)\n",
            "(5289,)\n"
          ],
          "name": "stdout"
        }
      ]
    },
    {
      "cell_type": "code",
      "metadata": {
        "id": "NdfC-KxeJsY3",
        "colab_type": "code",
        "colab": {}
      },
      "source": [
        "seed = 42\n",
        "np.random.seed(seed)"
      ],
      "execution_count": 38,
      "outputs": []
    },
    {
      "cell_type": "code",
      "metadata": {
        "id": "KGdsVHeYJ3ag",
        "colab_type": "code",
        "colab": {}
      },
      "source": [
        "x_training = np.concatenate((x_train_pos, x_train_neg), axis= 0)\n",
        "y_training = np.concatenate((y_train_pos, y_train_neg))"
      ],
      "execution_count": 39,
      "outputs": []
    },
    {
      "cell_type": "code",
      "metadata": {
        "id": "Cex32MGfNR_Y",
        "colab_type": "code",
        "colab": {}
      },
      "source": [
        "x_test = np.concatenate((x_test_pos, x_test_neg))\n",
        "y_test = np.concatenate((y_test_pos, y_test_neg))"
      ],
      "execution_count": 40,
      "outputs": []
    },
    {
      "cell_type": "code",
      "metadata": {
        "id": "Mwihqsz7lG4W",
        "colab_type": "code",
        "colab": {
          "base_uri": "https://localhost:8080/",
          "height": 54
        },
        "outputId": "98aa62cd-8e77-40d6-d274-5e4cf9f663b3"
      },
      "source": [
        "print(x_test.shape)\n",
        "print(y_test.shape)"
      ],
      "execution_count": 41,
      "outputs": [
        {
          "output_type": "stream",
          "text": [
            "(2000, 16)\n",
            "(2000,)\n"
          ],
          "name": "stdout"
        }
      ]
    },
    {
      "cell_type": "code",
      "metadata": {
        "id": "KwxibWKGlMqS",
        "colab_type": "code",
        "colab": {
          "base_uri": "https://localhost:8080/",
          "height": 35
        },
        "outputId": "554728b5-e30e-4479-d0c9-502af1d86af1"
      },
      "source": [
        "print(x_training.shape)"
      ],
      "execution_count": 42,
      "outputs": [
        {
          "output_type": "stream",
          "text": [
            "(10578, 16)\n"
          ],
          "name": "stdout"
        }
      ]
    },
    {
      "cell_type": "code",
      "metadata": {
        "id": "nHtqFEfUlQhc",
        "colab_type": "code",
        "colab": {}
      },
      "source": [
        "def avg(list_value):\n",
        "    return sum(list_value)/len(list_value)"
      ],
      "execution_count": 43,
      "outputs": []
    },
    {
      "cell_type": "code",
      "metadata": {
        "id": "veZ7aQjkV_62",
        "colab_type": "code",
        "colab": {}
      },
      "source": [
        "def crossValidation(c, x_training, y_training, x_test, y_test):\n",
        "    kf = KFold(n_splits = 5, random_state=seed)\n",
        "    train_accuracy_avg_list = []\n",
        "    val_accuracy_avg_list = []\n",
        "    test_accuracy_list = []\n",
        "    for i in range(0, len(c)):\n",
        "        clf = SVC(C = c[i],  random_state = seed)\n",
        "        val_accuracy_list = []\n",
        "        train_accuracy_list = []\n",
        "        count = 1\n",
        "        for train_index, val_index in kf.split(x_training):\n",
        "            print(\"Fold : \",count)\n",
        "            X_train, X_val = x_training[train_index], x_training[val_index]\n",
        "            y_train, y_val = y_training[train_index], y_training[val_index]\n",
        "            \n",
        "            clf.fit(X_train, y_train)\n",
        "\n",
        "            y_val_pred = clf.predict(X_val)\n",
        "            val_accuracy = accuracy_score(y_val, y_val_pred)\n",
        "            val_accuracy_list.append(val_accuracy)\n",
        "\n",
        "            y_train_pred = clf.predict(X_train)\n",
        "            train_accuracy = accuracy_score(y_train, y_train_pred)\n",
        "            train_accuracy_list.append(train_accuracy)\n",
        "\n",
        "            count += 1 \n",
        "\n",
        "        print(\"done\", c[i])\n",
        "        train_accuracy_avg = avg(train_accuracy_list)\n",
        "        train_accuracy_avg_list.append(train_accuracy_avg)\n",
        "        val_accuracy_avg = avg(val_accuracy_list)\n",
        "        val_accuracy_avg_list.append(val_accuracy_avg)\n",
        "\n",
        "        y_test_pred = clf.predict(x_test)\n",
        "        test_accuracy = accuracy_score(y_test, y_test_pred)\n",
        "        test_accuracy_list.append(test_accuracy)\n",
        "    print(\"all done\")\n",
        "    return train_accuracy_avg_list.copy(), val_accuracy_avg_list.copy(), test_accuracy_list.copy()"
      ],
      "execution_count": 44,
      "outputs": []
    },
    {
      "cell_type": "code",
      "metadata": {
        "id": "hjFU6hGp15aO",
        "colab_type": "code",
        "colab": {}
      },
      "source": [
        "def print_accuracy(c, train_list, val_list, test_accuracy_list):\n",
        "    for i in range(0, len(c)):\n",
        "        print(\"c :\\t\", c[i], \"\\tTrain Accuracy :\\t\", train_list[i], \"\\tVal Accuracy :\\t\", val_list[i], \"\\tTest Accuracy :\\t\", test_accuracy_list[i])"
      ],
      "execution_count": 45,
      "outputs": []
    },
    {
      "cell_type": "code",
      "metadata": {
        "id": "ZyLHiqsVTTLz",
        "colab_type": "code",
        "colab": {}
      },
      "source": [
        "c = [1 , 10, 20, 30, 40, 50, 60, 70, 80, 90]"
      ],
      "execution_count": 46,
      "outputs": []
    },
    {
      "cell_type": "code",
      "metadata": {
        "id": "vSLmmK-U3UCZ",
        "colab_type": "code",
        "colab": {
          "base_uri": "https://localhost:8080/",
          "height": 1000
        },
        "outputId": "c1143fc1-fe2d-4993-c967-142d6f24318d"
      },
      "source": [
        "train_accuracy_avg_list, val_accuracy_avg_list,test_accuracy_list = crossValidation(c.copy(), x_training.copy(), y_training.copy(), x_test.copy(), y_test.copy())"
      ],
      "execution_count": 47,
      "outputs": [
        {
          "output_type": "stream",
          "text": [
            "/usr/local/lib/python3.6/dist-packages/sklearn/model_selection/_split.py:296: FutureWarning: Setting a random_state has no effect since shuffle is False. This will raise an error in 0.24. You should leave random_state to its default (None), or set shuffle=True.\n",
            "  FutureWarning\n"
          ],
          "name": "stderr"
        },
        {
          "output_type": "stream",
          "text": [
            "Fold :  1\n",
            "Fold :  2\n",
            "Fold :  3\n",
            "Fold :  4\n",
            "Fold :  5\n",
            "done 1\n",
            "Fold :  1\n",
            "Fold :  2\n",
            "Fold :  3\n",
            "Fold :  4\n",
            "Fold :  5\n",
            "done 10\n",
            "Fold :  1\n",
            "Fold :  2\n",
            "Fold :  3\n",
            "Fold :  4\n",
            "Fold :  5\n",
            "done 20\n",
            "Fold :  1\n",
            "Fold :  2\n",
            "Fold :  3\n",
            "Fold :  4\n",
            "Fold :  5\n",
            "done 30\n",
            "Fold :  1\n",
            "Fold :  2\n",
            "Fold :  3\n",
            "Fold :  4\n",
            "Fold :  5\n",
            "done 40\n",
            "Fold :  1\n",
            "Fold :  2\n",
            "Fold :  3\n",
            "Fold :  4\n",
            "Fold :  5\n",
            "done 50\n",
            "Fold :  1\n",
            "Fold :  2\n",
            "Fold :  3\n",
            "Fold :  4\n",
            "Fold :  5\n",
            "done 60\n",
            "Fold :  1\n",
            "Fold :  2\n",
            "Fold :  3\n",
            "Fold :  4\n",
            "Fold :  5\n",
            "done 70\n",
            "Fold :  1\n",
            "Fold :  2\n",
            "Fold :  3\n",
            "Fold :  4\n",
            "Fold :  5\n",
            "done 80\n",
            "Fold :  1\n",
            "Fold :  2\n",
            "Fold :  3\n",
            "Fold :  4\n",
            "Fold :  5\n",
            "done 90\n",
            "all done\n"
          ],
          "name": "stdout"
        }
      ]
    },
    {
      "cell_type": "code",
      "metadata": {
        "id": "lQZxb4cH3vJP",
        "colab_type": "code",
        "colab": {
          "base_uri": "https://localhost:8080/",
          "height": 199
        },
        "outputId": "ae1b4ce6-28a2-4a95-df63-e230dd33a9b4"
      },
      "source": [
        "print_accuracy(c.copy(), train_accuracy_avg_list.copy(), val_accuracy_avg_list.copy(), test_accuracy_list.copy())"
      ],
      "execution_count": 48,
      "outputs": [
        {
          "output_type": "stream",
          "text": [
            "c :\t 1 \tTrain Accuracy :\t 0.9963840709931393 \tVal Accuracy :\t 0.980051929015449 \tTest Accuracy :\t 0.924\n",
            "c :\t 10 \tTrain Accuracy :\t 0.9998818302132548 \tVal Accuracy :\t 0.9867650279084941 \tTest Accuracy :\t 0.9135\n",
            "c :\t 20 \tTrain Accuracy :\t 0.9999763649255495 \tVal Accuracy :\t 0.9871431444314845 \tTest Accuracy :\t 0.9115\n",
            "c :\t 30 \tTrain Accuracy :\t 1.0 \tVal Accuracy :\t 0.987426877064089 \tTest Accuracy :\t 0.9105\n",
            "c :\t 40 \tTrain Accuracy :\t 1.0 \tVal Accuracy :\t 0.9870487605410985 \tTest Accuracy :\t 0.9105\n",
            "c :\t 50 \tTrain Accuracy :\t 1.0 \tVal Accuracy :\t 0.9872377964579228 \tTest Accuracy :\t 0.91\n",
            "c :\t 60 \tTrain Accuracy :\t 1.0 \tVal Accuracy :\t 0.9872377964579228 \tTest Accuracy :\t 0.91\n",
            "c :\t 70 \tTrain Accuracy :\t 1.0 \tVal Accuracy :\t 0.9872377964579228 \tTest Accuracy :\t 0.91\n",
            "c :\t 80 \tTrain Accuracy :\t 1.0 \tVal Accuracy :\t 0.9872377964579228 \tTest Accuracy :\t 0.91\n",
            "c :\t 90 \tTrain Accuracy :\t 1.0 \tVal Accuracy :\t 0.9872377964579228 \tTest Accuracy :\t 0.91\n"
          ],
          "name": "stdout"
        }
      ]
    },
    {
      "cell_type": "code",
      "metadata": {
        "id": "UonvHe_JI8zu",
        "colab_type": "code",
        "colab": {
          "base_uri": "https://localhost:8080/",
          "height": 1000
        },
        "outputId": "75f41e7f-44ba-47b7-9eea-39c62d533fcf"
      },
      "source": [
        "c = [0.50, 0.90, 1.20, 2.20, 3, 4.5, 5.5, 6.5, 8, 9]\n",
        "train_accuracy_avg_list, val_accuracy_avg_list,test_accuracy_list  = crossValidation(c.copy(), x_training.copy(), y_training.copy(), x_test.copy(), y_test.copy())"
      ],
      "execution_count": 49,
      "outputs": [
        {
          "output_type": "stream",
          "text": [
            "/usr/local/lib/python3.6/dist-packages/sklearn/model_selection/_split.py:296: FutureWarning: Setting a random_state has no effect since shuffle is False. This will raise an error in 0.24. You should leave random_state to its default (None), or set shuffle=True.\n",
            "  FutureWarning\n"
          ],
          "name": "stderr"
        },
        {
          "output_type": "stream",
          "text": [
            "Fold :  1\n",
            "Fold :  2\n",
            "Fold :  3\n",
            "Fold :  4\n",
            "Fold :  5\n",
            "done 0.5\n",
            "Fold :  1\n",
            "Fold :  2\n",
            "Fold :  3\n",
            "Fold :  4\n",
            "Fold :  5\n",
            "done 0.9\n",
            "Fold :  1\n",
            "Fold :  2\n",
            "Fold :  3\n",
            "Fold :  4\n",
            "Fold :  5\n",
            "done 1.2\n",
            "Fold :  1\n",
            "Fold :  2\n",
            "Fold :  3\n",
            "Fold :  4\n",
            "Fold :  5\n",
            "done 2.2\n",
            "Fold :  1\n",
            "Fold :  2\n",
            "Fold :  3\n",
            "Fold :  4\n",
            "Fold :  5\n",
            "done 3\n",
            "Fold :  1\n",
            "Fold :  2\n",
            "Fold :  3\n",
            "Fold :  4\n",
            "Fold :  5\n",
            "done 4.5\n",
            "Fold :  1\n",
            "Fold :  2\n",
            "Fold :  3\n",
            "Fold :  4\n",
            "Fold :  5\n",
            "done 5.5\n",
            "Fold :  1\n",
            "Fold :  2\n",
            "Fold :  3\n",
            "Fold :  4\n",
            "Fold :  5\n",
            "done 6.5\n",
            "Fold :  1\n",
            "Fold :  2\n",
            "Fold :  3\n",
            "Fold :  4\n",
            "Fold :  5\n",
            "done 8\n",
            "Fold :  1\n",
            "Fold :  2\n",
            "Fold :  3\n",
            "Fold :  4\n",
            "Fold :  5\n",
            "done 9\n",
            "all done\n"
          ],
          "name": "stdout"
        }
      ]
    },
    {
      "cell_type": "code",
      "metadata": {
        "id": "TavAXVGaJqNk",
        "colab_type": "code",
        "colab": {
          "base_uri": "https://localhost:8080/",
          "height": 219
        },
        "outputId": "37083329-6546-46cb-98a1-105ee89ad90d"
      },
      "source": [
        "print_accuracy(c.copy(), train_accuracy_avg_list.copy(), val_accuracy_avg_list.copy(), test_accuracy_list.copy())"
      ],
      "execution_count": 50,
      "outputs": [
        {
          "output_type": "stream",
          "text": [
            "c :\t 0.5 \tTrain Accuracy :\t 0.9925553872176724 \tVal Accuracy :\t 0.9716373728029601 \tTest Accuracy :\t 0.927\n",
            "c :\t 0.9 \tTrain Accuracy :\t 0.9960059293512075 \tVal Accuracy :\t 0.9790119186475217 \tTest Accuracy :\t 0.9255\n",
            "c :\t 1.2 \tTrain Accuracy :\t 0.9971876020838746 \tVal Accuracy :\t 0.9815646185541211 \tTest Accuracy :\t 0.9235\n",
            "c :\t 2.2 \tTrain Accuracy :\t 0.998747416458474 \tVal Accuracy :\t 0.9852520255444279 \tTest Accuracy :\t 0.9175\n",
            "c :\t 3 \tTrain Accuracy :\t 0.9990073855209071 \tVal Accuracy :\t 0.9858194461202947 \tTest Accuracy :\t 0.915\n",
            "c :\t 4.5 \tTrain Accuracy :\t 0.9993382514284306 \tVal Accuracy :\t 0.9867648044617839 \tTest Accuracy :\t 0.9105\n",
            "c :\t 5.5 \tTrain Accuracy :\t 0.9994091538590284 \tVal Accuracy :\t 0.986859322420196 \tTest Accuracy :\t 0.9115\n",
            "c :\t 6.5 \tTrain Accuracy :\t 0.9996218555653144 \tVal Accuracy :\t 0.986859456488222 \tTest Accuracy :\t 0.9125\n",
            "c :\t 8 \tTrain Accuracy :\t 0.9996927579959122 \tVal Accuracy :\t 0.9869540638253183 \tTest Accuracy :\t 0.9145\n",
            "c :\t 9 \tTrain Accuracy :\t 0.9998109277826572 \tVal Accuracy :\t 0.986859545866906 \tTest Accuracy :\t 0.9155\n"
          ],
          "name": "stdout"
        }
      ]
    },
    {
      "cell_type": "code",
      "metadata": {
        "id": "YFSb-npkbX9S",
        "colab_type": "code",
        "colab": {}
      },
      "source": [
        "from sklearn.ensemble import RandomForestRegressor"
      ],
      "execution_count": 51,
      "outputs": []
    },
    {
      "cell_type": "code",
      "metadata": {
        "id": "cjDdbpmLlkgo",
        "colab_type": "code",
        "colab": {}
      },
      "source": [
        "def model_RandomForestRegressor(n_estimators, max_depth, x_training, y_training, x_test, y_test):\n",
        "    kf = KFold(n_splits = 5, random_state=seed)\n",
        "    train_accuracy_avg_list = []\n",
        "    val_accuracy_avg_list = []\n",
        "    test_accuracy_list = []\n",
        "    len_n_estimators = len(n_estimators)\n",
        "    flag = False\n",
        "    if(len_n_estimators > 1 and max_depth[0] is None ):\n",
        "        loop_goes = len_n_estimators\n",
        "        flag = True\n",
        "    else:\n",
        "        loop_goes = len(max_depth)\n",
        "\n",
        "    for i in range(0, loop_goes):\n",
        "        if(len_n_estimators > 1 and max_depth[0] is None ):\n",
        "            regr = RandomForestRegressor(n_estimators = n_estimators[i], max_depth = None, random_state = seed)\n",
        "        else:\n",
        "            regr = RandomForestRegressor(n_estimators = n_estimators[0], max_depth = max_depth[i], random_state = seed)\n",
        "\n",
        "        val_accuracy_list = []\n",
        "        train_accuracy_list = []\n",
        "        count = 1\n",
        "        for train_index, val_index in kf.split(x_training):\n",
        "            print(\"Fold : \",count)\n",
        "            X_train, X_val = x_training[train_index], x_training[val_index]\n",
        "            y_train, y_val = y_training[train_index], y_training[val_index]\n",
        "            \n",
        "            regr.fit(X_train, y_train)\n",
        "            \n",
        "            val_accuracy = regr.score(X_val, y_val)\n",
        "            val_accuracy_list.append(val_accuracy)\n",
        "\n",
        "            train_accuracy = regr.score(X_train, y_train)\n",
        "            train_accuracy_list.append(train_accuracy)\n",
        "\n",
        "            count += 1 \n",
        "        if(flag):\n",
        "            print(\"done\", n_estimators[i])\n",
        "        else :\n",
        "            print(\"done\", max_depth[i])\n",
        "        train_accuracy_avg = avg(train_accuracy_list)\n",
        "        train_accuracy_avg_list.append(train_accuracy_avg)\n",
        "        val_accuracy_avg = avg(val_accuracy_list)\n",
        "        val_accuracy_avg_list.append(val_accuracy_avg)\n",
        "\n",
        "        test_accuracy = regr.score(x_test, y_test)\n",
        "        test_accuracy_list.append(test_accuracy)\n",
        "    print(\"all done\")\n",
        "    return train_accuracy_avg_list.copy(), val_accuracy_avg_list.copy(), test_accuracy_list.copy()"
      ],
      "execution_count": 52,
      "outputs": []
    },
    {
      "cell_type": "code",
      "metadata": {
        "id": "RLDhtBqCm7Z4",
        "colab_type": "code",
        "colab": {}
      },
      "source": [
        "def print_accuracy_n_estimators(n_estimators, train_list, val_list, test_accuracy_list):\n",
        "    for i in range(0, len(n_estimators)):\n",
        "        print(\"n_estimators :\\t\", n_estimators[i], \"\\tTrain Accuracy :\\t\", train_list[i], \"\\tVal Accuracy :\\t\", val_list[i], \"\\tTest Accuracy :\\t\", test_accuracy_list[i])"
      ],
      "execution_count": 53,
      "outputs": []
    },
    {
      "cell_type": "code",
      "metadata": {
        "id": "kMRaXBCNmZNA",
        "colab_type": "code",
        "colab": {
          "base_uri": "https://localhost:8080/",
          "height": 965
        },
        "outputId": "4e03ef30-28c2-4c7c-be77-59cc3d9ef123"
      },
      "source": [
        "n_estimators = [50, 100, 150, 200, 250, 300, 350, 400]\n",
        "max_depth = [None]\n",
        "train_accuracy_avg_list, val_accuracy_avg_list, test_accuracy_list  = model_RandomForestRegressor(n_estimators.copy(), max_depth, x_training.copy(), y_training.copy(), x_test.copy(), y_test.copy())"
      ],
      "execution_count": 54,
      "outputs": [
        {
          "output_type": "stream",
          "text": [
            "/usr/local/lib/python3.6/dist-packages/sklearn/model_selection/_split.py:296: FutureWarning: Setting a random_state has no effect since shuffle is False. This will raise an error in 0.24. You should leave random_state to its default (None), or set shuffle=True.\n",
            "  FutureWarning\n"
          ],
          "name": "stderr"
        },
        {
          "output_type": "stream",
          "text": [
            "Fold :  1\n",
            "Fold :  2\n",
            "Fold :  3\n",
            "Fold :  4\n",
            "Fold :  5\n",
            "done 50\n",
            "Fold :  1\n",
            "Fold :  2\n",
            "Fold :  3\n",
            "Fold :  4\n",
            "Fold :  5\n",
            "done 100\n",
            "Fold :  1\n",
            "Fold :  2\n",
            "Fold :  3\n",
            "Fold :  4\n",
            "Fold :  5\n",
            "done 150\n",
            "Fold :  1\n",
            "Fold :  2\n",
            "Fold :  3\n",
            "Fold :  4\n",
            "Fold :  5\n",
            "done 200\n",
            "Fold :  1\n",
            "Fold :  2\n",
            "Fold :  3\n",
            "Fold :  4\n",
            "Fold :  5\n",
            "done 250\n",
            "Fold :  1\n",
            "Fold :  2\n",
            "Fold :  3\n",
            "Fold :  4\n",
            "Fold :  5\n",
            "done 300\n",
            "Fold :  1\n",
            "Fold :  2\n",
            "Fold :  3\n",
            "Fold :  4\n",
            "Fold :  5\n",
            "done 350\n",
            "Fold :  1\n",
            "Fold :  2\n",
            "Fold :  3\n",
            "Fold :  4\n",
            "Fold :  5\n",
            "done 400\n",
            "all done\n"
          ],
          "name": "stdout"
        }
      ]
    },
    {
      "cell_type": "code",
      "metadata": {
        "colab_type": "code",
        "id": "KkNDCKXnrvFi",
        "colab": {
          "base_uri": "https://localhost:8080/",
          "height": 183
        },
        "outputId": "a421c127-7e90-43ad-d02c-3514cccc7cbe"
      },
      "source": [
        "print_accuracy_n_estimators(n_estimators.copy(), train_accuracy_avg_list.copy(), val_accuracy_avg_list.copy(), test_accuracy_list.copy())"
      ],
      "execution_count": null,
      "outputs": [
        {
          "output_type": "stream",
          "text": [
            "n_estimators :\t 50 \tTrain Accuracy :\t 0.9890679066409286 \tVal Accuracy :\t 0.16576692593912787 \tTest Accuracy :\t -0.5726216\n",
            "n_estimators :\t 100 \tTrain Accuracy :\t 0.9898886297837146 \tVal Accuracy :\t 0.16688609518091985 \tTest Accuracy :\t -0.5301236\n",
            "n_estimators :\t 150 \tTrain Accuracy :\t 0.9900553010665183 \tVal Accuracy :\t 0.16704186931714238 \tTest Accuracy :\t -0.5399556444444444\n",
            "n_estimators :\t 200 \tTrain Accuracy :\t 0.9901290396802045 \tVal Accuracy :\t 0.1671388175238953 \tTest Accuracy :\t -0.5335056\n",
            "n_estimators :\t 250 \tTrain Accuracy :\t 0.9902813345471154 \tVal Accuracy :\t 0.16700530284885243 \tTest Accuracy :\t -0.5820136320000002\n",
            "n_estimators :\t 300 \tTrain Accuracy :\t 0.9903481793162694 \tVal Accuracy :\t 0.1673563077412977 \tTest Accuracy :\t -0.5895671555555555\n",
            "n_estimators :\t 350 \tTrain Accuracy :\t 0.9903359976591984 \tVal Accuracy :\t 0.1674641027186253 \tTest Accuracy :\t -0.5646816163265307\n",
            "n_estimators :\t 400 \tTrain Accuracy :\t 0.990357584807034 \tVal Accuracy :\t 0.16762630141875334 \tTest Accuracy :\t -0.5722561624999998\n"
          ],
          "name": "stdout"
        }
      ]
    },
    {
      "cell_type": "code",
      "metadata": {
        "id": "PzEhzQsuImI-",
        "colab_type": "code",
        "colab": {
          "base_uri": "https://localhost:8080/",
          "height": 855
        },
        "outputId": "6b7c1fab-d675-4b6e-c36c-8e357c3d94b0"
      },
      "source": [
        "n_estimators = [50]\n",
        "max_depth = [1,5,10,15,20,25,30]\n",
        "train_accuracy_avg_list, val_accuracy_avg_list, test_accuracy_list  = model_RandomForestRegressor(n_estimators.copy(), max_depth, x_training.copy(), y_training.copy(), x_test.copy(), y_test.copy())"
      ],
      "execution_count": 55,
      "outputs": [
        {
          "output_type": "stream",
          "text": [
            "/usr/local/lib/python3.6/dist-packages/sklearn/model_selection/_split.py:296: FutureWarning: Setting a random_state has no effect since shuffle is False. This will raise an error in 0.24. You should leave random_state to its default (None), or set shuffle=True.\n",
            "  FutureWarning\n"
          ],
          "name": "stderr"
        },
        {
          "output_type": "stream",
          "text": [
            "Fold :  1\n",
            "Fold :  2\n",
            "Fold :  3\n",
            "Fold :  4\n",
            "Fold :  5\n",
            "done 1\n",
            "Fold :  1\n",
            "Fold :  2\n",
            "Fold :  3\n",
            "Fold :  4\n",
            "Fold :  5\n",
            "done 5\n",
            "Fold :  1\n",
            "Fold :  2\n",
            "Fold :  3\n",
            "Fold :  4\n",
            "Fold :  5\n",
            "done 10\n",
            "Fold :  1\n",
            "Fold :  2\n",
            "Fold :  3\n",
            "Fold :  4\n",
            "Fold :  5\n",
            "done 15\n",
            "Fold :  1\n",
            "Fold :  2\n",
            "Fold :  3\n",
            "Fold :  4\n",
            "Fold :  5\n",
            "done 20\n",
            "Fold :  1\n",
            "Fold :  2\n",
            "Fold :  3\n",
            "Fold :  4\n",
            "Fold :  5\n",
            "done 25\n",
            "Fold :  1\n",
            "Fold :  2\n",
            "Fold :  3\n",
            "Fold :  4\n",
            "Fold :  5\n",
            "done 30\n",
            "all done\n"
          ],
          "name": "stdout"
        }
      ]
    },
    {
      "cell_type": "code",
      "metadata": {
        "id": "HrRIqy68I8Hz",
        "colab_type": "code",
        "colab": {}
      },
      "source": [
        "def print_accuracy_max_depth(max_depth, train_list, val_list, test_accuracy_list):\n",
        "    for i in range(0, len(max_depth)):\n",
        "        print(\"max_depth :\\t\", max_depth[i], \"\\tTrain Accuracy :\\t\", train_list[i], \"\\tVal Accuracy :\\t\", val_list[i], \"\\tTest Accuracy :\\t\", test_accuracy_list[i])"
      ],
      "execution_count": 56,
      "outputs": []
    },
    {
      "cell_type": "code",
      "metadata": {
        "id": "8Ls_QuPTI25k",
        "colab_type": "code",
        "colab": {
          "base_uri": "https://localhost:8080/",
          "height": 165
        },
        "outputId": "4c696e1d-bdda-470b-9127-f8c0e89b6af1"
      },
      "source": [
        "print_accuracy_max_depth(max_depth.copy(), train_accuracy_avg_list.copy(), val_accuracy_avg_list.copy(), test_accuracy_list.copy())"
      ],
      "execution_count": 59,
      "outputs": [
        {
          "output_type": "stream",
          "text": [
            "max_depth :\t 1 \tTrain Accuracy :\t 0.14724856163789524 \tVal Accuracy :\t 0.0257272899340365 \tTest Accuracy :\t -0.03073279249572036\n",
            "max_depth :\t 5 \tTrain Accuracy :\t 0.6770622108050706 \tVal Accuracy :\t 0.10301970176798511 \tTest Accuracy :\t -0.2777464952055584\n",
            "max_depth :\t 10 \tTrain Accuracy :\t 0.946572348002865 \tVal Accuracy :\t 0.15863860479306063 \tTest Accuracy :\t -0.5429478789144502\n",
            "max_depth :\t 15 \tTrain Accuracy :\t 0.9872751602862662 \tVal Accuracy :\t 0.1658954833243691 \tTest Accuracy :\t -0.5706492394477387\n",
            "max_depth :\t 20 \tTrain Accuracy :\t 0.9890713101294899 \tVal Accuracy :\t 0.16582474557962876 \tTest Accuracy :\t -0.5728169999999999\n",
            "max_depth :\t 25 \tTrain Accuracy :\t 0.9890679066409286 \tVal Accuracy :\t 0.16576692593912787 \tTest Accuracy :\t -0.5726216\n",
            "max_depth :\t 30 \tTrain Accuracy :\t 0.9890679066409286 \tVal Accuracy :\t 0.16576692593912787 \tTest Accuracy :\t -0.5726216\n"
          ],
          "name": "stdout"
        }
      ]
    }
  ]
}