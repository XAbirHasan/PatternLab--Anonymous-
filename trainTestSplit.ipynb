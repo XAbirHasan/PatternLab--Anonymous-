{
  "nbformat": 4,
  "nbformat_minor": 0,
  "metadata": {
    "colab": {
      "name": "trainTestSplit.ipynb",
      "provenance": [],
      "collapsed_sections": []
    },
    "kernelspec": {
      "name": "python3",
      "display_name": "Python 3"
    }
  },
  "cells": [
    {
      "cell_type": "code",
      "metadata": {
        "id": "xcg-c9ezGOHr",
        "colab_type": "code",
        "colab": {}
      },
      "source": [
        "from sklearn.model_selection import train_test_split\n",
        "import numpy as np"
      ],
      "execution_count": null,
      "outputs": []
    },
    {
      "cell_type": "code",
      "metadata": {
        "id": "wROFsPwdNRI5",
        "colab_type": "code",
        "colab": {}
      },
      "source": [
        "from sklearn.svm import SVC"
      ],
      "execution_count": null,
      "outputs": []
    },
    {
      "cell_type": "code",
      "metadata": {
        "id": "SkYWCRv0Oyiv",
        "colab_type": "code",
        "colab": {}
      },
      "source": [
        "from sklearn.metrics import accuracy_score"
      ],
      "execution_count": null,
      "outputs": []
    },
    {
      "cell_type": "code",
      "metadata": {
        "id": "VCZnwzteUht2",
        "colab_type": "code",
        "colab": {}
      },
      "source": [
        "from sklearn.model_selection import KFold"
      ],
      "execution_count": null,
      "outputs": []
    },
    {
      "cell_type": "code",
      "metadata": {
        "id": "Bkibhn2DD9hU",
        "colab_type": "code",
        "colab": {}
      },
      "source": [
        "\n",
        "pos_5289 = \"/content/drive/My Drive/pattern/numpy file/positive 5289/ENAC 5.npy\"\n",
        "neg_5289 = \"/content/drive/My Drive/pattern/numpy file/negative 5289/ENAC 5.npy\"\n",
        "pos_1000 = \"/content/drive/My Drive/pattern/numpy file/positive 1000/ENAC 5.npy\"\n",
        "neg_1000 = \"/content/drive/My Drive/pattern/numpy file/negative 1000/ENAC 5.npy\"\n",
        "\n",
        "x_train_pos = np.load(pos_5289) \n",
        "x_train_neg = np.load(neg_5289) \n",
        "x_test_pos = np.load(pos_1000) \n",
        "x_test_neg = np.load(neg_1000) \n",
        "\n",
        "y_train_pos = np.tile(1, 5289) \n",
        "y_train_neg = np.tile(0, 5289) \n",
        "y_test_pos = np.tile(1, 1000) \n",
        "y_test_neg = np.tile(0, 1000) "
      ],
      "execution_count": null,
      "outputs": []
    },
    {
      "cell_type": "code",
      "metadata": {
        "id": "H84h5ZubMHuZ",
        "colab_type": "code",
        "colab": {
          "base_uri": "https://localhost:8080/",
          "height": 87
        },
        "outputId": "f65aaa40-7d9a-49f6-b100-e3dba894e6e4"
      },
      "source": [
        "print(x_test_neg.shape)\n",
        "print(y_test_neg.shape)\n",
        "\n",
        "print(x_train_neg.shape)\n",
        "print(y_train_neg.shape)\n"
      ],
      "execution_count": null,
      "outputs": [
        {
          "output_type": "stream",
          "text": [
            "(1000, 148)\n",
            "(1000,)\n",
            "(5289, 148)\n",
            "(5289,)\n"
          ],
          "name": "stdout"
        }
      ]
    },
    {
      "cell_type": "code",
      "metadata": {
        "id": "4woF7AbhG2D5",
        "colab_type": "code",
        "colab": {}
      },
      "source": [
        "seed = 40\n",
        "np.random.seed(seed)"
      ],
      "execution_count": null,
      "outputs": []
    },
    {
      "cell_type": "code",
      "metadata": {
        "id": "QZe5KoMRG7SB",
        "colab_type": "code",
        "colab": {}
      },
      "source": [
        "x_training_pos, x_val_pos, y_training_pos, y_val_pos = train_test_split(x_train_pos, y_train_pos, test_size=0.20, random_state=seed)\n",
        "\n",
        "x_training_neg, x_val_neg, y_training_neg, y_val_neg = train_test_split(x_train_neg, y_train_neg, test_size=0.20, random_state=seed)"
      ],
      "execution_count": null,
      "outputs": []
    },
    {
      "cell_type": "code",
      "metadata": {
        "id": "ntffsHktH09w",
        "colab_type": "code",
        "colab": {
          "base_uri": "https://localhost:8080/",
          "height": 52
        },
        "outputId": "505ec053-57e4-42a3-80f0-b32e915c38a6"
      },
      "source": [
        "print(x_training_pos.shape)\n",
        "print(x_val_pos.shape)"
      ],
      "execution_count": null,
      "outputs": [
        {
          "output_type": "stream",
          "text": [
            "(4231, 148)\n",
            "(1058, 148)\n"
          ],
          "name": "stdout"
        }
      ]
    },
    {
      "cell_type": "code",
      "metadata": {
        "id": "Rxp25B0pIt5S",
        "colab_type": "code",
        "colab": {}
      },
      "source": [
        "x_training = np.concatenate((x_training_pos, x_training_neg), axis= 0)\n",
        "y_training = np.concatenate((y_training_pos, y_training_neg))\n",
        "\n",
        "x_val = np.concatenate((x_val_pos, x_val_neg), axis=  0)\n",
        "y_val = np.concatenate((y_val_pos, y_val_neg))"
      ],
      "execution_count": null,
      "outputs": []
    },
    {
      "cell_type": "code",
      "metadata": {
        "id": "5SlGQaZ0QtwH",
        "colab_type": "code",
        "colab": {}
      },
      "source": [
        "x_test = np.concatenate((x_test_pos, x_test_neg))\n",
        "y_test = np.concatenate((y_test_pos, y_test_neg))"
      ],
      "execution_count": null,
      "outputs": []
    },
    {
      "cell_type": "code",
      "metadata": {
        "id": "AFWq8oQ9Q8pr",
        "colab_type": "code",
        "colab": {
          "base_uri": "https://localhost:8080/",
          "height": 52
        },
        "outputId": "f4cd1554-d262-4499-a94d-af90030e17f5"
      },
      "source": [
        "print(x_test.shape)\n",
        "print(y_test.shape)"
      ],
      "execution_count": null,
      "outputs": [
        {
          "output_type": "stream",
          "text": [
            "(2000, 148)\n",
            "(2000,)\n"
          ],
          "name": "stdout"
        }
      ]
    },
    {
      "cell_type": "code",
      "metadata": {
        "id": "r2lmmmO7JotB",
        "colab_type": "code",
        "colab": {
          "base_uri": "https://localhost:8080/",
          "height": 35
        },
        "outputId": "71d29df0-463c-432c-9f4c-1a6f25a0c138"
      },
      "source": [
        "print(x_training.shape)"
      ],
      "execution_count": null,
      "outputs": [
        {
          "output_type": "stream",
          "text": [
            "(8462, 148)\n"
          ],
          "name": "stdout"
        }
      ]
    },
    {
      "cell_type": "code",
      "metadata": {
        "id": "Go6uzAqVNTdH",
        "colab_type": "code",
        "colab": {}
      },
      "source": [
        "c = 5\n",
        "clf = SVC(C=c,  random_state = seed)"
      ],
      "execution_count": null,
      "outputs": []
    },
    {
      "cell_type": "code",
      "metadata": {
        "id": "obO51Y9tNcsA",
        "colab_type": "code",
        "colab": {
          "base_uri": "https://localhost:8080/",
          "height": 87
        },
        "outputId": "9e4d9c61-a4b9-497a-e835-54a2c427b48f"
      },
      "source": [
        "clf.fit(x_training, y_training)"
      ],
      "execution_count": null,
      "outputs": [
        {
          "output_type": "execute_result",
          "data": {
            "text/plain": [
              "SVC(C=5, break_ties=False, cache_size=200, class_weight=None, coef0=0.0,\n",
              "    decision_function_shape='ovr', degree=3, gamma='scale', kernel='rbf',\n",
              "    max_iter=-1, probability=False, random_state=40, shrinking=True, tol=0.001,\n",
              "    verbose=False)"
            ]
          },
          "metadata": {
            "tags": []
          },
          "execution_count": 56
        }
      ]
    },
    {
      "cell_type": "code",
      "metadata": {
        "id": "5xv9ghAvOgh4",
        "colab_type": "code",
        "colab": {}
      },
      "source": [
        "y_val_pred = clf.predict(x_val)\n"
      ],
      "execution_count": null,
      "outputs": []
    },
    {
      "cell_type": "code",
      "metadata": {
        "id": "shNz9yEaPNGf",
        "colab_type": "code",
        "colab": {
          "base_uri": "https://localhost:8080/",
          "height": 52
        },
        "outputId": "377baa5e-d200-48da-f0db-a6cfe59abe8a"
      },
      "source": [
        "print(y_val_pred.shape)\n",
        "print(y_val.shape)"
      ],
      "execution_count": null,
      "outputs": [
        {
          "output_type": "stream",
          "text": [
            "(2116,)\n",
            "(2116,)\n"
          ],
          "name": "stdout"
        }
      ]
    },
    {
      "cell_type": "code",
      "metadata": {
        "id": "pcMOgzoDO5r_",
        "colab_type": "code",
        "colab": {}
      },
      "source": [
        "val_accuracy = accuracy_score(y_val, y_val_pred)"
      ],
      "execution_count": null,
      "outputs": []
    },
    {
      "cell_type": "code",
      "metadata": {
        "id": "GyG2T6qZPpmf",
        "colab_type": "code",
        "colab": {
          "base_uri": "https://localhost:8080/",
          "height": 35
        },
        "outputId": "ecce0917-1889-4e35-99a9-315c410eca06"
      },
      "source": [
        "print(val_accuracy)"
      ],
      "execution_count": null,
      "outputs": [
        {
          "output_type": "stream",
          "text": [
            "0.9560491493383743\n"
          ],
          "name": "stdout"
        }
      ]
    },
    {
      "cell_type": "code",
      "metadata": {
        "id": "zEJRfUrGQhVI",
        "colab_type": "code",
        "colab": {}
      },
      "source": [
        "y_test_pred = clf.predict(x_test)"
      ],
      "execution_count": null,
      "outputs": []
    },
    {
      "cell_type": "code",
      "metadata": {
        "id": "M6GxGrRnRFI-",
        "colab_type": "code",
        "colab": {}
      },
      "source": [
        "test_accuracy = accuracy_score(y_test, y_test_pred)"
      ],
      "execution_count": null,
      "outputs": []
    },
    {
      "cell_type": "code",
      "metadata": {
        "id": "Gz6OtoGZRQhX",
        "colab_type": "code",
        "colab": {
          "base_uri": "https://localhost:8080/",
          "height": 35
        },
        "outputId": "bd352854-46c6-4688-a44e-e4ae1dccf6ca"
      },
      "source": [
        "print(test_accuracy)"
      ],
      "execution_count": null,
      "outputs": [
        {
          "output_type": "stream",
          "text": [
            "0.616\n"
          ],
          "name": "stdout"
        }
      ]
    },
    {
      "cell_type": "code",
      "metadata": {
        "id": "Hv4IO7F5RmOT",
        "colab_type": "code",
        "colab": {}
      },
      "source": [
        "y_train_pred = clf.predict(x_training)"
      ],
      "execution_count": null,
      "outputs": []
    },
    {
      "cell_type": "code",
      "metadata": {
        "id": "YHmPW2dhRvfX",
        "colab_type": "code",
        "colab": {}
      },
      "source": [
        "train_accuracy = accuracy_score(y_training, y_train_pred)"
      ],
      "execution_count": null,
      "outputs": []
    },
    {
      "cell_type": "code",
      "metadata": {
        "id": "zwpMwXKIR2cn",
        "colab_type": "code",
        "colab": {
          "base_uri": "https://localhost:8080/",
          "height": 35
        },
        "outputId": "97d2b305-022a-4ca4-8512-141c49c4b4e1"
      },
      "source": [
        "print(train_accuracy)"
      ],
      "execution_count": null,
      "outputs": [
        {
          "output_type": "stream",
          "text": [
            "0.9998818246277476\n"
          ],
          "name": "stdout"
        }
      ]
    },
    {
      "cell_type": "code",
      "metadata": {
        "id": "LjBwWD-NUvUO",
        "colab_type": "code",
        "colab": {
          "base_uri": "https://localhost:8080/",
          "height": 72
        },
        "outputId": "795381f1-a692-4dc5-9357-7ed3b21bee1f"
      },
      "source": [
        "kf = KFold(n_splits=5, random_state=seed)"
      ],
      "execution_count": null,
      "outputs": [
        {
          "output_type": "stream",
          "text": [
            "/usr/local/lib/python3.6/dist-packages/sklearn/model_selection/_split.py:296: FutureWarning: Setting a random_state has no effect since shuffle is False. This will raise an error in 0.24. You should leave random_state to its default (None), or set shuffle=True.\n",
            "  FutureWarning\n"
          ],
          "name": "stderr"
        }
      ]
    }
  ]
}