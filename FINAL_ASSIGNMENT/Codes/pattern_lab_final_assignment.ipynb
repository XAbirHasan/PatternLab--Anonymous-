{
  "nbformat": 4,
  "nbformat_minor": 0,
  "metadata": {
    "colab": {
      "name": "pattern lab final assignment.ipynb",
      "provenance": [],
      "collapsed_sections": [
        "Sk7u_qE2t3XP",
        "NW3ic_Qju8_s",
        "6_QSsB_Mw43l",
        "Uum-qi63xIBb",
        "fan-YCBX1Zz5",
        "QLkirj4-LQXZ",
        "i14rYt3oTyl3"
      ]
    },
    "kernelspec": {
      "name": "python3",
      "display_name": "Python 3"
    },
    "accelerator": "GPU"
  },
  "cells": [
    {
      "cell_type": "markdown",
      "metadata": {
        "id": "fS27PrpPPEvB",
        "colab_type": "text"
      },
      "source": [
        "# Freature selection and Then find accuracy on SVC, RandomForestRegressor"
      ]
    },
    {
      "cell_type": "markdown",
      "metadata": {
        "id": "Sk7u_qE2t3XP",
        "colab_type": "text"
      },
      "source": [
        "## All imports and other decleration"
      ]
    },
    {
      "cell_type": "code",
      "metadata": {
        "id": "xfmi47nRjeD5",
        "colab_type": "code",
        "colab": {}
      },
      "source": [
        "from sklearn.model_selection import train_test_split\n",
        "import numpy as np\n",
        "from sklearn.svm import SVC\n",
        "from sklearn.metrics import accuracy_score\n",
        "from sklearn.model_selection import KFold\n",
        "from sklearn.feature_selection import SelectKBest, chi2\n",
        "from sklearn.feature_selection import SelectKBest, f_classif\n",
        "import random\n",
        "from sklearn.feature_selection import RFE\n",
        "from sklearn.ensemble import RandomForestClassifier\n",
        "from sklearn.ensemble import RandomForestRegressor"
      ],
      "execution_count": 1,
      "outputs": []
    },
    {
      "cell_type": "markdown",
      "metadata": {
        "id": "NW3ic_Qju8_s",
        "colab_type": "text"
      },
      "source": [
        "## Data Import\n"
      ]
    },
    {
      "cell_type": "markdown",
      "metadata": {
        "id": "38JiCV9-wwuU",
        "colab_type": "text"
      },
      "source": [
        "### Kmer 1 (It has 4 freatures)"
      ]
    },
    {
      "cell_type": "code",
      "metadata": {
        "id": "33bvgbFeu6Ew",
        "colab_type": "code",
        "colab": {}
      },
      "source": [
        "T1_pos_5289 = \"/content/drive/My Drive/pattern/numpy file/positive 5289/Kmer 1.npy\"\n",
        "T1_neg_5289 = \"/content/drive/My Drive/pattern/numpy file/negative 5289/Kmer 1.npy\"\n",
        "T1_pos_1000 = \"/content/drive/My Drive/pattern/numpy file/positive 1000/Kmer 1.npy\"\n",
        "T1_neg_1000 = \"/content/drive/My Drive/pattern/numpy file/negative 1000/Kmer 1.npy\"\n",
        "\n",
        "T1_x_train_pos = np.load(T1_pos_5289) \n",
        "T1_x_train_neg = np.load(T1_neg_5289) \n",
        "T1_x_test_pos = np.load(T1_pos_1000) \n",
        "T1_x_test_neg = np.load(T1_neg_1000) "
      ],
      "execution_count": 2,
      "outputs": []
    },
    {
      "cell_type": "code",
      "metadata": {
        "id": "2dVLVJKgzBX0",
        "colab_type": "code",
        "colab": {
          "base_uri": "https://localhost:8080/",
          "height": 85
        },
        "outputId": "1a397e20-0641-4341-d504-be65fb5976dc"
      },
      "source": [
        "print(T1_x_train_pos.shape)\n",
        "print(T1_x_train_neg.shape)\n",
        "print(T1_x_test_pos.shape)\n",
        "print(T1_x_test_neg.shape)"
      ],
      "execution_count": 3,
      "outputs": [
        {
          "output_type": "stream",
          "text": [
            "(5289, 4)\n",
            "(5289, 4)\n",
            "(1000, 4)\n",
            "(1000, 4)\n"
          ],
          "name": "stdout"
        }
      ]
    },
    {
      "cell_type": "code",
      "metadata": {
        "id": "8vRF_j18ByDX",
        "colab_type": "code",
        "colab": {}
      },
      "source": [
        "T1_x_training = np.concatenate((T1_x_train_pos, T1_x_train_neg), axis= 0)\n",
        "T1_x_test = np.concatenate((T1_x_test_pos, T1_x_test_neg), axis = 0)"
      ],
      "execution_count": 4,
      "outputs": []
    },
    {
      "cell_type": "code",
      "metadata": {
        "id": "q71_NGl1B5ut",
        "colab_type": "code",
        "colab": {
          "base_uri": "https://localhost:8080/",
          "height": 51
        },
        "outputId": "4bd0af03-febf-4917-d4aa-416a39475ca3"
      },
      "source": [
        "print(T1_x_training.shape)\n",
        "print(T1_x_test.shape)"
      ],
      "execution_count": 5,
      "outputs": [
        {
          "output_type": "stream",
          "text": [
            "(10578, 4)\n",
            "(2000, 4)\n"
          ],
          "name": "stdout"
        }
      ]
    },
    {
      "cell_type": "markdown",
      "metadata": {
        "id": "6_QSsB_Mw43l",
        "colab_type": "text"
      },
      "source": [
        "### Kmer 2 (It has 16 freatures)"
      ]
    },
    {
      "cell_type": "code",
      "metadata": {
        "id": "Bc5qabejvRmt",
        "colab_type": "code",
        "colab": {}
      },
      "source": [
        "T2_pos_5289 = \"/content/drive/My Drive/pattern/numpy file/positive 5289/Kmer 2.npy\"\n",
        "T2_neg_5289 = \"/content/drive/My Drive/pattern/numpy file/negative 5289/Kmer 2.npy\"\n",
        "T2_pos_1000 = \"/content/drive/My Drive/pattern/numpy file/positive 1000/Kmer 2.npy\"\n",
        "T2_neg_1000 = \"/content/drive/My Drive/pattern/numpy file/negative 1000/Kmer 2.npy\"\n",
        "\n",
        "T2_x_train_pos = np.load(T2_pos_5289) \n",
        "T2_x_train_neg = np.load(T2_neg_5289) \n",
        "T2_x_test_pos = np.load(T2_pos_1000) \n",
        "T2_x_test_neg = np.load(T2_neg_1000) "
      ],
      "execution_count": 6,
      "outputs": []
    },
    {
      "cell_type": "code",
      "metadata": {
        "id": "VPD5GaUKzGx7",
        "colab_type": "code",
        "colab": {
          "base_uri": "https://localhost:8080/",
          "height": 0
        },
        "outputId": "4362794a-679a-46dc-a07c-9caeebed3004"
      },
      "source": [
        "print(T2_x_train_pos.shape)\n",
        "print(T2_x_train_neg.shape)\n",
        "print(T2_x_test_pos.shape)\n",
        "print(T2_x_test_neg.shape)"
      ],
      "execution_count": 7,
      "outputs": [
        {
          "output_type": "stream",
          "text": [
            "(5289, 16)\n",
            "(5289, 16)\n",
            "(1000, 16)\n",
            "(1000, 16)\n"
          ],
          "name": "stdout"
        }
      ]
    },
    {
      "cell_type": "code",
      "metadata": {
        "id": "0KftT83CCebn",
        "colab_type": "code",
        "colab": {}
      },
      "source": [
        "T2_x_training = np.concatenate((T2_x_train_pos, T2_x_train_neg), axis= 0)\n",
        "T2_x_test = np.concatenate((T2_x_test_pos, T2_x_test_neg), axis = 0)"
      ],
      "execution_count": 8,
      "outputs": []
    },
    {
      "cell_type": "code",
      "metadata": {
        "id": "gGxCQCTMIl7Q",
        "colab_type": "code",
        "colab": {
          "base_uri": "https://localhost:8080/",
          "height": 0
        },
        "outputId": "0cfdf9fc-ae87-4c17-fa15-47d47a7a1741"
      },
      "source": [
        "print(T2_x_training.shape)\n",
        "print(T2_x_test.shape)"
      ],
      "execution_count": 9,
      "outputs": [
        {
          "output_type": "stream",
          "text": [
            "(10578, 16)\n",
            "(2000, 16)\n"
          ],
          "name": "stdout"
        }
      ]
    },
    {
      "cell_type": "markdown",
      "metadata": {
        "id": "SKCwD0B7w9g0",
        "colab_type": "text"
      },
      "source": [
        "### Kmer 3 (It has 64 freatures)"
      ]
    },
    {
      "cell_type": "code",
      "metadata": {
        "id": "uCkIymvIv1vj",
        "colab_type": "code",
        "colab": {}
      },
      "source": [
        "T3_pos_5289 = \"/content/drive/My Drive/pattern/numpy file/positive 5289/Kmer 3.npy\"\n",
        "T3_neg_5289 = \"/content/drive/My Drive/pattern/numpy file/negative 5289/Kmer 3.npy\"\n",
        "T3_pos_1000 = \"/content/drive/My Drive/pattern/numpy file/positive 1000/Kmer 3.npy\"\n",
        "T3_neg_1000 = \"/content/drive/My Drive/pattern/numpy file/negative 1000/Kmer 3.npy\"\n",
        "\n",
        "T3_x_train_pos = np.load(T3_pos_5289) \n",
        "T3_x_train_neg = np.load(T3_neg_5289) \n",
        "T3_x_test_pos = np.load(T3_pos_1000) \n",
        "T3_x_test_neg = np.load(T3_neg_1000) "
      ],
      "execution_count": 10,
      "outputs": []
    },
    {
      "cell_type": "code",
      "metadata": {
        "id": "5ppUO0wezNpe",
        "colab_type": "code",
        "colab": {
          "base_uri": "https://localhost:8080/",
          "height": 85
        },
        "outputId": "bec8f80b-0cab-406b-cfd5-2e1c377acc3f"
      },
      "source": [
        "print(T3_x_train_pos.shape)\n",
        "print(T3_x_train_neg.shape)\n",
        "print(T3_x_test_pos.shape)\n",
        "print(T3_x_test_neg.shape)"
      ],
      "execution_count": 11,
      "outputs": [
        {
          "output_type": "stream",
          "text": [
            "(5289, 64)\n",
            "(5289, 64)\n",
            "(1000, 64)\n",
            "(1000, 64)\n"
          ],
          "name": "stdout"
        }
      ]
    },
    {
      "cell_type": "code",
      "metadata": {
        "id": "vd5J0miJCgIN",
        "colab_type": "code",
        "colab": {}
      },
      "source": [
        "T3_x_training = np.concatenate((T3_x_train_pos, T3_x_train_neg), axis= 0)\n",
        "T3_x_test = np.concatenate((T3_x_test_pos, T3_x_test_neg), axis = 0)"
      ],
      "execution_count": 12,
      "outputs": []
    },
    {
      "cell_type": "code",
      "metadata": {
        "id": "2xLelqBbInNl",
        "colab_type": "code",
        "colab": {
          "base_uri": "https://localhost:8080/",
          "height": 51
        },
        "outputId": "8d85042c-84ec-46e5-e47f-d89800d0604e"
      },
      "source": [
        "print(T3_x_training.shape)\n",
        "print(T3_x_test.shape)"
      ],
      "execution_count": 13,
      "outputs": [
        {
          "output_type": "stream",
          "text": [
            "(10578, 64)\n",
            "(2000, 64)\n"
          ],
          "name": "stdout"
        }
      ]
    },
    {
      "cell_type": "markdown",
      "metadata": {
        "id": "Uum-qi63xIBb",
        "colab_type": "text"
      },
      "source": [
        "### ENAC (It has 148 freatures)"
      ]
    },
    {
      "cell_type": "code",
      "metadata": {
        "id": "0WAN9LcIv2lz",
        "colab_type": "code",
        "colab": {}
      },
      "source": [
        "T4_pos_5289 = \"/content/drive/My Drive/pattern/numpy file/positive 5289/ENAC 5.npy\"\n",
        "T4_neg_5289 = \"/content/drive/My Drive/pattern/numpy file/negative 5289/ENAC 5.npy\"\n",
        "T4_pos_1000 = \"/content/drive/My Drive/pattern/numpy file/positive 1000/ENAC 5.npy\"\n",
        "T4_neg_1000 = \"/content/drive/My Drive/pattern/numpy file/negative 1000/ENAC 5.npy\"\n",
        "\n",
        "T4_x_train_pos = np.load(T4_pos_5289) \n",
        "T4_x_train_neg = np.load(T4_neg_5289) \n",
        "T4_x_test_pos = np.load(T4_pos_1000) \n",
        "T4_x_test_neg = np.load(T4_neg_1000) "
      ],
      "execution_count": 14,
      "outputs": []
    },
    {
      "cell_type": "code",
      "metadata": {
        "id": "ntMXCqnGzRii",
        "colab_type": "code",
        "colab": {
          "base_uri": "https://localhost:8080/",
          "height": 0
        },
        "outputId": "f3972639-2095-477c-bcb3-21f9da5aaa89"
      },
      "source": [
        "print(T4_x_train_pos.shape)\n",
        "print(T4_x_train_neg.shape)\n",
        "print(T4_x_test_pos.shape)\n",
        "print(T4_x_test_neg.shape)"
      ],
      "execution_count": 15,
      "outputs": [
        {
          "output_type": "stream",
          "text": [
            "(5289, 148)\n",
            "(5289, 148)\n",
            "(1000, 148)\n",
            "(1000, 148)\n"
          ],
          "name": "stdout"
        }
      ]
    },
    {
      "cell_type": "code",
      "metadata": {
        "id": "G28ZbL1TCicF",
        "colab_type": "code",
        "colab": {}
      },
      "source": [
        "T4_x_training = np.concatenate((T4_x_train_pos, T4_x_train_neg), axis= 0)\n",
        "T4_x_test = np.concatenate((T4_x_test_pos, T4_x_test_neg), axis = 0)"
      ],
      "execution_count": 16,
      "outputs": []
    },
    {
      "cell_type": "code",
      "metadata": {
        "id": "9vVNro6KIoVW",
        "colab_type": "code",
        "colab": {
          "base_uri": "https://localhost:8080/",
          "height": 0
        },
        "outputId": "0bb00cb8-ce5d-4021-e79b-bdbe0132677c"
      },
      "source": [
        "print(T4_x_training.shape)\n",
        "print(T4_x_test.shape)"
      ],
      "execution_count": 17,
      "outputs": [
        {
          "output_type": "stream",
          "text": [
            "(10578, 148)\n",
            "(2000, 148)\n"
          ],
          "name": "stdout"
        }
      ]
    },
    {
      "cell_type": "markdown",
      "metadata": {
        "id": "hf4Xh_tpxeBj",
        "colab_type": "text"
      },
      "source": [
        "### PCPseDNC (It has 18 freatures)"
      ]
    },
    {
      "cell_type": "code",
      "metadata": {
        "id": "4SMYpA38v8fb",
        "colab_type": "code",
        "colab": {}
      },
      "source": [
        "T5_pos_5289 = \"/content/drive/My Drive/pattern/numpy file/positive 5289/PCPseDNC.npy\"\n",
        "T5_neg_5289 = \"/content/drive/My Drive/pattern/numpy file/negative 5289/PCPseDNC.npy\"\n",
        "T5_pos_1000 = \"/content/drive/My Drive/pattern/numpy file/positive 1000/PCPseDNC.npy\"\n",
        "T5_neg_1000 = \"/content/drive/My Drive/pattern/numpy file/negative 1000/PCPseDNC.npy\"\n",
        "\n",
        "T5_x_train_pos = np.load(T5_pos_5289) \n",
        "T5_x_train_neg = np.load(T5_neg_5289) \n",
        "T5_x_test_pos = np.load(T5_pos_1000) \n",
        "T5_x_test_neg = np.load(T5_neg_1000) "
      ],
      "execution_count": 18,
      "outputs": []
    },
    {
      "cell_type": "code",
      "metadata": {
        "id": "gsAErp61zSZ0",
        "colab_type": "code",
        "colab": {
          "base_uri": "https://localhost:8080/",
          "height": 85
        },
        "outputId": "bb577222-893c-4d52-fafd-fc54dbddfc5d"
      },
      "source": [
        "print(T5_x_train_pos.shape)\n",
        "print(T5_x_train_neg.shape)\n",
        "print(T5_x_test_pos.shape)\n",
        "print(T5_x_test_neg.shape)"
      ],
      "execution_count": 19,
      "outputs": [
        {
          "output_type": "stream",
          "text": [
            "(5289, 18)\n",
            "(5289, 18)\n",
            "(1000, 18)\n",
            "(1000, 18)\n"
          ],
          "name": "stdout"
        }
      ]
    },
    {
      "cell_type": "code",
      "metadata": {
        "id": "WJ8mrqlDCjuz",
        "colab_type": "code",
        "colab": {}
      },
      "source": [
        "T5_x_training = np.concatenate((T5_x_train_pos, T5_x_train_neg), axis= 0)\n",
        "T5_x_test = np.concatenate((T5_x_test_pos, T5_x_test_neg), axis = 0)"
      ],
      "execution_count": 20,
      "outputs": []
    },
    {
      "cell_type": "code",
      "metadata": {
        "id": "FaC3G5yUIpf4",
        "colab_type": "code",
        "colab": {
          "base_uri": "https://localhost:8080/",
          "height": 51
        },
        "outputId": "3596e3cf-2809-4922-c5b6-d3d96874c44b"
      },
      "source": [
        "print(T5_x_training.shape)\n",
        "print(T5_x_test.shape)"
      ],
      "execution_count": 21,
      "outputs": [
        {
          "output_type": "stream",
          "text": [
            "(10578, 18)\n",
            "(2000, 18)\n"
          ],
          "name": "stdout"
        }
      ]
    },
    {
      "cell_type": "markdown",
      "metadata": {
        "id": "ZyS_qeVexYkj",
        "colab_type": "text"
      },
      "source": [
        "### PseKNC (It has 66 freatures)"
      ]
    },
    {
      "cell_type": "code",
      "metadata": {
        "id": "UlFSbztswW70",
        "colab_type": "code",
        "colab": {}
      },
      "source": [
        "T6_pos_5289 = \"/content/drive/My Drive/pattern/numpy file/positive 5289/PseKNC.npy\"\n",
        "T6_neg_5289 = \"/content/drive/My Drive/pattern/numpy file/negative 5289/PseKNC.npy\"\n",
        "T6_pos_1000 = \"/content/drive/My Drive/pattern/numpy file/positive 1000/PseKNC.npy\"\n",
        "T6_neg_1000 = \"/content/drive/My Drive/pattern/numpy file/negative 1000/PseKNC.npy\"\n",
        "\n",
        "T6_x_train_pos = np.load(T6_pos_5289) \n",
        "T6_x_train_neg = np.load(T6_neg_5289) \n",
        "T6_x_test_pos = np.load(T6_pos_1000) \n",
        "T6_x_test_neg = np.load(T6_neg_1000) "
      ],
      "execution_count": 22,
      "outputs": []
    },
    {
      "cell_type": "code",
      "metadata": {
        "id": "R9bUuqkOzTPO",
        "colab_type": "code",
        "colab": {
          "base_uri": "https://localhost:8080/",
          "height": 85
        },
        "outputId": "fb3a2d14-3a9f-420b-8163-899277c924bd"
      },
      "source": [
        "print(T6_x_train_pos.shape)\n",
        "print(T6_x_train_neg.shape)\n",
        "print(T6_x_test_pos.shape)\n",
        "print(T6_x_test_neg.shape)"
      ],
      "execution_count": 23,
      "outputs": [
        {
          "output_type": "stream",
          "text": [
            "(5289, 66)\n",
            "(5289, 66)\n",
            "(1000, 66)\n",
            "(1000, 66)\n"
          ],
          "name": "stdout"
        }
      ]
    },
    {
      "cell_type": "code",
      "metadata": {
        "id": "BH3ploP8Ckwl",
        "colab_type": "code",
        "colab": {}
      },
      "source": [
        "T6_x_training = np.concatenate((T6_x_train_pos, T6_x_train_neg), axis= 0)\n",
        "T6_x_test = np.concatenate((T6_x_test_pos, T6_x_test_neg), axis = 0)"
      ],
      "execution_count": 24,
      "outputs": []
    },
    {
      "cell_type": "code",
      "metadata": {
        "id": "frQnNKjsIqn9",
        "colab_type": "code",
        "colab": {
          "base_uri": "https://localhost:8080/",
          "height": 51
        },
        "outputId": "d3735190-9e8e-4782-e05e-6c9e61e813be"
      },
      "source": [
        "print(T6_x_training.shape)\n",
        "print(T6_x_test.shape)"
      ],
      "execution_count": 25,
      "outputs": [
        {
          "output_type": "stream",
          "text": [
            "(10578, 66)\n",
            "(2000, 66)\n"
          ],
          "name": "stdout"
        }
      ]
    },
    {
      "cell_type": "markdown",
      "metadata": {
        "id": "fan-YCBX1Zz5",
        "colab_type": "text"
      },
      "source": [
        "## Classes"
      ]
    },
    {
      "cell_type": "code",
      "metadata": {
        "id": "fp1e3xcU2Hs8",
        "colab_type": "code",
        "colab": {}
      },
      "source": [
        "y_train_pos = np.tile(1, 5289) \n",
        "y_train_neg = np.tile(0, 5289) \n",
        "y_test_pos = np.tile(1, 1000) \n",
        "y_test_neg = np.tile(0, 1000)"
      ],
      "execution_count": 26,
      "outputs": []
    },
    {
      "cell_type": "code",
      "metadata": {
        "id": "Tw2iRF95KyFM",
        "colab_type": "code",
        "colab": {}
      },
      "source": [
        "y_training = np.concatenate((y_train_pos, y_train_neg))\n",
        "y_test = np.concatenate((y_test_pos, y_test_neg))"
      ],
      "execution_count": 27,
      "outputs": []
    },
    {
      "cell_type": "markdown",
      "metadata": {
        "id": "QLkirj4-LQXZ",
        "colab_type": "text"
      },
      "source": [
        "## Marge all data (total freatures = 316)"
      ]
    },
    {
      "cell_type": "code",
      "metadata": {
        "id": "LU_TkyubLVga",
        "colab_type": "code",
        "colab": {}
      },
      "source": [
        "x_training = np.concatenate((T1_x_training, T2_x_training, T3_x_training, T4_x_training, T5_x_training, T6_x_training), axis= 1)\n",
        "x_test = np.concatenate((T1_x_test, T2_x_test, T3_x_test, T4_x_test, T5_x_test, T6_x_test), axis = 1)"
      ],
      "execution_count": 28,
      "outputs": []
    },
    {
      "cell_type": "code",
      "metadata": {
        "id": "FjXvPFeAL1NL",
        "colab_type": "code",
        "colab": {
          "base_uri": "https://localhost:8080/",
          "height": 0
        },
        "outputId": "a93763dd-3e21-4597-91a0-f6bdc70dc140"
      },
      "source": [
        "print(x_training.shape)\n",
        "print(x_test.shape)"
      ],
      "execution_count": 29,
      "outputs": [
        {
          "output_type": "stream",
          "text": [
            "(10578, 316)\n",
            "(2000, 316)\n"
          ],
          "name": "stdout"
        }
      ]
    },
    {
      "cell_type": "code",
      "metadata": {
        "id": "euSOqNbTK0MS",
        "colab_type": "code",
        "colab": {
          "base_uri": "https://localhost:8080/",
          "height": 0
        },
        "outputId": "bcbf6255-21fd-43e0-8be7-c95417a12857"
      },
      "source": [
        "print(y_training.shape)\n",
        "print(y_test.shape)"
      ],
      "execution_count": 30,
      "outputs": [
        {
          "output_type": "stream",
          "text": [
            "(10578,)\n",
            "(2000,)\n"
          ],
          "name": "stdout"
        }
      ]
    },
    {
      "cell_type": "markdown",
      "metadata": {
        "id": "AauSoygzNA8j",
        "colab_type": "text"
      },
      "source": [
        "## Freature seleciton"
      ]
    },
    {
      "cell_type": "markdown",
      "metadata": {
        "id": "i14rYt3oTyl3",
        "colab_type": "text"
      },
      "source": [
        "### Freatures maps"
      ]
    },
    {
      "cell_type": "code",
      "metadata": {
        "id": "pIFDo1hGYZR4",
        "colab_type": "code",
        "colab": {}
      },
      "source": [
        "def make_new_group_maps_count():\n",
        "    maps_count = {  \"Kmer1\" : 0,\n",
        "                    \"Kmer2\" : 0, \n",
        "                    \"Kmer3\" : 0, \n",
        "                    \"ENAC\" : 0, \n",
        "                    \"PCPseDNC\" : 0, \n",
        "                    \"PseKNC\" : 0\n",
        "                    }\n",
        "    return maps_count\n"
      ],
      "execution_count": 31,
      "outputs": []
    },
    {
      "cell_type": "code",
      "metadata": {
        "id": "cDeTYardhMwE",
        "colab_type": "code",
        "colab": {}
      },
      "source": [
        "g1_end = len(T1_x_training[0])-1\n",
        "g2_end = g1_end + len(T2_x_training[0])\n",
        "g3_end = g2_end + len(T3_x_training[0])\n",
        "g4_end = g3_end + len(T4_x_training[0])\n",
        "g5_end = g4_end + len(T5_x_training[0])\n",
        "g6_end = g5_end + len(T6_x_training[0])"
      ],
      "execution_count": 32,
      "outputs": []
    },
    {
      "cell_type": "code",
      "metadata": {
        "id": "btK5cXiMhOx7",
        "colab_type": "code",
        "colab": {
          "base_uri": "https://localhost:8080/",
          "height": 0
        },
        "outputId": "6524c93b-56ad-464d-87ca-011579b6ee93"
      },
      "source": [
        "print(g1_end)\n",
        "print(g2_end)\n",
        "print(g3_end)\n",
        "print(g4_end)\n",
        "print(g5_end)\n",
        "print(g6_end)\n"
      ],
      "execution_count": 33,
      "outputs": [
        {
          "output_type": "stream",
          "text": [
            "3\n",
            "19\n",
            "83\n",
            "231\n",
            "249\n",
            "315\n"
          ],
          "name": "stdout"
        }
      ]
    },
    {
      "cell_type": "code",
      "metadata": {
        "id": "CCVzE66eJFAs",
        "colab_type": "code",
        "colab": {
          "base_uri": "https://localhost:8080/",
          "height": 0
        },
        "outputId": "00e1f62e-be71-4a95-dbf8-688676226eb6"
      },
      "source": [
        "g_maps = {  \"Kmer1\" : [0 , g1_end],\n",
        "            \"Kmer2\" : [g1_end+1 , g2_end], \n",
        "            \"Kmer3\" : [g2_end+1 , g3_end], \n",
        "            \"ENAC\" : [g3_end+1 , g4_end], \n",
        "            \"PCPseDNC\" : [g4_end+1 , g5_end], \n",
        "            \"PseKNC\" : [g5_end+1 , g6_end]\n",
        "            } \n",
        "\n",
        "print(g_maps)"
      ],
      "execution_count": 34,
      "outputs": [
        {
          "output_type": "stream",
          "text": [
            "{'Kmer1': [0, 3], 'Kmer2': [4, 19], 'Kmer3': [20, 83], 'ENAC': [84, 231], 'PCPseDNC': [232, 249], 'PseKNC': [250, 315]}\n"
          ],
          "name": "stdout"
        }
      ]
    },
    {
      "cell_type": "code",
      "metadata": {
        "id": "H5i4TpooW9CW",
        "colab_type": "code",
        "colab": {
          "base_uri": "https://localhost:8080/",
          "height": 0
        },
        "outputId": "7c328af6-e093-425c-f40f-40a758785a1c"
      },
      "source": [
        "l = len(x_training[0])\n",
        "k_size = [int(l/5), int(l/10)]\n",
        "print(k_size)"
      ],
      "execution_count": 35,
      "outputs": [
        {
          "output_type": "stream",
          "text": [
            "[63, 31]\n"
          ],
          "name": "stdout"
        }
      ]
    },
    {
      "cell_type": "markdown",
      "metadata": {
        "id": "QHFBu5f4TAQK",
        "colab_type": "text"
      },
      "source": [
        "### chi 2 (Univariate feature selection)"
      ]
    },
    {
      "cell_type": "markdown",
      "metadata": {
        "id": "1FKdJOVw0HKI",
        "colab_type": "text"
      },
      "source": [
        "#### init"
      ]
    },
    {
      "cell_type": "code",
      "metadata": {
        "id": "2jZwPQoodIP2",
        "colab_type": "code",
        "colab": {
          "base_uri": "https://localhost:8080/",
          "height": 241
        },
        "outputId": "bf28d53e-6327-48c6-87fe-71b277dea9bb"
      },
      "source": [
        "best_group_chi2 = []\n",
        "all_mask_chi2 = [] \n",
        "for i in k_size:\n",
        "    x_best_chi2 = SelectKBest(chi2, k = i).fit(x_training, y_training)\n",
        "    mask_chi2 = x_best_chi2.get_support()\n",
        "    # print(mask)\n",
        "    group_maps_count_chi2 = make_new_group_maps_count()\n",
        "    print(\"Initial\\t:\\t\",group_maps_count_chi2)\n",
        "    for bool in range(0, len(mask_chi2)):\n",
        "        if mask_chi2[bool]:\n",
        "\n",
        "            if (bool <= g1_end):\n",
        "                group_maps_count_chi2[\"Kmer1\"] += 1\n",
        "            elif (bool <= g2_end):\n",
        "                group_maps_count_chi2[\"Kmer2\"] += 1\n",
        "            elif (bool <= g3_end):\n",
        "                group_maps_count_chi2[\"Kmer3\"] += 1\n",
        "            elif (bool <= g4_end):\n",
        "                group_maps_count_chi2[\"ENAC\"] += 1\n",
        "            elif (bool <= g5_end):\n",
        "                group_maps_count_chi2[\"PCPseDNC\"] += 1\n",
        "            elif (bool <= g6_end):\n",
        "                group_maps_count_chi2[\"PseKNC\"] += 1\n",
        "    print(\"After\\t:\\t\", group_maps_count_chi2)\n",
        "    best_group_map_chi2 = sorted(group_maps_count_chi2.items(), key = lambda x: x[1], reverse = True)\n",
        "    print(\"Best\\t:\\t\" , best_group_map_chi2)\n",
        "    print(\"\\n------------------------------------------------------------------------------------------------------------------------------------------------------------------\\n\")\n",
        "    best_group_chi2.append(best_group_map_chi2)\n",
        "    all_mask_chi2.append(mask_chi2)"
      ],
      "execution_count": 36,
      "outputs": [
        {
          "output_type": "stream",
          "text": [
            "Initial\t:\t {'Kmer1': 0, 'Kmer2': 0, 'Kmer3': 0, 'ENAC': 0, 'PCPseDNC': 0, 'PseKNC': 0}\n",
            "After\t:\t {'Kmer1': 1, 'Kmer2': 7, 'Kmer3': 21, 'ENAC': 12, 'PCPseDNC': 6, 'PseKNC': 16}\n",
            "Best\t:\t [('Kmer3', 21), ('PseKNC', 16), ('ENAC', 12), ('Kmer2', 7), ('PCPseDNC', 6), ('Kmer1', 1)]\n",
            "\n",
            "------------------------------------------------------------------------------------------------------------------------------------------------------------------\n",
            "\n",
            "Initial\t:\t {'Kmer1': 0, 'Kmer2': 0, 'Kmer3': 0, 'ENAC': 0, 'PCPseDNC': 0, 'PseKNC': 0}\n",
            "After\t:\t {'Kmer1': 0, 'Kmer2': 4, 'Kmer3': 8, 'ENAC': 9, 'PCPseDNC': 4, 'PseKNC': 6}\n",
            "Best\t:\t [('ENAC', 9), ('Kmer3', 8), ('PseKNC', 6), ('Kmer2', 4), ('PCPseDNC', 4), ('Kmer1', 0)]\n",
            "\n",
            "------------------------------------------------------------------------------------------------------------------------------------------------------------------\n",
            "\n"
          ],
          "name": "stdout"
        }
      ]
    },
    {
      "cell_type": "code",
      "metadata": {
        "id": "VlYxP8BfpJ5Z",
        "colab_type": "code",
        "colab": {
          "base_uri": "https://localhost:8080/",
          "height": 207
        },
        "outputId": "6dc9dacc-8a37-4770-baae-09607a20a37a"
      },
      "source": [
        "selected_chi2 = []\n",
        "for i in range(0, len(k_size)):\n",
        "    selected_chi2_group1 = best_group_chi2[i][0][0]\n",
        "    selected_chi2_group2 = best_group_chi2[i][1][0]\n",
        "    selected_chi2.append([selected_chi2_group1, selected_chi2_group2])\n",
        "    print(\"k = \", k_size[i])\n",
        "    print(\"best Groups : \", selected_chi2_group1,\" , \",selected_chi2_group2 )\n",
        "    print(\"\\n------------------------------------------------------------------------------------------------------------------------------------------------------------------\\n\")"
      ],
      "execution_count": 37,
      "outputs": [
        {
          "output_type": "stream",
          "text": [
            "k =  63\n",
            "best Groups :  Kmer3  ,  PseKNC\n",
            "\n",
            "------------------------------------------------------------------------------------------------------------------------------------------------------------------\n",
            "\n",
            "k =  31\n",
            "best Groups :  ENAC  ,  Kmer3\n",
            "\n",
            "------------------------------------------------------------------------------------------------------------------------------------------------------------------\n",
            "\n"
          ],
          "name": "stdout"
        }
      ]
    },
    {
      "cell_type": "markdown",
      "metadata": {
        "id": "ED84IcH7UeNS",
        "colab_type": "text"
      },
      "source": [
        "#### best two group data"
      ]
    },
    {
      "cell_type": "code",
      "metadata": {
        "id": "54CJ3BxkTkIG",
        "colab_type": "code",
        "colab": {
          "base_uri": "https://localhost:8080/",
          "height": 34
        },
        "outputId": "a85cdb4e-8264-42f0-a3af-bcddb81783b3"
      },
      "source": [
        "seed = 1\n",
        "random.seed(seed)\n",
        "selected_2_best_chi2 = random.randint(0,1)\n",
        "print(selected_2_best_chi2)"
      ],
      "execution_count": 38,
      "outputs": [
        {
          "output_type": "stream",
          "text": [
            "0\n"
          ],
          "name": "stdout"
        }
      ]
    },
    {
      "cell_type": "code",
      "metadata": {
        "id": "oEnBXfK-VqT3",
        "colab_type": "code",
        "colab": {
          "base_uri": "https://localhost:8080/",
          "height": 51
        },
        "outputId": "28501707-3493-4f9e-d496-a894c41253d2"
      },
      "source": [
        "g1_chi2 = selected_chi2[selected_2_best_chi2][0]\n",
        "g2_chi2 = selected_chi2[selected_2_best_chi2][1]\n",
        "print(g1_chi2, g2_chi2)\n",
        "\n",
        "best_mask_chi2 = all_mask_chi2[selected_2_best_chi2]\n",
        "print(len(best_mask_chi2))"
      ],
      "execution_count": 39,
      "outputs": [
        {
          "output_type": "stream",
          "text": [
            "Kmer3 PseKNC\n",
            "316\n"
          ],
          "name": "stdout"
        }
      ]
    },
    {
      "cell_type": "code",
      "metadata": {
        "id": "GBy7-9dSUcEf",
        "colab_type": "code",
        "colab": {
          "base_uri": "https://localhost:8080/",
          "height": 71
        },
        "outputId": "c32cfbcc-1ece-494c-82a3-c59dc8aadd51"
      },
      "source": [
        "# g1_X_train_chi2 = []\n",
        "# g1_y_train_chi2 = []\n",
        "g1_index_chi2 = []\n",
        "\n",
        "# g2_X_train_chi2 = []\n",
        "# g2_y_train_chi2 = []\n",
        "g2_index_chi2  = []\n",
        "for bool in range(0,len(best_mask_chi2)):\n",
        "    if best_mask_chi2[bool]:\n",
        "        if(bool >= g_maps[g1_chi2][0] and bool <= g_maps[g1_chi2][1]):\n",
        "            # x_freature = x_training[ 0 : x_train_len, bool : (bool + 1)]\n",
        "            # y_freature = y_training[bool]\n",
        "            # g1_X_train_chi2.append(x_freature)\n",
        "            # g1_y_train_chi2.append(y_freature)\n",
        "            g1_index_chi2 .append(bool)\n",
        "        elif (bool >= g_maps[g2_chi2][0] and bool <= g_maps[g2_chi2][1]):\n",
        "            # x_freature = x_training[ 0 : x_train_len, bool : (bool + 1)]\n",
        "            # y_freature = y_training[bool]\n",
        "            # g2_X_train_chi2.append(x_freature)\n",
        "            # g2_y_train_chi2.append(y_freature)\n",
        "            g2_index_chi2 .append(bool)\n",
        "\n",
        "print(g1_index_chi2)\n",
        "print(g2_index_chi2)"
      ],
      "execution_count": 40,
      "outputs": [
        {
          "output_type": "stream",
          "text": [
            "[23, 27, 28, 29, 34, 35, 38, 43, 48, 50, 55, 56, 58, 61, 63, 70, 71, 72, 73, 78, 79]\n",
            "[257, 258, 259, 264, 273, 278, 285, 286, 291, 301, 302, 303, 308, 309, 313, 315]\n"
          ],
          "name": "stdout"
        }
      ]
    },
    {
      "cell_type": "code",
      "metadata": {
        "id": "WAsQWSt7uicX",
        "colab_type": "code",
        "colab": {
          "base_uri": "https://localhost:8080/",
          "height": 51
        },
        "outputId": "50347ebf-15a3-4cd3-bd15-018b9b1ee054"
      },
      "source": [
        "x_train_len = len(x_training)\n",
        "g1_X_train_chi2 = []\n",
        "g1_freature_len = len(g1_index_chi2)\n",
        "\n",
        "g2_X_train_chi2 = []\n",
        "g2_freature_len = len(g2_index_chi2)\n",
        "\n",
        "for i in range(0, x_train_len):\n",
        "    g1_x = []\n",
        "    for j in range(0, g1_freature_len):\n",
        "        g1_x.append(x_training[i][g1_index_chi2[j]])\n",
        "    g1_X_train_chi2.append(g1_x)\n",
        "\n",
        "    g2_x = []\n",
        "    for k in range(0, g2_freature_len):\n",
        "        g2_x.append(x_training[i][g2_index_chi2[k]])\n",
        "    g2_X_train_chi2.append(g2_x)\n",
        "\n",
        "g1_X_train_chi2 = np.array(g1_X_train_chi2)\n",
        "g2_X_train_chi2 = np.array(g2_X_train_chi2)\n",
        "\n",
        "print(g1_X_train_chi2.shape)\n",
        "print(g2_X_train_chi2.shape)"
      ],
      "execution_count": 41,
      "outputs": [
        {
          "output_type": "stream",
          "text": [
            "(10578, 21)\n",
            "(10578, 16)\n"
          ],
          "name": "stdout"
        }
      ]
    },
    {
      "cell_type": "code",
      "metadata": {
        "id": "NHQmQl8DyuSN",
        "colab_type": "code",
        "colab": {
          "base_uri": "https://localhost:8080/",
          "height": 34
        },
        "outputId": "102c7ae4-8562-463d-bcd6-b842ee8af530"
      },
      "source": [
        "x_train_chai2 = np.concatenate((g1_X_train_chi2, g2_X_train_chi2), axis = 1)\n",
        "print(x_train_chai2.shape)"
      ],
      "execution_count": 42,
      "outputs": [
        {
          "output_type": "stream",
          "text": [
            "(10578, 37)\n"
          ],
          "name": "stdout"
        }
      ]
    },
    {
      "cell_type": "markdown",
      "metadata": {
        "id": "AoZ65Usfz4F0",
        "colab_type": "text"
      },
      "source": [
        "####  best two maps"
      ]
    },
    {
      "cell_type": "code",
      "metadata": {
        "id": "5Lu5VFVa0AUD",
        "colab_type": "code",
        "colab": {}
      },
      "source": [
        "## It can be use for both chi2 and f_classif\n",
        "def make_new_count():\n",
        "    maps_count = {  \"Group1\" : 0,\n",
        "                    \"Group2\" : 0, \n",
        "                    }\n",
        "    return maps_count"
      ],
      "execution_count": 43,
      "outputs": []
    },
    {
      "cell_type": "code",
      "metadata": {
        "id": "q3Kfqiys0oZw",
        "colab_type": "code",
        "colab": {
          "base_uri": "https://localhost:8080/",
          "height": 51
        },
        "outputId": "83e13d1e-16e9-495d-ae53-94edca10d9ee"
      },
      "source": [
        "g1_end_chi2 = len(g1_X_train_chi2[0])-1\n",
        "g2_end_chi2 = g1_end_chi2 + len(g2_X_train_chi2[0])\n",
        "\n",
        "print(g1_end_chi2)\n",
        "print(g2_end_chi2)"
      ],
      "execution_count": 44,
      "outputs": [
        {
          "output_type": "stream",
          "text": [
            "20\n",
            "36\n"
          ],
          "name": "stdout"
        }
      ]
    },
    {
      "cell_type": "code",
      "metadata": {
        "id": "mpiZmksv1HRy",
        "colab_type": "code",
        "colab": {
          "base_uri": "https://localhost:8080/",
          "height": 34
        },
        "outputId": "b7ffda33-1f52-4787-df3a-3f3d6d96caaa"
      },
      "source": [
        "g_maps_chi2 = { \"Group1\" : [0 , g1_end_chi2],\n",
        "                \"Group2\" : [g1_end_chi2+1 , g2_end_chi2], \n",
        "                } \n",
        "print(g_maps_chi2)"
      ],
      "execution_count": 45,
      "outputs": [
        {
          "output_type": "stream",
          "text": [
            "{'Group1': [0, 20], 'Group2': [21, 36]}\n"
          ],
          "name": "stdout"
        }
      ]
    },
    {
      "cell_type": "markdown",
      "metadata": {
        "id": "lZ0Nsx8IKWni",
        "colab_type": "text"
      },
      "source": [
        "### f_classif (Univariate feature selection)"
      ]
    },
    {
      "cell_type": "markdown",
      "metadata": {
        "id": "nu7dtX2b1kA-",
        "colab_type": "text"
      },
      "source": [
        "#### init"
      ]
    },
    {
      "cell_type": "code",
      "metadata": {
        "id": "MMwAgjE_LS7Z",
        "colab_type": "code",
        "colab": {
          "base_uri": "https://localhost:8080/",
          "height": 241
        },
        "outputId": "e3ad2372-3f6c-423e-c8c0-0ce87e0580c8"
      },
      "source": [
        "best_group_f_classif = []\n",
        "all_mask_f_classif = [] \n",
        "for i in k_size:\n",
        "    x_best_f_classif = SelectKBest(f_classif, k = i).fit(x_training, y_training)\n",
        "    mask_f_classif = x_best_f_classif.get_support()\n",
        "    # print(mask)\n",
        "    group_maps_count_f_classif = make_new_group_maps_count()\n",
        "    print(\"Initial\\t:\\t\",group_maps_count_f_classif)\n",
        "    for bool in range(0, len(mask_f_classif)):\n",
        "        if mask_f_classif[bool]:\n",
        "            if (bool <= g1_end):\n",
        "                group_maps_count_f_classif[\"Kmer1\"] += 1\n",
        "            elif (bool <= g2_end):\n",
        "                group_maps_count_f_classif[\"Kmer2\"] += 1\n",
        "            elif (bool <= g3_end):\n",
        "                group_maps_count_f_classif[\"Kmer3\"] += 1\n",
        "            elif (bool <= g4_end):\n",
        "                group_maps_count_f_classif[\"ENAC\"] += 1\n",
        "            elif (bool <= g5_end):\n",
        "                group_maps_count_f_classif[\"PCPseDNC\"] += 1\n",
        "            elif (bool <= g6_end):\n",
        "                group_maps_count_f_classif[\"PseKNC\"] += 1\n",
        "    print(\"After\\t:\\t\", group_maps_count_f_classif)\n",
        "    best_group_map_f_classif = sorted(group_maps_count_f_classif.items(), key = lambda x: x[1], reverse = True)\n",
        "    print(\"Best\\t:\\t\" , best_group_map_f_classif)\n",
        "    print(\"\\n------------------------------------------------------------------------------------------------------------------------------------------------------------------\\n\")\n",
        "    best_group_f_classif.append(best_group_map_f_classif)\n",
        "    all_mask_f_classif.append(mask_f_classif)"
      ],
      "execution_count": 46,
      "outputs": [
        {
          "output_type": "stream",
          "text": [
            "Initial\t:\t {'Kmer1': 0, 'Kmer2': 0, 'Kmer3': 0, 'ENAC': 0, 'PCPseDNC': 0, 'PseKNC': 0}\n",
            "After\t:\t {'Kmer1': 2, 'Kmer2': 8, 'Kmer3': 15, 'ENAC': 12, 'PCPseDNC': 11, 'PseKNC': 15}\n",
            "Best\t:\t [('Kmer3', 15), ('PseKNC', 15), ('ENAC', 12), ('PCPseDNC', 11), ('Kmer2', 8), ('Kmer1', 2)]\n",
            "\n",
            "------------------------------------------------------------------------------------------------------------------------------------------------------------------\n",
            "\n",
            "Initial\t:\t {'Kmer1': 0, 'Kmer2': 0, 'Kmer3': 0, 'ENAC': 0, 'PCPseDNC': 0, 'PseKNC': 0}\n",
            "After\t:\t {'Kmer1': 2, 'Kmer2': 6, 'Kmer3': 5, 'ENAC': 7, 'PCPseDNC': 6, 'PseKNC': 5}\n",
            "Best\t:\t [('ENAC', 7), ('Kmer2', 6), ('PCPseDNC', 6), ('Kmer3', 5), ('PseKNC', 5), ('Kmer1', 2)]\n",
            "\n",
            "------------------------------------------------------------------------------------------------------------------------------------------------------------------\n",
            "\n"
          ],
          "name": "stdout"
        }
      ]
    },
    {
      "cell_type": "code",
      "metadata": {
        "id": "dOx3FJRKNdtY",
        "colab_type": "code",
        "colab": {
          "base_uri": "https://localhost:8080/",
          "height": 207
        },
        "outputId": "85ecaad9-2cbe-4e54-dd29-935a65c218d9"
      },
      "source": [
        "selected_f_classif = []\n",
        "for i in range(0, len(k_size)):\n",
        "    selected_f_classif_group1 = best_group_f_classif[i][0][0]\n",
        "    selected_f_classif_group2 = best_group_f_classif[i][1][0]\n",
        "    selected_f_classif.append([selected_f_classif_group1, selected_f_classif_group2])\n",
        "    print(\"k = \", k_size[i])\n",
        "    print(\"best Groups : \", selected_f_classif_group1,\" , \",selected_f_classif_group2 )\n",
        "    print(\"\\n------------------------------------------------------------------------------------------------------------------------------------------------------------------\\n\")"
      ],
      "execution_count": 47,
      "outputs": [
        {
          "output_type": "stream",
          "text": [
            "k =  63\n",
            "best Groups :  Kmer3  ,  PseKNC\n",
            "\n",
            "------------------------------------------------------------------------------------------------------------------------------------------------------------------\n",
            "\n",
            "k =  31\n",
            "best Groups :  ENAC  ,  Kmer2\n",
            "\n",
            "------------------------------------------------------------------------------------------------------------------------------------------------------------------\n",
            "\n"
          ],
          "name": "stdout"
        }
      ]
    },
    {
      "cell_type": "markdown",
      "metadata": {
        "id": "meY1ixn21xBc",
        "colab_type": "text"
      },
      "source": [
        "#### best two group data"
      ]
    },
    {
      "cell_type": "code",
      "metadata": {
        "id": "J5_v4Xm811-K",
        "colab_type": "code",
        "colab": {
          "base_uri": "https://localhost:8080/",
          "height": 34
        },
        "outputId": "f287d5b0-a19e-4a35-c532-2f37322ec953"
      },
      "source": [
        "seed = 1\n",
        "random.seed(seed)\n",
        "selected_2_best_f_classif = random.randint(0,1)\n",
        "print(selected_2_best_f_classif)"
      ],
      "execution_count": 48,
      "outputs": [
        {
          "output_type": "stream",
          "text": [
            "0\n"
          ],
          "name": "stdout"
        }
      ]
    },
    {
      "cell_type": "code",
      "metadata": {
        "id": "zTnugF402GxG",
        "colab_type": "code",
        "colab": {
          "base_uri": "https://localhost:8080/",
          "height": 51
        },
        "outputId": "822e81d3-d161-46c6-a3a8-364e4543bdfa"
      },
      "source": [
        "g1_f_classif = selected_f_classif[selected_2_best_f_classif][0]\n",
        "g2_f_classif = selected_f_classif[selected_2_best_f_classif][1]\n",
        "print(g1_f_classif, g2_f_classif)\n",
        "\n",
        "best_mask_f_classif = all_mask_f_classif[selected_2_best_f_classif]\n",
        "print(len(best_mask_f_classif))"
      ],
      "execution_count": 49,
      "outputs": [
        {
          "output_type": "stream",
          "text": [
            "Kmer3 PseKNC\n",
            "316\n"
          ],
          "name": "stdout"
        }
      ]
    },
    {
      "cell_type": "code",
      "metadata": {
        "id": "t1kaSUKN2KYq",
        "colab_type": "code",
        "colab": {
          "base_uri": "https://localhost:8080/",
          "height": 51
        },
        "outputId": "551ba606-1654-4bee-a347-5880a4f5f131"
      },
      "source": [
        "g1_index_f_classif = []\n",
        "g2_index_f_classif = []\n",
        "for bool in range(0,len(best_mask_f_classif)):\n",
        "    if best_mask_f_classif[bool]:\n",
        "        if(bool >= g_maps[g1_f_classif][0] and bool <= g_maps[g1_f_classif][1]):\n",
        "            g1_index_f_classif .append(bool)\n",
        "        elif (bool >= g_maps[g2_f_classif][0] and bool <= g_maps[g2_f_classif][1]):\n",
        "            g2_index_f_classif .append(bool)\n",
        "\n",
        "print(g1_index_f_classif)\n",
        "print(g2_index_f_classif)"
      ],
      "execution_count": 50,
      "outputs": [
        {
          "output_type": "stream",
          "text": [
            "[28, 29, 33, 34, 43, 48, 50, 55, 56, 58, 63, 71, 72, 73, 78]\n",
            "[257, 258, 259, 263, 264, 273, 285, 286, 301, 302, 303, 306, 308, 313, 315]\n"
          ],
          "name": "stdout"
        }
      ]
    },
    {
      "cell_type": "code",
      "metadata": {
        "id": "XMZehBjT2OTr",
        "colab_type": "code",
        "colab": {
          "base_uri": "https://localhost:8080/",
          "height": 51
        },
        "outputId": "d033291d-8650-45c6-d4e8-5d00de9f9acc"
      },
      "source": [
        "x_train_len = len(x_training)\n",
        "g1_X_train_f_classif = []\n",
        "g1_freature_len = len(g1_index_f_classif)\n",
        "\n",
        "g2_X_train_f_classif = []\n",
        "g2_freature_len = len(g2_index_f_classif)\n",
        "\n",
        "for i in range(0, x_train_len):\n",
        "    g1_x = []\n",
        "    for j in range(0, g1_freature_len):\n",
        "        g1_x.append(x_training[i][g1_index_f_classif[j]])\n",
        "    g1_X_train_f_classif.append(g1_x)\n",
        "\n",
        "    g2_x = []\n",
        "    for k in range(0, g2_freature_len):\n",
        "        g2_x.append(x_training[i][g2_index_f_classif[k]])\n",
        "    g2_X_train_f_classif.append(g2_x)\n",
        "\n",
        "g1_X_train_f_classif = np.array(g1_X_train_f_classif)\n",
        "g2_X_train_f_classif = np.array(g2_X_train_f_classif)\n",
        "\n",
        "print(g1_X_train_f_classif.shape)\n",
        "print(g2_X_train_f_classif.shape)"
      ],
      "execution_count": 51,
      "outputs": [
        {
          "output_type": "stream",
          "text": [
            "(10578, 15)\n",
            "(10578, 15)\n"
          ],
          "name": "stdout"
        }
      ]
    },
    {
      "cell_type": "code",
      "metadata": {
        "id": "I-1M2hAk2QzQ",
        "colab_type": "code",
        "colab": {
          "base_uri": "https://localhost:8080/",
          "height": 34
        },
        "outputId": "f1df3053-42da-4413-d897-a3b66ead5f56"
      },
      "source": [
        "x_train_f_classif = np.concatenate((g1_X_train_f_classif, g2_X_train_f_classif), axis = 1)\n",
        "print(x_train_f_classif.shape)"
      ],
      "execution_count": 52,
      "outputs": [
        {
          "output_type": "stream",
          "text": [
            "(10578, 30)\n"
          ],
          "name": "stdout"
        }
      ]
    },
    {
      "cell_type": "markdown",
      "metadata": {
        "id": "3Loc1ytb3vaM",
        "colab_type": "text"
      },
      "source": [
        "#### best two maps"
      ]
    },
    {
      "cell_type": "code",
      "metadata": {
        "id": "jYKxkoLp3z6K",
        "colab_type": "code",
        "colab": {
          "base_uri": "https://localhost:8080/",
          "height": 51
        },
        "outputId": "00ec82d9-c2d7-458a-d0a9-50d2b3a798d1"
      },
      "source": [
        "g1_end_f_classif = len(g1_X_train_f_classif[0])-1\n",
        "g2_end_f_classif = g1_end_f_classif + len(g2_X_train_chi2[0])\n",
        "\n",
        "print(g1_end_f_classif)\n",
        "print(g2_end_f_classif)"
      ],
      "execution_count": 53,
      "outputs": [
        {
          "output_type": "stream",
          "text": [
            "14\n",
            "30\n"
          ],
          "name": "stdout"
        }
      ]
    },
    {
      "cell_type": "code",
      "metadata": {
        "id": "7KesqBfJ4F4i",
        "colab_type": "code",
        "colab": {
          "base_uri": "https://localhost:8080/",
          "height": 34
        },
        "outputId": "4aadff65-0100-4458-ad3f-ef68273f873c"
      },
      "source": [
        "g_maps_f_classif= { \"Group1\" : [0 , g1_end_f_classif],\n",
        "                    \"Group2\" : [g1_end_f_classif+1 , g2_end_f_classif], \n",
        "                    } \n",
        "print(g_maps_f_classif)"
      ],
      "execution_count": 54,
      "outputs": [
        {
          "output_type": "stream",
          "text": [
            "{'Group1': [0, 14], 'Group2': [15, 30]}\n"
          ],
          "name": "stdout"
        }
      ]
    },
    {
      "cell_type": "markdown",
      "metadata": {
        "id": "72RqkX6b7_-a",
        "colab_type": "text"
      },
      "source": [
        "### Recursive feature elimination (RFE)"
      ]
    },
    {
      "cell_type": "markdown",
      "metadata": {
        "id": "6csfH2TH9A8X",
        "colab_type": "text"
      },
      "source": [
        "#### working on chi2 best group"
      ]
    },
    {
      "cell_type": "markdown",
      "metadata": {
        "id": "Sw7h2202D4qg",
        "colab_type": "text"
      },
      "source": [
        "##### init"
      ]
    },
    {
      "cell_type": "code",
      "metadata": {
        "id": "b0IWAD1C9PUX",
        "colab_type": "code",
        "colab": {
          "base_uri": "https://localhost:8080/",
          "height": 34
        },
        "outputId": "f4f6ed6d-9c99-47fc-ba92-caf5e7de78b0"
      },
      "source": [
        "estimator_chi2 = RandomForestClassifier(random_state = 42)\n",
        "chai2_freture_len = len(x_train_chai2[0])\n",
        "selection_chi2 = [int(chai2_freture_len/3), int(chai2_freture_len/5), int(chai2_freture_len/7)]\n",
        "print(selection_chi2)\n",
        "step_size = 10"
      ],
      "execution_count": 55,
      "outputs": [
        {
          "output_type": "stream",
          "text": [
            "[12, 7, 5]\n"
          ],
          "name": "stdout"
        }
      ]
    },
    {
      "cell_type": "code",
      "metadata": {
        "id": "Xpg168snJQDN",
        "colab_type": "code",
        "colab": {
          "base_uri": "https://localhost:8080/",
          "height": 34
        },
        "outputId": "5b4b319e-fbe8-468f-fca3-269a8a2374f3"
      },
      "source": [
        "print(g1_end_chi2, g2_end_chi2)"
      ],
      "execution_count": 56,
      "outputs": [
        {
          "output_type": "stream",
          "text": [
            "20 36\n"
          ],
          "name": "stdout"
        }
      ]
    },
    {
      "cell_type": "code",
      "metadata": {
        "id": "2-gKLQNV8s3-",
        "colab_type": "code",
        "colab": {
          "base_uri": "https://localhost:8080/",
          "height": 343
        },
        "outputId": "9810ba88-85f7-4020-86e6-cbc16af5f7a4"
      },
      "source": [
        "best_group_rfe_chi2 = []\n",
        "all_mask_rfe_chi2 = [] \n",
        "for select in selection_chi2:\n",
        "    selector_chi2 = RFE(estimator_chi2, select, step = step_size)\n",
        "    selector_chi2 = selector_chi2.fit(x_train_chai2, y_training)\n",
        "    mask_rfe_chi2 = selector_chi2.get_support()\n",
        "\n",
        "    group_maps_count_rfe_chi2 = make_new_count()\n",
        "    print(\"Initial\\t:\\t\",group_maps_count_rfe_chi2)\n",
        "    for bool in range(0, len(mask_rfe_chi2)):\n",
        "        if mask_rfe_chi2[bool]:\n",
        "            if (bool <= g1_end_chi2):\n",
        "                group_maps_count_rfe_chi2[\"Group1\"] += 1\n",
        "            elif (bool <= g2_end_chi2):\n",
        "                group_maps_count_rfe_chi2[\"Group2\"] += 1\n",
        "    print(\"After\\t:\\t\", group_maps_count_rfe_chi2)\n",
        "    best_group_map_rfe_chi2 = sorted(group_maps_count_rfe_chi2.items(), key = lambda x: x[1], reverse = True)\n",
        "    print(\"Best\\t:\\t\" , best_group_map_rfe_chi2)\n",
        "    print(\"\\n------------------------------------------------------------------------------------------------------------------------------------------------------------------\\n\")\n",
        "    best_group_rfe_chi2.append(best_group_map_rfe_chi2)\n",
        "    all_mask_rfe_chi2.append(mask_rfe_chi2)\n",
        "    \n"
      ],
      "execution_count": 57,
      "outputs": [
        {
          "output_type": "stream",
          "text": [
            "Initial\t:\t {'Group1': 0, 'Group2': 0}\n",
            "After\t:\t {'Group1': 8, 'Group2': 4}\n",
            "Best\t:\t [('Group1', 8), ('Group2', 4)]\n",
            "\n",
            "------------------------------------------------------------------------------------------------------------------------------------------------------------------\n",
            "\n",
            "Initial\t:\t {'Group1': 0, 'Group2': 0}\n",
            "After\t:\t {'Group1': 5, 'Group2': 2}\n",
            "Best\t:\t [('Group1', 5), ('Group2', 2)]\n",
            "\n",
            "------------------------------------------------------------------------------------------------------------------------------------------------------------------\n",
            "\n",
            "Initial\t:\t {'Group1': 0, 'Group2': 0}\n",
            "After\t:\t {'Group1': 4, 'Group2': 1}\n",
            "Best\t:\t [('Group1', 4), ('Group2', 1)]\n",
            "\n",
            "------------------------------------------------------------------------------------------------------------------------------------------------------------------\n",
            "\n"
          ],
          "name": "stdout"
        }
      ]
    },
    {
      "cell_type": "code",
      "metadata": {
        "id": "mbfxBP0KEIJv",
        "colab_type": "code",
        "colab": {
          "base_uri": "https://localhost:8080/",
          "height": 292
        },
        "outputId": "87ec83e4-9578-4d82-82a3-9bd1cd01fadd"
      },
      "source": [
        "selected_rfe_chi2 = []\n",
        "for i in range(0, len(selection_chi2)):\n",
        "    selected_rfe_chi2_group1 = best_group_rfe_chi2[i][0][0]\n",
        "    selected_rfe_chi2.append(selected_rfe_chi2_group1)\n",
        "    print(\"k = \", selection_chi2[i])\n",
        "    print(\"best Group : \", selected_rfe_chi2_group1)\n",
        "    print(\"\\n------------------------------------------------------------------------------------------------------------------------------------------------------------------\\n\")"
      ],
      "execution_count": 58,
      "outputs": [
        {
          "output_type": "stream",
          "text": [
            "k =  12\n",
            "best Group :  Group1\n",
            "\n",
            "------------------------------------------------------------------------------------------------------------------------------------------------------------------\n",
            "\n",
            "k =  7\n",
            "best Group :  Group1\n",
            "\n",
            "------------------------------------------------------------------------------------------------------------------------------------------------------------------\n",
            "\n",
            "k =  5\n",
            "best Group :  Group1\n",
            "\n",
            "------------------------------------------------------------------------------------------------------------------------------------------------------------------\n",
            "\n"
          ],
          "name": "stdout"
        }
      ]
    },
    {
      "cell_type": "markdown",
      "metadata": {
        "id": "EAT6IMUPFHuG",
        "colab_type": "text"
      },
      "source": [
        "##### group data"
      ]
    },
    {
      "cell_type": "code",
      "metadata": {
        "id": "Z2BTNZF8FLdM",
        "colab_type": "code",
        "colab": {
          "base_uri": "https://localhost:8080/",
          "height": 51
        },
        "outputId": "c12cbc83-018b-4049-8bf2-9f206a9b98ec"
      },
      "source": [
        "g_rfe_chi2 = selected_rfe_chi2[0]\n",
        "print(g_rfe_chi2)\n",
        "\n",
        "best_mask_rfe_chi2 = all_mask_rfe_chi2[0]\n",
        "print(g_maps_chi2)"
      ],
      "execution_count": 59,
      "outputs": [
        {
          "output_type": "stream",
          "text": [
            "Group1\n",
            "{'Group1': [0, 20], 'Group2': [21, 36]}\n"
          ],
          "name": "stdout"
        }
      ]
    },
    {
      "cell_type": "code",
      "metadata": {
        "id": "jrUuX6SXGMTW",
        "colab_type": "code",
        "colab": {
          "base_uri": "https://localhost:8080/",
          "height": 34
        },
        "outputId": "ac82cf3d-3860-401c-9ed6-13e31af1e139"
      },
      "source": [
        "g_index_rfe_chi2 = []\n",
        "\n",
        "for bool in range(0,len(best_mask_rfe_chi2)):\n",
        "    if best_mask_rfe_chi2[bool]:\n",
        "        if(bool >= g_maps_chi2[g_rfe_chi2][0] and bool <= g_maps_chi2[g_rfe_chi2][1]):\n",
        "            g_index_rfe_chi2 .append(bool)\n",
        "\n",
        "print(g_index_rfe_chi2)"
      ],
      "execution_count": 60,
      "outputs": [
        {
          "output_type": "stream",
          "text": [
            "[3, 4, 10, 11, 12, 14, 17, 19]\n"
          ],
          "name": "stdout"
        }
      ]
    },
    {
      "cell_type": "code",
      "metadata": {
        "id": "e70slPnMOGI1",
        "colab_type": "code",
        "colab": {
          "base_uri": "https://localhost:8080/",
          "height": 34
        },
        "outputId": "90bccf00-6dfb-4ffd-f12b-1f441dd41f24"
      },
      "source": [
        "X_len_chai = len(x_train_chai2)\n",
        "g_X_train_rfe_chi2 = []\n",
        "g_freature_len = len(g_index_rfe_chi2)\n",
        "\n",
        "for i in range(0, X_len_chai):\n",
        "    g_x = []\n",
        "    for j in range(0, g_freature_len):\n",
        "        g_x.append(x_train_chai2[i][g_index_rfe_chi2[j]])\n",
        "    g_X_train_rfe_chi2.append(g_x)\n",
        "\n",
        "g_X_train_rfe_chi2 = np.array(g_X_train_rfe_chi2)\n",
        "print(g_X_train_rfe_chi2.shape)"
      ],
      "execution_count": 61,
      "outputs": [
        {
          "output_type": "stream",
          "text": [
            "(10578, 8)\n"
          ],
          "name": "stdout"
        }
      ]
    },
    {
      "cell_type": "markdown",
      "metadata": {
        "colab_type": "text",
        "id": "Xq8DmZ1SQTLm"
      },
      "source": [
        "#### working on f_classif best group"
      ]
    },
    {
      "cell_type": "markdown",
      "metadata": {
        "colab_type": "text",
        "id": "rAy3W_ANQTL2"
      },
      "source": [
        "##### init"
      ]
    },
    {
      "cell_type": "code",
      "metadata": {
        "colab_type": "code",
        "id": "VZkDMmobQTL3",
        "colab": {
          "base_uri": "https://localhost:8080/",
          "height": 34
        },
        "outputId": "e34452f7-ba24-4c1c-9697-d67080612894"
      },
      "source": [
        "estimator_f_classif = RandomForestClassifier(random_state = 42)\n",
        "f_classif_freture_len = len(x_train_f_classif[0])\n",
        "selection_f_classif = [int(f_classif_freture_len/3), int(f_classif_freture_len/5), int(f_classif_freture_len/7)]\n",
        "print(selection_f_classif)\n",
        "step_size = 10"
      ],
      "execution_count": 62,
      "outputs": [
        {
          "output_type": "stream",
          "text": [
            "[10, 6, 4]\n"
          ],
          "name": "stdout"
        }
      ]
    },
    {
      "cell_type": "code",
      "metadata": {
        "colab_type": "code",
        "id": "pcKwsnewQTMA",
        "colab": {
          "base_uri": "https://localhost:8080/",
          "height": 34
        },
        "outputId": "8e357016-4ee8-44e3-a799-47d63b61fc6e"
      },
      "source": [
        "print(g1_end_f_classif, g2_end_f_classif)"
      ],
      "execution_count": 63,
      "outputs": [
        {
          "output_type": "stream",
          "text": [
            "14 30\n"
          ],
          "name": "stdout"
        }
      ]
    },
    {
      "cell_type": "code",
      "metadata": {
        "colab_type": "code",
        "id": "vBDgg4BpQTMF",
        "colab": {
          "base_uri": "https://localhost:8080/",
          "height": 343
        },
        "outputId": "f7ea4336-b2a8-45fc-eee0-5382e7f11e9e"
      },
      "source": [
        "best_group_rfe_f_classif = []\n",
        "all_mask_rfe_f_classif = [] \n",
        "for select in selection_f_classif:\n",
        "    selector_f_classif = RFE(estimator_f_classif, select, step = step_size)\n",
        "    selector_f_classif = selector_f_classif.fit(x_train_f_classif, y_training)\n",
        "    mask_rfe_f_classif = selector_f_classif.get_support()\n",
        "    \n",
        "    group_maps_count_rfe_f_classif = make_new_count()\n",
        "    print(\"Initial\\t:\\t\",group_maps_count_rfe_f_classif)\n",
        "    for bool in range(0, len(mask_rfe_f_classif)):\n",
        "        if mask_rfe_f_classif[bool]:\n",
        "            if (bool <= g1_end_f_classif):\n",
        "                group_maps_count_rfe_f_classif[\"Group1\"] += 1\n",
        "            elif (bool <= g2_end_f_classif):\n",
        "                group_maps_count_rfe_f_classif[\"Group2\"] += 1\n",
        "    print(\"After\\t:\\t\", group_maps_count_rfe_f_classif)\n",
        "    best_group_map_rfe_f_classif = sorted(group_maps_count_rfe_f_classif.items(), key = lambda x: x[1], reverse = True)\n",
        "    print(\"Best\\t:\\t\" , best_group_map_rfe_f_classif)\n",
        "    print(\"\\n------------------------------------------------------------------------------------------------------------------------------------------------------------------\\n\")\n",
        "    best_group_rfe_f_classif.append(best_group_map_rfe_f_classif)\n",
        "    all_mask_rfe_f_classif.append(mask_rfe_f_classif)"
      ],
      "execution_count": 64,
      "outputs": [
        {
          "output_type": "stream",
          "text": [
            "Initial\t:\t {'Group1': 0, 'Group2': 0}\n",
            "After\t:\t {'Group1': 6, 'Group2': 4}\n",
            "Best\t:\t [('Group1', 6), ('Group2', 4)]\n",
            "\n",
            "------------------------------------------------------------------------------------------------------------------------------------------------------------------\n",
            "\n",
            "Initial\t:\t {'Group1': 0, 'Group2': 0}\n",
            "After\t:\t {'Group1': 5, 'Group2': 1}\n",
            "Best\t:\t [('Group1', 5), ('Group2', 1)]\n",
            "\n",
            "------------------------------------------------------------------------------------------------------------------------------------------------------------------\n",
            "\n",
            "Initial\t:\t {'Group1': 0, 'Group2': 0}\n",
            "After\t:\t {'Group1': 3, 'Group2': 1}\n",
            "Best\t:\t [('Group1', 3), ('Group2', 1)]\n",
            "\n",
            "------------------------------------------------------------------------------------------------------------------------------------------------------------------\n",
            "\n"
          ],
          "name": "stdout"
        }
      ]
    },
    {
      "cell_type": "code",
      "metadata": {
        "colab_type": "code",
        "id": "_eMPr3FaQTMK",
        "colab": {
          "base_uri": "https://localhost:8080/",
          "height": 292
        },
        "outputId": "d676871d-12e4-44b9-a321-d7723ea108a0"
      },
      "source": [
        "selected_rfe_f_classif = []\n",
        "for i in range(0, len(selection_f_classif)):\n",
        "    selected_rfe_f_classif_group1 = best_group_rfe_f_classif[i][0][0]\n",
        "    selected_rfe_f_classif.append(selected_rfe_f_classif_group1)\n",
        "    print(\"k = \", selection_f_classif[i])\n",
        "    print(\"best Group : \", selected_rfe_f_classif_group1)\n",
        "    print(\"\\n------------------------------------------------------------------------------------------------------------------------------------------------------------------\\n\")"
      ],
      "execution_count": 65,
      "outputs": [
        {
          "output_type": "stream",
          "text": [
            "k =  10\n",
            "best Group :  Group1\n",
            "\n",
            "------------------------------------------------------------------------------------------------------------------------------------------------------------------\n",
            "\n",
            "k =  6\n",
            "best Group :  Group1\n",
            "\n",
            "------------------------------------------------------------------------------------------------------------------------------------------------------------------\n",
            "\n",
            "k =  4\n",
            "best Group :  Group1\n",
            "\n",
            "------------------------------------------------------------------------------------------------------------------------------------------------------------------\n",
            "\n"
          ],
          "name": "stdout"
        }
      ]
    },
    {
      "cell_type": "markdown",
      "metadata": {
        "colab_type": "text",
        "id": "uP48N87PQTMM"
      },
      "source": [
        "##### group data"
      ]
    },
    {
      "cell_type": "code",
      "metadata": {
        "colab_type": "code",
        "id": "JbDv328oQTMM",
        "colab": {
          "base_uri": "https://localhost:8080/",
          "height": 51
        },
        "outputId": "aa89b02a-d72b-428a-d232-1055d0550fa2"
      },
      "source": [
        "g_rfe_f_classif = selected_rfe_f_classif[0]\n",
        "print(g_rfe_f_classif)\n",
        "\n",
        "best_mask_rfe_f_classif = all_mask_rfe_f_classif[0]\n",
        "print(g_maps_f_classif)"
      ],
      "execution_count": 66,
      "outputs": [
        {
          "output_type": "stream",
          "text": [
            "Group1\n",
            "{'Group1': [0, 14], 'Group2': [15, 30]}\n"
          ],
          "name": "stdout"
        }
      ]
    },
    {
      "cell_type": "code",
      "metadata": {
        "colab_type": "code",
        "id": "9YrbhmWTQTMO",
        "colab": {
          "base_uri": "https://localhost:8080/",
          "height": 34
        },
        "outputId": "839bdd95-4281-40c9-8a93-76f36c02d432"
      },
      "source": [
        "g_index_rfe_f_classif = []\n",
        "\n",
        "for bool in range(0,len(best_mask_rfe_f_classif)):\n",
        "    if best_mask_rfe_f_classif[bool]:\n",
        "        if(bool >= g_maps_f_classif[g_rfe_f_classif][0] and bool <= g_maps_f_classif[g_rfe_f_classif][1]):\n",
        "            g_index_rfe_f_classif .append(bool)\n",
        "\n",
        "print(g_index_rfe_f_classif)"
      ],
      "execution_count": 67,
      "outputs": [
        {
          "output_type": "stream",
          "text": [
            "[1, 2, 7, 10, 12, 14]\n"
          ],
          "name": "stdout"
        }
      ]
    },
    {
      "cell_type": "code",
      "metadata": {
        "colab_type": "code",
        "id": "EBbX3ttQQTMQ",
        "colab": {
          "base_uri": "https://localhost:8080/",
          "height": 34
        },
        "outputId": "9d256e21-05dc-4aae-f17a-ffbd1343d1e8"
      },
      "source": [
        "# here i need to change it\n",
        "X_len_f_classif = len(x_train_f_classif)\n",
        "g_X_train_rfe_f_classif = []\n",
        "g_freature_f_classif = len(g_index_rfe_f_classif)\n",
        "\n",
        "for i in range(0, X_len_f_classif):\n",
        "    g_x = []\n",
        "    for j in range(0, g_freature_f_classif):\n",
        "        g_x.append(x_train_f_classif[i][g_index_rfe_f_classif[j]])\n",
        "    g_X_train_rfe_f_classif.append(g_x)\n",
        "\n",
        "g_X_train_rfe_f_classif= np.array(g_X_train_rfe_f_classif)\n",
        "print(g_X_train_rfe_f_classif.shape)"
      ],
      "execution_count": 68,
      "outputs": [
        {
          "output_type": "stream",
          "text": [
            "(10578, 6)\n"
          ],
          "name": "stdout"
        }
      ]
    },
    {
      "cell_type": "code",
      "metadata": {
        "id": "GgIPsiJnU3w3",
        "colab_type": "code",
        "colab": {}
      },
      "source": [
        ""
      ],
      "execution_count": 68,
      "outputs": []
    },
    {
      "cell_type": "markdown",
      "metadata": {
        "id": "3kz2O0EEU4SE",
        "colab_type": "text"
      },
      "source": [
        "## upload feature (not related with sir)"
      ]
    },
    {
      "cell_type": "code",
      "metadata": {
        "id": "4SxXhQ9NYOJ8",
        "colab_type": "code",
        "colab": {
          "base_uri": "https://localhost:8080/",
          "height": 289
        },
        "outputId": "fe652066-8f3e-484a-b111-b0c7754fc801"
      },
      "source": [
        "print(g1_index_chi2)\n",
        "print(g2_index_chi2)\n",
        "print(g1_chi2, g2_chi2)\n",
        "print(g_rfe_chi2)\n",
        "print(g_index_rfe_chi2)\n",
        "print(\"\\n------------------------------------------------------------------------------------------------------------------------------------------------------------------\\n\")\n",
        "\n",
        "print(g1_index_f_classif)\n",
        "print(g2_index_f_classif)\n",
        "print(g1_f_classif, g2_f_classif)\n",
        "print(g_rfe_f_classif)\n",
        "print(g_index_rfe_f_classif)\n",
        "print(\"\\n------------------------------------------------------------------------------------------------------------------------------------------------------------------\\n\")"
      ],
      "execution_count": 69,
      "outputs": [
        {
          "output_type": "stream",
          "text": [
            "[23, 27, 28, 29, 34, 35, 38, 43, 48, 50, 55, 56, 58, 61, 63, 70, 71, 72, 73, 78, 79]\n",
            "[257, 258, 259, 264, 273, 278, 285, 286, 291, 301, 302, 303, 308, 309, 313, 315]\n",
            "Kmer3 PseKNC\n",
            "Group1\n",
            "[3, 4, 10, 11, 12, 14, 17, 19]\n",
            "\n",
            "------------------------------------------------------------------------------------------------------------------------------------------------------------------\n",
            "\n",
            "[28, 29, 33, 34, 43, 48, 50, 55, 56, 58, 63, 71, 72, 73, 78]\n",
            "[257, 258, 259, 263, 264, 273, 285, 286, 301, 302, 303, 306, 308, 313, 315]\n",
            "Kmer3 PseKNC\n",
            "Group1\n",
            "[1, 2, 7, 10, 12, 14]\n",
            "\n",
            "------------------------------------------------------------------------------------------------------------------------------------------------------------------\n",
            "\n"
          ],
          "name": "stdout"
        }
      ]
    },
    {
      "cell_type": "code",
      "metadata": {
        "id": "6Tn8hiT8VFoA",
        "colab_type": "code",
        "colab": {}
      },
      "source": [
        "rfe_chi2_path_X = \"/content/drive/My Drive/pattern/Feature data numpy/rfe_chi2_x.npy\"\n",
        "rfe_chi2_path_feature = \"/content/drive/My Drive/pattern/Feature data numpy/rfe_chi2_feature.npy\"\n",
        "\n",
        "rfe_f_classif_path_X = \"/content/drive/My Drive/pattern/Feature data numpy/rfe_f_classif_x.npy\" \n",
        "rfe_f_classif_path_feature = \"/content/drive/My Drive/pattern/Feature data numpy/rfe_f_classif_feature.npy\" \n",
        "\n",
        "y_path = \"/content/drive/My Drive/pattern/Feature data numpy/y.npy\""
      ],
      "execution_count": 70,
      "outputs": []
    },
    {
      "cell_type": "code",
      "metadata": {
        "id": "WVvowMUXV3c3",
        "colab_type": "code",
        "colab": {}
      },
      "source": [
        "np.save(rfe_chi2_path_X, g_X_train_rfe_chi2)\n",
        "np.save(rfe_chi2_path_feature, np.array(g_index_rfe_chi2))\n",
        "\n",
        "np.save(rfe_f_classif_path_X, g_X_train_rfe_f_classif)\n",
        "np.save(rfe_f_classif_path_feature, np.array(g_index_rfe_f_classif))\n",
        "\n",
        "np.save(y_path, y_training)"
      ],
      "execution_count": 71,
      "outputs": []
    },
    {
      "cell_type": "code",
      "metadata": {
        "id": "8ISOfZGNe-Og",
        "colab_type": "code",
        "colab": {}
      },
      "source": [
        "rfe_chi2_X = np.load(rfe_chi2_path_X)\n",
        "rfe_chi2_feature = np.load(rfe_chi2_path_feature)\n",
        "\n",
        "rfe_f_classif_X = np.load(rfe_f_classif_path_X)\n",
        "rfe_f_classif_feature = np.load(rfe_f_classif_path_feature)\n",
        "\n",
        "y_train_data = np.load(y_path)"
      ],
      "execution_count": 72,
      "outputs": []
    },
    {
      "cell_type": "code",
      "metadata": {
        "id": "MmNxKGbuf9-g",
        "colab_type": "code",
        "colab": {
          "base_uri": "https://localhost:8080/",
          "height": 102
        },
        "outputId": "24e16a19-24aa-47a1-cde9-364d9782220a"
      },
      "source": [
        "print(rfe_chi2_X.shape)\n",
        "print(rfe_chi2_feature.shape)\n",
        "print(rfe_f_classif_X.shape)\n",
        "print(rfe_f_classif_feature.shape)\n",
        "print(y_train_data.shape)"
      ],
      "execution_count": 73,
      "outputs": [
        {
          "output_type": "stream",
          "text": [
            "(10578, 8)\n",
            "(8,)\n",
            "(10578, 6)\n",
            "(6,)\n",
            "(10578,)\n"
          ],
          "name": "stdout"
        }
      ]
    },
    {
      "cell_type": "markdown",
      "metadata": {
        "id": "0tBsvhHai96Q",
        "colab_type": "text"
      },
      "source": [
        "## Find accuracy on SVC, RandomForestRegressor"
      ]
    },
    {
      "cell_type": "markdown",
      "metadata": {
        "id": "vYOgFYSMkII-",
        "colab_type": "text"
      },
      "source": [
        "### init dataset"
      ]
    },
    {
      "cell_type": "code",
      "metadata": {
        "id": "OZLZ7XVeu4jD",
        "colab_type": "code",
        "colab": {
          "base_uri": "https://localhost:8080/",
          "height": 51
        },
        "outputId": "ca82d67c-5d8a-499b-abaa-9623cabe1432"
      },
      "source": [
        "the_Train_X = rfe_chi2_X\n",
        "the_Train_y = y_train_data\n",
        "\n",
        "print(the_Train_X.shape)\n",
        "print(the_Train_y.shape)"
      ],
      "execution_count": 74,
      "outputs": [
        {
          "output_type": "stream",
          "text": [
            "(10578, 8)\n",
            "(10578,)\n"
          ],
          "name": "stdout"
        }
      ]
    },
    {
      "cell_type": "code",
      "metadata": {
        "id": "iHWOKd0zjOwG",
        "colab_type": "code",
        "colab": {
          "base_uri": "https://localhost:8080/",
          "height": 68
        },
        "outputId": "053ce450-46fe-4480-fc5e-65b95cb33a1c"
      },
      "source": [
        "# T3_x_test is my test set (best use this for the bug. fixed) \n",
        "the_feature = rfe_chi2_feature\n",
        "print(the_feature)\n",
        "the_feature_len = len(the_feature)\n",
        "all_index = np.arange(len(T3_x_test[0]))\n",
        "\n",
        "delete_index = np.delete(all_index, the_feature, axis = 0)\n",
        "the_Test_X = np.delete(T3_x_test, delete_index, axis = 1)\n",
        "the_Test_y = y_test\n",
        "print(the_Test_X.shape)\n",
        "print(the_Test_y.shape)"
      ],
      "execution_count": 75,
      "outputs": [
        {
          "output_type": "stream",
          "text": [
            "[ 3  4 10 11 12 14 17 19]\n",
            "(2000, 8)\n",
            "(2000,)\n"
          ],
          "name": "stdout"
        }
      ]
    },
    {
      "cell_type": "markdown",
      "metadata": {
        "id": "g-7udW3svd4n",
        "colab_type": "text"
      },
      "source": [
        "### SVC"
      ]
    },
    {
      "cell_type": "code",
      "metadata": {
        "id": "6k7tt9URvlrw",
        "colab_type": "code",
        "colab": {}
      },
      "source": [
        "def avg(list_value):\n",
        "    return sum(list_value)/len(list_value)"
      ],
      "execution_count": 76,
      "outputs": []
    },
    {
      "cell_type": "code",
      "metadata": {
        "id": "jLal_Tigvnx_",
        "colab_type": "code",
        "colab": {}
      },
      "source": [
        "def crossValidation(c, x_training, y_training, x_test, y_test):\n",
        "    kf = KFold(n_splits = 5, random_state=seed)\n",
        "    train_accuracy_avg_list = []\n",
        "    val_accuracy_avg_list = []\n",
        "    test_accuracy_list = []\n",
        "    for i in range(0, len(c)):\n",
        "        clf = SVC(C = c[i],  random_state = seed)\n",
        "        val_accuracy_list = []\n",
        "        train_accuracy_list = []\n",
        "        count = 1\n",
        "        for train_index, val_index in kf.split(x_training):\n",
        "            print(\"Fold : \",count)\n",
        "            X_train, X_val = x_training[train_index], x_training[val_index]\n",
        "            y_train, y_val = y_training[train_index], y_training[val_index]\n",
        "            \n",
        "            clf.fit(X_train, y_train)\n",
        "\n",
        "            y_val_pred = clf.predict(X_val)\n",
        "            val_accuracy = accuracy_score(y_val, y_val_pred)\n",
        "            val_accuracy_list.append(val_accuracy)\n",
        "\n",
        "            y_train_pred = clf.predict(X_train)\n",
        "            train_accuracy = accuracy_score(y_train, y_train_pred)\n",
        "            train_accuracy_list.append(train_accuracy)\n",
        "\n",
        "            count += 1 \n",
        "\n",
        "        print(\"done\", c[i])\n",
        "        train_accuracy_avg = avg(train_accuracy_list)\n",
        "        train_accuracy_avg_list.append(train_accuracy_avg)\n",
        "        val_accuracy_avg = avg(val_accuracy_list)\n",
        "        val_accuracy_avg_list.append(val_accuracy_avg)\n",
        "\n",
        "        y_test_pred = clf.predict(x_test)\n",
        "        test_accuracy = accuracy_score(y_test, y_test_pred)\n",
        "        test_accuracy_list.append(test_accuracy)\n",
        "    print(\"all done\")\n",
        "    return train_accuracy_avg_list.copy(), val_accuracy_avg_list.copy(), test_accuracy_list.copy()"
      ],
      "execution_count": 77,
      "outputs": []
    },
    {
      "cell_type": "code",
      "metadata": {
        "id": "sAlE7CTpvv-4",
        "colab_type": "code",
        "colab": {}
      },
      "source": [
        "def print_accuracy(c, train_list, val_list, test_accuracy_list):\n",
        "    for i in range(0, len(c)):\n",
        "        print(\"c :\\t\", c[i], \"\\tTrain Accuracy :\\t\", train_list[i], \"\\tVal Accuracy :\\t\", val_list[i], \"\\tTest Accuracy :\\t\", test_accuracy_list[i])"
      ],
      "execution_count": 78,
      "outputs": []
    },
    {
      "cell_type": "markdown",
      "metadata": {
        "id": "E_LPG17Zw0Gy",
        "colab_type": "text"
      },
      "source": [
        "#### test 1"
      ]
    },
    {
      "cell_type": "code",
      "metadata": {
        "id": "m-WwUsMav7AL",
        "colab_type": "code",
        "colab": {
          "base_uri": "https://localhost:8080/",
          "height": 1000
        },
        "outputId": "92623726-5a36-4c94-acce-39791b05ce87"
      },
      "source": [
        "c1_svc = [1 , 10, 20, 30, 40, 50, 60, 70, 80, 90]\n",
        "train_accuracy_avg_list1_svc, val_accuracy_avg_list1_svc,test_accuracy_list1_svc = crossValidation(c1_svc.copy(), the_Train_X.copy(), the_Train_y.copy(), the_Test_X.copy(), the_Test_y.copy())"
      ],
      "execution_count": 79,
      "outputs": [
        {
          "output_type": "stream",
          "text": [
            "Fold :  1\n"
          ],
          "name": "stdout"
        },
        {
          "output_type": "stream",
          "text": [
            "/usr/local/lib/python3.6/dist-packages/sklearn/model_selection/_split.py:296: FutureWarning: Setting a random_state has no effect since shuffle is False. This will raise an error in 0.24. You should leave random_state to its default (None), or set shuffle=True.\n",
            "  FutureWarning\n"
          ],
          "name": "stderr"
        },
        {
          "output_type": "stream",
          "text": [
            "Fold :  2\n",
            "Fold :  3\n",
            "Fold :  4\n",
            "Fold :  5\n",
            "done 1\n",
            "Fold :  1\n",
            "Fold :  2\n",
            "Fold :  3\n",
            "Fold :  4\n",
            "Fold :  5\n",
            "done 10\n",
            "Fold :  1\n",
            "Fold :  2\n",
            "Fold :  3\n",
            "Fold :  4\n",
            "Fold :  5\n",
            "done 20\n",
            "Fold :  1\n",
            "Fold :  2\n",
            "Fold :  3\n",
            "Fold :  4\n",
            "Fold :  5\n",
            "done 30\n",
            "Fold :  1\n",
            "Fold :  2\n",
            "Fold :  3\n",
            "Fold :  4\n",
            "Fold :  5\n",
            "done 40\n",
            "Fold :  1\n",
            "Fold :  2\n",
            "Fold :  3\n",
            "Fold :  4\n",
            "Fold :  5\n",
            "done 50\n",
            "Fold :  1\n",
            "Fold :  2\n",
            "Fold :  3\n",
            "Fold :  4\n",
            "Fold :  5\n",
            "done 60\n",
            "Fold :  1\n",
            "Fold :  2\n",
            "Fold :  3\n",
            "Fold :  4\n",
            "Fold :  5\n",
            "done 70\n",
            "Fold :  1\n",
            "Fold :  2\n",
            "Fold :  3\n",
            "Fold :  4\n",
            "Fold :  5\n",
            "done 80\n",
            "Fold :  1\n",
            "Fold :  2\n",
            "Fold :  3\n",
            "Fold :  4\n",
            "Fold :  5\n",
            "done 90\n",
            "all done\n"
          ],
          "name": "stdout"
        }
      ]
    },
    {
      "cell_type": "code",
      "metadata": {
        "id": "HAUboQQFwpld",
        "colab_type": "code",
        "colab": {
          "base_uri": "https://localhost:8080/",
          "height": 207
        },
        "outputId": "8eec2e14-a6e1-4653-b4ee-7bf0d87fc755"
      },
      "source": [
        "print_accuracy(c1_svc.copy(), train_accuracy_avg_list1_svc.copy(), val_accuracy_avg_list1_svc.copy(), test_accuracy_list1_svc.copy())"
      ],
      "execution_count": 80,
      "outputs": [
        {
          "output_type": "stream",
          "text": [
            "c :\t 1 \tTrain Accuracy :\t 0.7593823132618964 \tVal Accuracy :\t 0.5590655458579683 \tTest Accuracy :\t 0.5905\n",
            "c :\t 10 \tTrain Accuracy :\t 0.8228397959468932 \tVal Accuracy :\t 0.6268499823477098 \tTest Accuracy :\t 0.592\n",
            "c :\t 20 \tTrain Accuracy :\t 0.8450794570540532 \tVal Accuracy :\t 0.6512412911644702 \tTest Accuracy :\t 0.585\n",
            "c :\t 30 \tTrain Accuracy :\t 0.8579363594551037 \tVal Accuracy :\t 0.6705272001680319 \tTest Accuracy :\t 0.5795\n",
            "c :\t 40 \tTrain Accuracy :\t 0.868098888503582 \tVal Accuracy :\t 0.6852753980703142 \tTest Accuracy :\t 0.5875\n",
            "c :\t 50 \tTrain Accuracy :\t 0.8751890645372701 \tVal Accuracy :\t 0.696052366971001 \tTest Accuracy :\t 0.5905\n",
            "c :\t 60 \tTrain Accuracy :\t 0.8794668203128035 \tVal Accuracy :\t 0.7034270468835888 \tTest Accuracy :\t 0.594\n",
            "c :\t 70 \tTrain Accuracy :\t 0.884406352587443 \tVal Accuracy :\t 0.7088155536786032 \tTest Accuracy :\t 0.601\n",
            "c :\t 80 \tTrain Accuracy :\t 0.8885423090872882 \tVal Accuracy :\t 0.7145824898220023 \tTest Accuracy :\t 0.5975\n",
            "c :\t 90 \tTrain Accuracy :\t 0.8912602030114096 \tVal Accuracy :\t 0.7169462878798035 \tTest Accuracy :\t 0.593\n"
          ],
          "name": "stdout"
        }
      ]
    },
    {
      "cell_type": "markdown",
      "metadata": {
        "colab_type": "text",
        "id": "Uj5fC8ZKxBNU"
      },
      "source": [
        "#### test 2"
      ]
    },
    {
      "cell_type": "code",
      "metadata": {
        "colab_type": "code",
        "id": "uzD9fZ1YxBNW",
        "colab": {
          "base_uri": "https://localhost:8080/",
          "height": 1000
        },
        "outputId": "1eaed920-5684-43e5-a79f-32d3587fa227"
      },
      "source": [
        "c2_svc = [80.50, 83.90, 86.20, 88.20, 91.5, 92.5, 94.5, 96.2, 97.8, 99.5]\n",
        "train_accuracy_avg_list2_svc, val_accuracy_avg_list2_svc,test_accuracy_list2_svc = crossValidation(c2_svc.copy(), the_Train_X.copy(), the_Train_y.copy(), the_Test_X.copy(), the_Test_y.copy())"
      ],
      "execution_count": 81,
      "outputs": [
        {
          "output_type": "stream",
          "text": [
            "Fold :  1\n"
          ],
          "name": "stdout"
        },
        {
          "output_type": "stream",
          "text": [
            "/usr/local/lib/python3.6/dist-packages/sklearn/model_selection/_split.py:296: FutureWarning: Setting a random_state has no effect since shuffle is False. This will raise an error in 0.24. You should leave random_state to its default (None), or set shuffle=True.\n",
            "  FutureWarning\n"
          ],
          "name": "stderr"
        },
        {
          "output_type": "stream",
          "text": [
            "Fold :  2\n",
            "Fold :  3\n",
            "Fold :  4\n",
            "Fold :  5\n",
            "done 80.5\n",
            "Fold :  1\n",
            "Fold :  2\n",
            "Fold :  3\n",
            "Fold :  4\n",
            "Fold :  5\n",
            "done 83.9\n",
            "Fold :  1\n",
            "Fold :  2\n",
            "Fold :  3\n",
            "Fold :  4\n",
            "Fold :  5\n",
            "done 86.2\n",
            "Fold :  1\n",
            "Fold :  2\n",
            "Fold :  3\n",
            "Fold :  4\n",
            "Fold :  5\n",
            "done 88.2\n",
            "Fold :  1\n",
            "Fold :  2\n",
            "Fold :  3\n",
            "Fold :  4\n",
            "Fold :  5\n",
            "done 91.5\n",
            "Fold :  1\n",
            "Fold :  2\n",
            "Fold :  3\n",
            "Fold :  4\n",
            "Fold :  5\n",
            "done 92.5\n",
            "Fold :  1\n",
            "Fold :  2\n",
            "Fold :  3\n",
            "Fold :  4\n",
            "Fold :  5\n",
            "done 94.5\n",
            "Fold :  1\n",
            "Fold :  2\n",
            "Fold :  3\n",
            "Fold :  4\n",
            "Fold :  5\n",
            "done 96.2\n",
            "Fold :  1\n",
            "Fold :  2\n",
            "Fold :  3\n",
            "Fold :  4\n",
            "Fold :  5\n",
            "done 97.8\n",
            "Fold :  1\n",
            "Fold :  2\n",
            "Fold :  3\n",
            "Fold :  4\n",
            "Fold :  5\n",
            "done 99.5\n",
            "all done\n"
          ],
          "name": "stdout"
        }
      ]
    },
    {
      "cell_type": "code",
      "metadata": {
        "colab_type": "code",
        "id": "EdmCkUDOxBNb",
        "colab": {
          "base_uri": "https://localhost:8080/",
          "height": 207
        },
        "outputId": "d6977d59-0470-427a-ccf8-86b8607d540a"
      },
      "source": [
        "print_accuracy(c2_svc.copy(), train_accuracy_avg_list2_svc.copy(), val_accuracy_avg_list2_svc.copy(), test_accuracy_list2_svc.copy())"
      ],
      "execution_count": 82,
      "outputs": [
        {
          "output_type": "stream",
          "text": [
            "c :\t 80.5 \tTrain Accuracy :\t 0.8889677320491358 \tVal Accuracy :\t 0.7155279375421756 \tTest Accuracy :\t 0.5985\n",
            "c :\t 83.9 \tTrain Accuracy :\t 0.8900312517515803 \tVal Accuracy :\t 0.7153392144507456 \tTest Accuracy :\t 0.598\n",
            "c :\t 86.2 \tTrain Accuracy :\t 0.8906457245887414 \tVal Accuracy :\t 0.7164737874664272 \tTest Accuracy :\t 0.598\n",
            "c :\t 88.2 \tTrain Accuracy :\t 0.8909057048221891 \tVal Accuracy :\t 0.7168518593000754 \tTest Accuracy :\t 0.596\n",
            "c :\t 91.5 \tTrain Accuracy :\t 0.8915437987700322 \tVal Accuracy :\t 0.7189315672105361 \tTest Accuracy :\t 0.5935\n",
            "c :\t 92.5 \tTrain Accuracy :\t 0.8918273945286549 \tVal Accuracy :\t 0.7198771043093932 \tTest Accuracy :\t 0.5965\n",
            "c :\t 94.5 \tTrain Accuracy :\t 0.8924418617803085 \tVal Accuracy :\t 0.7205389534649881 \tTest Accuracy :\t 0.596\n",
            "c :\t 96.2 \tTrain Accuracy :\t 0.8927254715026995 \tVal Accuracy :\t 0.7201607475633136 \tTest Accuracy :\t 0.5965\n",
            "c :\t 97.8 \tTrain Accuracy :\t 0.8930090784323369 \tVal Accuracy :\t 0.720444346127892 \tTest Accuracy :\t 0.5975\n",
            "c :\t 99.5 \tTrain Accuracy :\t 0.893481749201056 \tVal Accuracy :\t 0.7208227307869346 \tTest Accuracy :\t 0.5975\n"
          ],
          "name": "stdout"
        }
      ]
    },
    {
      "cell_type": "markdown",
      "metadata": {
        "colab_type": "text",
        "id": "19X-IE7OxW4X"
      },
      "source": [
        "#### test 3 (optional)"
      ]
    },
    {
      "cell_type": "code",
      "metadata": {
        "colab_type": "code",
        "id": "GUMGbFNixW4Y",
        "colab": {
          "base_uri": "https://localhost:8080/",
          "height": 1000
        },
        "outputId": "ebf3622b-b4c2-4d22-aba6-403f9eebdf0a"
      },
      "source": [
        "c3_svc = [.05, 0.1, 0.15, 0.20, 0.25, 0.30, 0.35, 0.4, 0.45, 0.55, 0.60, 0.65, 0.7, 0.75, 0.8, 0.85, 0.9, 0.95]\n",
        "train_accuracy_avg_list3_svc, val_accuracy_avg_list3_svc,test_accuracy_list3_svc = crossValidation(c3_svc.copy(), the_Train_X.copy(), the_Train_y.copy(), the_Test_X.copy(), the_Test_y.copy())"
      ],
      "execution_count": 83,
      "outputs": [
        {
          "output_type": "stream",
          "text": [
            "Fold :  1\n"
          ],
          "name": "stdout"
        },
        {
          "output_type": "stream",
          "text": [
            "/usr/local/lib/python3.6/dist-packages/sklearn/model_selection/_split.py:296: FutureWarning: Setting a random_state has no effect since shuffle is False. This will raise an error in 0.24. You should leave random_state to its default (None), or set shuffle=True.\n",
            "  FutureWarning\n"
          ],
          "name": "stderr"
        },
        {
          "output_type": "stream",
          "text": [
            "Fold :  2\n",
            "Fold :  3\n",
            "Fold :  4\n",
            "Fold :  5\n",
            "done 0.05\n",
            "Fold :  1\n",
            "Fold :  2\n",
            "Fold :  3\n",
            "Fold :  4\n",
            "Fold :  5\n",
            "done 0.1\n",
            "Fold :  1\n",
            "Fold :  2\n",
            "Fold :  3\n",
            "Fold :  4\n",
            "Fold :  5\n",
            "done 0.15\n",
            "Fold :  1\n",
            "Fold :  2\n",
            "Fold :  3\n",
            "Fold :  4\n",
            "Fold :  5\n",
            "done 0.2\n",
            "Fold :  1\n",
            "Fold :  2\n",
            "Fold :  3\n",
            "Fold :  4\n",
            "Fold :  5\n",
            "done 0.25\n",
            "Fold :  1\n",
            "Fold :  2\n",
            "Fold :  3\n",
            "Fold :  4\n",
            "Fold :  5\n",
            "done 0.3\n",
            "Fold :  1\n",
            "Fold :  2\n",
            "Fold :  3\n",
            "Fold :  4\n",
            "Fold :  5\n",
            "done 0.35\n",
            "Fold :  1\n",
            "Fold :  2\n",
            "Fold :  3\n",
            "Fold :  4\n",
            "Fold :  5\n",
            "done 0.4\n",
            "Fold :  1\n",
            "Fold :  2\n",
            "Fold :  3\n",
            "Fold :  4\n",
            "Fold :  5\n",
            "done 0.45\n",
            "Fold :  1\n",
            "Fold :  2\n",
            "Fold :  3\n",
            "Fold :  4\n",
            "Fold :  5\n",
            "done 0.55\n",
            "Fold :  1\n",
            "Fold :  2\n",
            "Fold :  3\n",
            "Fold :  4\n",
            "Fold :  5\n",
            "done 0.6\n",
            "Fold :  1\n",
            "Fold :  2\n",
            "Fold :  3\n",
            "Fold :  4\n",
            "Fold :  5\n",
            "done 0.65\n",
            "Fold :  1\n",
            "Fold :  2\n",
            "Fold :  3\n",
            "Fold :  4\n",
            "Fold :  5\n",
            "done 0.7\n",
            "Fold :  1\n",
            "Fold :  2\n",
            "Fold :  3\n",
            "Fold :  4\n",
            "Fold :  5\n",
            "done 0.75\n",
            "Fold :  1\n",
            "Fold :  2\n",
            "Fold :  3\n",
            "Fold :  4\n",
            "Fold :  5\n",
            "done 0.8\n",
            "Fold :  1\n",
            "Fold :  2\n",
            "Fold :  3\n",
            "Fold :  4\n",
            "Fold :  5\n",
            "done 0.85\n",
            "Fold :  1\n",
            "Fold :  2\n",
            "Fold :  3\n",
            "Fold :  4\n",
            "Fold :  5\n",
            "done 0.9\n",
            "Fold :  1\n",
            "Fold :  2\n",
            "Fold :  3\n",
            "Fold :  4\n",
            "Fold :  5\n",
            "done 0.95\n",
            "all done\n"
          ],
          "name": "stdout"
        }
      ]
    },
    {
      "cell_type": "code",
      "metadata": {
        "colab_type": "code",
        "id": "-s7UdqPkxW4c",
        "colab": {
          "base_uri": "https://localhost:8080/",
          "height": 323
        },
        "outputId": "d25513af-8939-46a2-83d0-0c6aca6588d4"
      },
      "source": [
        "print_accuracy(c3_svc.copy(), train_accuracy_avg_list3_svc.copy(), val_accuracy_avg_list3_svc.copy(), test_accuracy_list3_svc.copy())"
      ],
      "execution_count": 84,
      "outputs": [
        {
          "output_type": "stream",
          "text": [
            "c :\t 0.05 \tTrain Accuracy :\t 0.7170301198205834 \tVal Accuracy :\t 0.5019758498795622 \tTest Accuracy :\t 0.5865\n",
            "c :\t 0.1 \tTrain Accuracy :\t 0.7238603267918384 \tVal Accuracy :\t 0.5154912475923618 \tTest Accuracy :\t 0.59\n",
            "c :\t 0.15 \tTrain Accuracy :\t 0.7282326033158979 \tVal Accuracy :\t 0.5225798263372168 \tTest Accuracy :\t 0.5845\n",
            "c :\t 0.2 \tTrain Accuracy :\t 0.7318959169745607 \tVal Accuracy :\t 0.5268318831641843 \tTest Accuracy :\t 0.5905\n",
            "c :\t 0.25 \tTrain Accuracy :\t 0.7339993296832601 \tVal Accuracy :\t 0.5315580939101834 \tTest Accuracy :\t 0.589\n",
            "c :\t 0.3 \tTrain Accuracy :\t 0.7385606812174161 \tVal Accuracy :\t 0.5354334195837634 \tTest Accuracy :\t 0.589\n",
            "c :\t 0.35 \tTrain Accuracy :\t 0.7394823569601133 \tVal Accuracy :\t 0.5377018058963118 \tTest Accuracy :\t 0.5895\n",
            "c :\t 0.4 \tTrain Accuracy :\t 0.7407821827230034 \tVal Accuracy :\t 0.5412937564520238 \tTest Accuracy :\t 0.5875\n",
            "c :\t 0.45 \tTrain Accuracy :\t 0.7427438743531178 \tVal Accuracy :\t 0.5425222664646707 \tTest Accuracy :\t 0.59\n",
            "c :\t 0.55 \tTrain Accuracy :\t 0.7468561957785126 \tVal Accuracy :\t 0.5464924229220574 \tTest Accuracy :\t 0.5895\n",
            "c :\t 0.6 \tTrain Accuracy :\t 0.7484397094608972 \tVal Accuracy :\t 0.5480046655673088 \tTest Accuracy :\t 0.59\n",
            "c :\t 0.65 \tTrain Accuracy :\t 0.7498341034491263 \tVal Accuracy :\t 0.5491392832723324 \tTest Accuracy :\t 0.5905\n",
            "c :\t 0.7 \tTrain Accuracy :\t 0.7514412214856707 \tVal Accuracy :\t 0.5494227030795426 \tTest Accuracy :\t 0.5905\n",
            "c :\t 0.75 \tTrain Accuracy :\t 0.7527883592887672 \tVal Accuracy :\t 0.5511244732243806 \tTest Accuracy :\t 0.589\n",
            "c :\t 0.8 \tTrain Accuracy :\t 0.7540173300978723 \tVal Accuracy :\t 0.5519751795394316 \tTest Accuracy :\t 0.592\n",
            "c :\t 0.85 \tTrain Accuracy :\t 0.7554117687701604 \tVal Accuracy :\t 0.5539605482488481 \tTest Accuracy :\t 0.5915\n",
            "c :\t 0.9 \tTrain Accuracy :\t 0.7564280015671816 \tVal Accuracy :\t 0.5570800430805257 \tTest Accuracy :\t 0.59\n",
            "c :\t 0.95 \tTrain Accuracy :\t 0.7582005735031405 \tVal Accuracy :\t 0.558025490800699 \tTest Accuracy :\t 0.59\n"
          ],
          "name": "stdout"
        }
      ]
    },
    {
      "cell_type": "markdown",
      "metadata": {
        "id": "aeXm0-9qxxuQ",
        "colab_type": "text"
      },
      "source": [
        "### RandomForestRegressor"
      ]
    },
    {
      "cell_type": "markdown",
      "metadata": {
        "id": "ls_mE-AQzPij",
        "colab_type": "text"
      },
      "source": [
        "#### functions"
      ]
    },
    {
      "cell_type": "code",
      "metadata": {
        "id": "By_YxvVGxzkw",
        "colab_type": "code",
        "colab": {}
      },
      "source": [
        "def model_RandomForestRegressor(n_estimators, max_depth, x_training, y_training, x_test, y_test):\n",
        "    kf = KFold(n_splits = 5, random_state=seed)\n",
        "    train_accuracy_avg_list = []\n",
        "    val_accuracy_avg_list = []\n",
        "    test_accuracy_list = []\n",
        "    len_n_estimators = len(n_estimators)\n",
        "    flag = False\n",
        "    if(len_n_estimators > 1 and max_depth[0] is None ):\n",
        "        loop_goes = len_n_estimators\n",
        "        flag = True\n",
        "    else:\n",
        "        loop_goes = len(max_depth)\n",
        "\n",
        "    for i in range(0, loop_goes):\n",
        "        if(len_n_estimators > 1 and max_depth[0] is None ):\n",
        "            regr = RandomForestRegressor(n_estimators = n_estimators[i], max_depth = None, random_state = seed)\n",
        "        else:\n",
        "            regr = RandomForestRegressor(n_estimators = n_estimators[0], max_depth = max_depth[i], random_state = seed)\n",
        "\n",
        "        val_accuracy_list = []\n",
        "        train_accuracy_list = []\n",
        "        count = 1\n",
        "        for train_index, val_index in kf.split(x_training):\n",
        "            print(\"Fold : \",count)\n",
        "            X_train, X_val = x_training[train_index], x_training[val_index]\n",
        "            y_train, y_val = y_training[train_index], y_training[val_index]\n",
        "            \n",
        "            regr.fit(X_train, y_train)\n",
        "            \n",
        "            val_accuracy = regr.score(X_val, y_val)\n",
        "            val_accuracy_list.append(val_accuracy)\n",
        "\n",
        "            train_accuracy = regr.score(X_train, y_train)\n",
        "            train_accuracy_list.append(train_accuracy)\n",
        "\n",
        "            count += 1 \n",
        "        if(flag):\n",
        "            print(\"done\", n_estimators[i])\n",
        "        else :\n",
        "            print(\"done\", max_depth[i])\n",
        "        train_accuracy_avg = avg(train_accuracy_list)\n",
        "        train_accuracy_avg_list.append(train_accuracy_avg)\n",
        "        val_accuracy_avg = avg(val_accuracy_list)\n",
        "        val_accuracy_avg_list.append(val_accuracy_avg)\n",
        "\n",
        "        test_accuracy = regr.score(x_test, y_test)\n",
        "        test_accuracy_list.append(test_accuracy)\n",
        "    print(\"all done\")\n",
        "    return train_accuracy_avg_list.copy(), val_accuracy_avg_list.copy(), test_accuracy_list.copy()"
      ],
      "execution_count": 85,
      "outputs": []
    },
    {
      "cell_type": "code",
      "metadata": {
        "id": "TRRYW8wsx9BS",
        "colab_type": "code",
        "colab": {}
      },
      "source": [
        "def print_accuracy_n_estimators(n_estimators, train_list, val_list, test_accuracy_list):\n",
        "    for i in range(0, len(n_estimators)):\n",
        "        print(\"n_estimators :\\t\", n_estimators[i], \"\\tTrain Accuracy :\\t\", train_list[i], \"\\tVal Accuracy :\\t\", val_list[i], \"\\tTest Accuracy :\\t\", test_accuracy_list[i])"
      ],
      "execution_count": 86,
      "outputs": []
    },
    {
      "cell_type": "code",
      "metadata": {
        "id": "o-PGdK8tzL8G",
        "colab_type": "code",
        "colab": {}
      },
      "source": [
        "def print_accuracy_max_depth(max_depth, train_list, val_list, test_accuracy_list):\n",
        "    for i in range(0, len(max_depth)):\n",
        "        print(\"max_depth :\\t\", max_depth[i], \"\\tTrain Accuracy :\\t\", train_list[i], \"\\tVal Accuracy :\\t\", val_list[i], \"\\tTest Accuracy :\\t\", test_accuracy_list[i])"
      ],
      "execution_count": 87,
      "outputs": []
    },
    {
      "cell_type": "markdown",
      "metadata": {
        "id": "N-bTcjJPyAj1",
        "colab_type": "text"
      },
      "source": [
        "#### test 1"
      ]
    },
    {
      "cell_type": "code",
      "metadata": {
        "id": "nmJ-S_bdyDmP",
        "colab_type": "code",
        "colab": {
          "base_uri": "https://localhost:8080/",
          "height": 1000
        },
        "outputId": "e7e0ea86-a6c1-4c0c-d11f-2cfe5a13b190"
      },
      "source": [
        "n_estimators1 = [50, 100, 150, 200, 250, 300, 350, 400, 450, 500]\n",
        "max_depth1 = [None]\n",
        "train_accuracy_avg_list1, val_accuracy_avg_list1, test_accuracy_list1  = model_RandomForestRegressor(n_estimators1.copy(), max_depth1, the_Train_X.copy(), the_Train_y.copy(), the_Test_X.copy(), the_Test_y.copy())"
      ],
      "execution_count": 88,
      "outputs": [
        {
          "output_type": "stream",
          "text": [
            "Fold :  1\n"
          ],
          "name": "stdout"
        },
        {
          "output_type": "stream",
          "text": [
            "/usr/local/lib/python3.6/dist-packages/sklearn/model_selection/_split.py:296: FutureWarning: Setting a random_state has no effect since shuffle is False. This will raise an error in 0.24. You should leave random_state to its default (None), or set shuffle=True.\n",
            "  FutureWarning\n"
          ],
          "name": "stderr"
        },
        {
          "output_type": "stream",
          "text": [
            "Fold :  2\n",
            "Fold :  3\n",
            "Fold :  4\n",
            "Fold :  5\n",
            "done 50\n",
            "Fold :  1\n",
            "Fold :  2\n",
            "Fold :  3\n",
            "Fold :  4\n",
            "Fold :  5\n",
            "done 100\n",
            "Fold :  1\n",
            "Fold :  2\n",
            "Fold :  3\n",
            "Fold :  4\n",
            "Fold :  5\n",
            "done 150\n",
            "Fold :  1\n",
            "Fold :  2\n",
            "Fold :  3\n",
            "Fold :  4\n",
            "Fold :  5\n",
            "done 200\n",
            "Fold :  1\n",
            "Fold :  2\n",
            "Fold :  3\n",
            "Fold :  4\n",
            "Fold :  5\n",
            "done 250\n",
            "Fold :  1\n",
            "Fold :  2\n",
            "Fold :  3\n",
            "Fold :  4\n",
            "Fold :  5\n",
            "done 300\n",
            "Fold :  1\n",
            "Fold :  2\n",
            "Fold :  3\n",
            "Fold :  4\n",
            "Fold :  5\n",
            "done 350\n",
            "Fold :  1\n",
            "Fold :  2\n",
            "Fold :  3\n",
            "Fold :  4\n",
            "Fold :  5\n",
            "done 400\n",
            "Fold :  1\n",
            "Fold :  2\n",
            "Fold :  3\n",
            "Fold :  4\n",
            "Fold :  5\n",
            "done 450\n",
            "Fold :  1\n",
            "Fold :  2\n",
            "Fold :  3\n",
            "Fold :  4\n",
            "Fold :  5\n",
            "done 500\n",
            "all done\n"
          ],
          "name": "stdout"
        }
      ]
    },
    {
      "cell_type": "code",
      "metadata": {
        "id": "DCl9HULXytMx",
        "colab_type": "code",
        "colab": {
          "base_uri": "https://localhost:8080/",
          "height": 187
        },
        "outputId": "d394e3fb-09bf-46e1-985d-75ebff3dd8b0"
      },
      "source": [
        "print_accuracy_n_estimators(n_estimators1.copy(), train_accuracy_avg_list1.copy(), val_accuracy_avg_list1.copy(), test_accuracy_list1.copy())"
      ],
      "execution_count": 89,
      "outputs": [
        {
          "output_type": "stream",
          "text": [
            "n_estimators :\t 50 \tTrain Accuracy :\t 0.9760908549213358 \tVal Accuracy :\t 0.17189197115955415 \tTest Accuracy :\t -0.8768914630878506\n",
            "n_estimators :\t 100 \tTrain Accuracy :\t 0.976246984929929 \tVal Accuracy :\t 0.17208481512427448 \tTest Accuracy :\t -0.8504184398580645\n",
            "n_estimators :\t 150 \tTrain Accuracy :\t 0.9762977119826937 \tVal Accuracy :\t 0.17224897051093374 \tTest Accuracy :\t -0.8428029480585137\n",
            "n_estimators :\t 200 \tTrain Accuracy :\t 0.9763095830685234 \tVal Accuracy :\t 0.1721655869188477 \tTest Accuracy :\t -0.8388589976444769\n",
            "n_estimators :\t 250 \tTrain Accuracy :\t 0.9763242271725436 \tVal Accuracy :\t 0.17190587313131284 \tTest Accuracy :\t -0.8311678926134247\n",
            "n_estimators :\t 300 \tTrain Accuracy :\t 0.9763195777983087 \tVal Accuracy :\t 0.17193671666502341 \tTest Accuracy :\t -0.830260605797855\n",
            "n_estimators :\t 350 \tTrain Accuracy :\t 0.9763193328409582 \tVal Accuracy :\t 0.17185292452840353 \tTest Accuracy :\t -0.8339097653394218\n",
            "n_estimators :\t 400 \tTrain Accuracy :\t 0.9763137586339499 \tVal Accuracy :\t 0.1717952701387194 \tTest Accuracy :\t -0.8314121194733435\n",
            "n_estimators :\t 450 \tTrain Accuracy :\t 0.9763384012854933 \tVal Accuracy :\t 0.17182792928139828 \tTest Accuracy :\t -0.8313781796463096\n",
            "n_estimators :\t 500 \tTrain Accuracy :\t 0.9763432223887332 \tVal Accuracy :\t 0.1719105842150414 \tTest Accuracy :\t -0.8296615624812758\n"
          ],
          "name": "stdout"
        }
      ]
    },
    {
      "cell_type": "markdown",
      "metadata": {
        "id": "5rYs3aSry2O3",
        "colab_type": "text"
      },
      "source": [
        "#### test 2"
      ]
    },
    {
      "cell_type": "code",
      "metadata": {
        "id": "SqlBRk0By5kc",
        "colab_type": "code",
        "colab": {
          "base_uri": "https://localhost:8080/",
          "height": 700
        },
        "outputId": "15ed1068-de45-4881-aec9-b94174c7ffa8"
      },
      "source": [
        "n_estimators2 = [200]\n",
        "max_depth2 = [1,5,10,15,20,30]\n",
        "train_accuracy_avg_list2, val_accuracy_avg_list2, test_accuracy_list2  = model_RandomForestRegressor(n_estimators2.copy(), max_depth2, the_Train_X.copy(), the_Train_y.copy(), the_Test_X.copy(), the_Test_y.copy())"
      ],
      "execution_count": 90,
      "outputs": [
        {
          "output_type": "stream",
          "text": [
            "Fold :  1\n"
          ],
          "name": "stdout"
        },
        {
          "output_type": "stream",
          "text": [
            "/usr/local/lib/python3.6/dist-packages/sklearn/model_selection/_split.py:296: FutureWarning: Setting a random_state has no effect since shuffle is False. This will raise an error in 0.24. You should leave random_state to its default (None), or set shuffle=True.\n",
            "  FutureWarning\n"
          ],
          "name": "stderr"
        },
        {
          "output_type": "stream",
          "text": [
            "Fold :  2\n",
            "Fold :  3\n",
            "Fold :  4\n",
            "Fold :  5\n",
            "done 1\n",
            "Fold :  1\n",
            "Fold :  2\n",
            "Fold :  3\n",
            "Fold :  4\n",
            "Fold :  5\n",
            "done 5\n",
            "Fold :  1\n",
            "Fold :  2\n",
            "Fold :  3\n",
            "Fold :  4\n",
            "Fold :  5\n",
            "done 10\n",
            "Fold :  1\n",
            "Fold :  2\n",
            "Fold :  3\n",
            "Fold :  4\n",
            "Fold :  5\n",
            "done 15\n",
            "Fold :  1\n",
            "Fold :  2\n",
            "Fold :  3\n",
            "Fold :  4\n",
            "Fold :  5\n",
            "done 20\n",
            "Fold :  1\n",
            "Fold :  2\n",
            "Fold :  3\n",
            "Fold :  4\n",
            "Fold :  5\n",
            "done 30\n",
            "all done\n"
          ],
          "name": "stdout"
        }
      ]
    },
    {
      "cell_type": "code",
      "metadata": {
        "id": "1zDfhTZFzJ_V",
        "colab_type": "code",
        "colab": {
          "base_uri": "https://localhost:8080/",
          "height": 119
        },
        "outputId": "5e9d20a3-d81c-47ab-9a6e-655713b630ad"
      },
      "source": [
        "print_accuracy_max_depth(max_depth2.copy(), train_accuracy_avg_list2.copy(), val_accuracy_avg_list2.copy(), test_accuracy_list2.copy())"
      ],
      "execution_count": 91,
      "outputs": [
        {
          "output_type": "stream",
          "text": [
            "max_depth :\t 1 \tTrain Accuracy :\t 0.18364540514011402 \tVal Accuracy :\t 0.030292010939823144 \tTest Accuracy :\t -0.20823505418817878\n",
            "max_depth :\t 5 \tTrain Accuracy :\t 0.8083754993926895 \tVal Accuracy :\t 0.12119364221897473 \tTest Accuracy :\t -0.6830799301912751\n",
            "max_depth :\t 10 \tTrain Accuracy :\t 0.9416550154111147 \tVal Accuracy :\t 0.16627360207716768 \tTest Accuracy :\t -0.7593854324633924\n",
            "max_depth :\t 15 \tTrain Accuracy :\t 0.972194324483288 \tVal Accuracy :\t 0.17192578550061588 \tTest Accuracy :\t -0.8327327583144284\n",
            "max_depth :\t 20 \tTrain Accuracy :\t 0.9761414435145571 \tVal Accuracy :\t 0.1722904893218679 \tTest Accuracy :\t -0.8381171850456912\n",
            "max_depth :\t 30 \tTrain Accuracy :\t 0.9763095830685234 \tVal Accuracy :\t 0.1721655869188477 \tTest Accuracy :\t -0.8388589976444769\n"
          ],
          "name": "stdout"
        }
      ]
    }
  ]
}